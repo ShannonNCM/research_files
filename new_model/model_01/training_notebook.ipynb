{
 "cells": [
  {
   "cell_type": "code",
   "execution_count": 1,
   "id": "f51d5203",
   "metadata": {},
   "outputs": [],
   "source": [
    "#import libraries\n",
    "import numpy as np\n",
    "from ase.io import read, write\n",
    "from ase import Atoms\n",
    "import torch\n",
    "import yaml\n",
    "import json\n",
    "import matplotlib.pyplot as plt\n",
    "import pandas as pd\n",
    "import os\n",
    "import sys\n",
    "os.makedirs('img_res', exist_ok=True) #creates a folder to store the loss graphs\n",
    "os.makedirs('test_res', exist_ok=True) #creates a folder to store the files of the testing of the model\n",
    "import functions as f #import functions used to plot"
   ]
  },
  {
   "cell_type": "code",
   "execution_count": 16,
   "id": "639216f7",
   "metadata": {},
   "outputs": [],
   "source": [
    "#I found a warning regarding the key names for energy and forces, the label changes from 'energy' to 'REF_energy'\n",
    "input_file = \"251030_training_data_lt_0eV.xyz\"\n",
    "output_file = \"251030_training_data_lt_0eV_fixed.xyz\"\n",
    "\n",
    "with open(input_file, \"r\") as f:\n",
    "    lines = f.readlines()\n",
    "\n",
    "new_lines = []\n",
    "for line in lines:\n",
    "    # Fix energy key in header lines\n",
    "    if \"energy=\" in line:\n",
    "        line = line.replace(\"energy=\", \"REF_energy=\")\n",
    "    # Fix forces key in Properties line\n",
    "    if \"Properties=\" in line and \"forces:R:3\" in line:\n",
    "        line = line.replace(\"forces:R:3\", \"REF_forces:R:3\")\n",
    "    new_lines.append(line)\n",
    "\n",
    "# Write the fixed file\n",
    "with open(output_file, \"w\") as f:\n",
    "    f.writelines(new_lines)"
   ]
  },
  {
   "cell_type": "code",
   "execution_count": 95,
   "id": "fc46ac95",
   "metadata": {},
   "outputs": [],
   "source": [
    "#importing the full data (this is in case I have like the whole data in one file)\n",
    "db = read('251030_training_data_lt_0eV_fixed.xyz', ':')"
   ]
  },
  {
   "cell_type": "code",
   "execution_count": 96,
   "id": "80c5abf0",
   "metadata": {},
   "outputs": [],
   "source": [
    "#splitting the data into the training and test sets\n",
    "write('train_01.xyz', db[:520])\n",
    "write('test_01.xyz', db[520:])"
   ]
  },
  {
   "cell_type": "code",
   "execution_count": 111,
   "id": "74fa96e2",
   "metadata": {},
   "outputs": [
    {
     "data": {
      "text/plain": [
       "'model_scaleshift_lr0.0001_25epochs_25batch'"
      ]
     },
     "execution_count": 111,
     "metadata": {},
     "output_type": "execute_result"
    }
   ],
   "source": [
    "#setting the model name based on model number and epochs\n",
    "device = 'cpu'\n",
    "''' model_num:\n",
    "    1 -> this indicates the model using 250 training data\n",
    "    2 -> this indicates the model using 520 training data which is 80% of the data set\n",
    "    3,4 -> this indicates the model using different values of learning rate 0.005, 0.0001 '''\n",
    "model_id = 'scaleshift_lr0.0001'\n",
    "#model_id = 'mace_lr0.0001'\n",
    "#model_num = 4\n",
    "''' num_epochs:\n",
    "    sets the number of epochs used for running the trainig'''\n",
    "num_epoch = 25\n",
    "''' batch_size:\n",
    "    sets the batch size for training'''\n",
    "batch_size = 25\n",
    "''' model_name:\n",
    "    generates the name of the model based on the number of epochs and the model number using the 'model_num' variable '''\n",
    "model_name = f'model_{model_id}_{num_epoch}epochs_{batch_size}batch'\n",
    "model_name"
   ]
  },
  {
   "cell_type": "code",
   "execution_count": 112,
   "id": "3ff8e33c",
   "metadata": {},
   "outputs": [],
   "source": [
    "#this writes the yml file\n",
    "config = {\n",
    "    \"model\": \"ScaleShiftMACE\",\n",
    "    #\"model\": \"MACE\",\n",
    "    \"num_channels\": 32,\n",
    "    \"max_L\": 0,\n",
    "    \"r_max\": 4.0,\n",
    "    \"name\": model_name,\n",
    "    \"train_file\": f\"train_01.xyz\",\n",
    "    \"valid_fraction\": 0.01,\n",
    "    \"test_file\": f\"test_01.xyz\",\n",
    "    \"energy_key\": \"REF_energy\",\n",
    "    \"forces_key\": \"REF_forces\",\n",
    "    \"batch_size\": batch_size,\n",
    "    \"max_num_epochs\": num_epoch,\n",
    "    \"optimizer\" : \"adam\",\n",
    "    \"lr\":0.0001,\n",
    "    \"device\": device,\n",
    "    \"seed\": 123\n",
    "}\n",
    "with open(\"config_new_model.yml\", \"w\") as f:\n",
    "    yaml.dump(config, f, sort_keys=False)"
   ]
  },
  {
   "cell_type": "code",
   "execution_count": 113,
   "id": "bb25a34f",
   "metadata": {},
   "outputs": [
    {
     "name": "stdout",
     "output_type": "stream",
     "text": [
      "2025-10-31 00:39:47.801 INFO: ===========VERIFYING SETTINGS===========\n",
      "2025-10-31 00:39:47.801 INFO: MACE version: 0.3.14\n",
      "2025-10-31 00:39:47.802 INFO: Using CPU\n",
      "2025-10-31 00:39:47.841 INFO: ===========LOADING INPUT DATA===========\n",
      "2025-10-31 00:39:47.842 INFO: Using heads: ['Default']\n",
      "2025-10-31 00:39:47.843 INFO: Using the key specifications to parse data:\n",
      "2025-10-31 00:39:47.843 INFO: Default: KeySpecification(info_keys={'energy': 'REF_energy', 'stress': 'REF_stress', 'virials': 'REF_virials', 'dipole': 'dipole', 'head': 'head', 'elec_temp': 'elec_temp', 'total_charge': 'total_charge', 'polarizability': 'polarizability', 'total_spin': 'total_spin'}, arrays_keys={'forces': 'REF_forces', 'charges': 'REF_charges'})\n",
      "2025-10-31 00:39:47.843 INFO: =============    Processing head Default     ===========\n",
      "2025-10-31 00:39:47.916 INFO: Using isolated atom energies from training file\n",
      "2025-10-31 00:39:47.926 INFO: Training set 1/1 [energy: 517, stress: 0, virials: 0, dipole components: 0, head: 517, elec_temp: 0, total_charge: 0, polarizability: 0, total_spin: 0, forces: 517, charges: 0]\n",
      "2025-10-31 00:39:47.928 INFO: Total Training set [energy: 517, stress: 0, virials: 0, dipole components: 0, head: 517, elec_temp: 0, total_charge: 0, polarizability: 0, total_spin: 0, forces: 517, charges: 0]\n",
      "2025-10-31 00:39:47.929 INFO: No validation set provided, splitting training data instead.\n",
      "2025-10-31 00:39:47.929 INFO: Using random 1% of training set for validation with following indices: [5, 302, 291, 153, 461]\n",
      "2025-10-31 00:39:47.931 INFO: Random Split Training set [energy: 512, stress: 0, virials: 0, dipole components: 0, head: 512, elec_temp: 0, total_charge: 0, polarizability: 0, total_spin: 0, forces: 512, charges: 0]\n",
      "2025-10-31 00:39:47.931 INFO: Random Split Validation set [energy: 5, stress: 0, virials: 0, dipole components: 0, head: 5, elec_temp: 0, total_charge: 0, polarizability: 0, total_spin: 0, forces: 5, charges: 0]\n",
      "2025-10-31 00:39:47.955 INFO: Test set 1/1 [energy: 110, stress: 0, virials: 0, dipole components: 0, head: 110, elec_temp: 0, total_charge: 0, polarizability: 0, total_spin: 0, forces: 110, charges: 0]\n",
      "2025-10-31 00:39:47.955 INFO: Total Test set [energy: 110, stress: 0, virials: 0, dipole components: 0, head: 110, elec_temp: 0, total_charge: 0, polarizability: 0, total_spin: 0, forces: 110, charges: 0]\n",
      "2025-10-31 00:39:47.956 INFO: Total number of configurations: train=512, valid=5, tests=[Fe13Si1B1_Default: 110],\n",
      "2025-10-31 00:39:47.956 WARNING: Validation batch size (10) is larger than the number of validation data (5)\n",
      "2025-10-31 00:39:47.957 INFO: Atomic Numbers used: [5, 14, 26]\n",
      "2025-10-31 00:39:47.958 INFO: Atomic Energies used (z: eV) for head Default: {5: -0.27559471, 14: -0.81049333, 26: -3.283081}\n",
      "2025-10-31 00:39:47.958 INFO: Processing datasets for head 'Default'\n",
      "2025-10-31 00:39:48.213 INFO: Combining 1 list datasets for head 'Default'\n",
      "2025-10-31 00:39:48.221 INFO: Head 'Default' training dataset size: 512\n",
      "2025-10-31 00:39:48.223 INFO: Computing average number of neighbors\n",
      "2025-10-31 00:39:48.295 INFO: Average number of neighbors: 18.061158798283262\n",
      "2025-10-31 00:39:48.296 INFO: During training the following quantities will be reported: energy, forces\n",
      "2025-10-31 00:39:48.296 INFO: ===========MODEL DETAILS===========\n",
      "2025-10-31 00:39:48.358 INFO: Building model\n",
      "2025-10-31 00:39:48.359 INFO: Message passing with 32 channels and max_L=0 (32x0e)\n",
      "2025-10-31 00:39:48.360 INFO: 2 layers, each with correlation order: 3 (body order: 4) and spherical harmonics up to: l=3\n",
      "2025-10-31 00:39:48.360 INFO: 8 radial and 5 basis functions\n",
      "2025-10-31 00:39:48.360 INFO: Radial cutoff: 4.0 A (total receptive field for each atom: 8.0 A)\n",
      "2025-10-31 00:39:48.361 INFO: Distance transform for radial basis functions: None\n",
      "2025-10-31 00:39:48.361 INFO: Hidden irreps: 32x0e\n",
      "2025-10-31 00:39:49.037 INFO: Total number of parameters: 58256\n",
      "2025-10-31 00:39:49.038 INFO: \n",
      "2025-10-31 00:39:49.038 INFO: ===========OPTIMIZER INFORMATION===========\n",
      "2025-10-31 00:39:49.038 INFO: Using ADAM as parameter optimizer\n",
      "2025-10-31 00:39:49.039 INFO: Batch size: 25\n",
      "2025-10-31 00:39:49.039 INFO: Number of gradient updates: 512\n",
      "2025-10-31 00:39:49.039 INFO: Learning rate: 0.0001, weight decay: 5e-07\n",
      "2025-10-31 00:39:49.040 INFO: WeightedEnergyForcesLoss(energy_weight=1.000, forces_weight=100.000)\n",
      "2025-10-31 00:39:49.040 INFO: Using gradient clipping with tolerance=10.000\n",
      "2025-10-31 00:39:49.041 INFO: \n",
      "2025-10-31 00:39:49.041 INFO: ===========TRAINING===========\n",
      "2025-10-31 00:39:49.041 INFO: Started training, reporting errors on validation set\n",
      "2025-10-31 00:39:49.041 INFO: Loss metrics on validation set\n",
      "2025-10-31 00:39:49.112 INFO: Initial: head: Default, loss=27.97454679, RMSE_E_per_atom= 1650.60 meV, RMSE_F= 1171.10 meV / A\n",
      "2025-10-31 00:39:56.023 INFO: Epoch 0: head: Default, loss=27.83380244, RMSE_E_per_atom= 1652.80 meV, RMSE_F= 1168.06 meV / A\n",
      "2025-10-31 00:40:02.711 INFO: Epoch 1: head: Default, loss=27.69729997, RMSE_E_per_atom= 1655.08 meV, RMSE_F= 1165.11 meV / A\n",
      "2025-10-31 00:40:09.278 INFO: Epoch 2: head: Default, loss=27.57259420, RMSE_E_per_atom= 1657.62 meV, RMSE_F= 1162.39 meV / A\n",
      "2025-10-31 00:40:15.905 INFO: Epoch 3: head: Default, loss=27.45694828, RMSE_E_per_atom= 1660.38 meV, RMSE_F= 1159.86 meV / A\n",
      "2025-10-31 00:40:22.608 INFO: Epoch 4: head: Default, loss=27.34214904, RMSE_E_per_atom= 1662.86 meV, RMSE_F= 1157.35 meV / A\n",
      "2025-10-31 00:40:29.244 INFO: Epoch 5: head: Default, loss=27.23556882, RMSE_E_per_atom= 1664.77 meV, RMSE_F= 1155.02 meV / A\n",
      "2025-10-31 00:40:35.856 INFO: Epoch 6: head: Default, loss=27.13603714, RMSE_E_per_atom= 1667.91 meV, RMSE_F= 1152.82 meV / A\n",
      "2025-10-31 00:40:42.444 INFO: Epoch 7: head: Default, loss=27.03810094, RMSE_E_per_atom= 1670.46 meV, RMSE_F= 1150.65 meV / A\n",
      "2025-10-31 00:40:49.054 INFO: Epoch 8: head: Default, loss=26.93745136, RMSE_E_per_atom= 1672.46 meV, RMSE_F= 1148.43 meV / A\n",
      "2025-10-31 00:40:55.649 INFO: Epoch 9: head: Default, loss=26.82986485, RMSE_E_per_atom= 1674.77 meV, RMSE_F= 1146.06 meV / A\n",
      "2025-10-31 00:41:02.107 INFO: Epoch 10: head: Default, loss=26.72460555, RMSE_E_per_atom= 1677.32 meV, RMSE_F= 1143.72 meV / A\n",
      "2025-10-31 00:41:08.670 INFO: Epoch 11: head: Default, loss=26.61010250, RMSE_E_per_atom= 1679.44 meV, RMSE_F= 1141.18 meV / A\n",
      "2025-10-31 00:41:15.226 INFO: Epoch 12: head: Default, loss=26.49153015, RMSE_E_per_atom= 1681.80 meV, RMSE_F= 1138.55 meV / A\n",
      "2025-10-31 00:41:21.771 INFO: Epoch 13: head: Default, loss=26.36741960, RMSE_E_per_atom= 1683.74 meV, RMSE_F= 1135.79 meV / A\n",
      "2025-10-31 00:41:28.372 INFO: Epoch 14: head: Default, loss=26.23272038, RMSE_E_per_atom= 1686.05 meV, RMSE_F= 1132.79 meV / A\n",
      "2025-10-31 00:41:34.984 INFO: Epoch 15: head: Default, loss=26.08715753, RMSE_E_per_atom= 1687.86 meV, RMSE_F= 1129.54 meV / A\n",
      "2025-10-31 00:41:41.352 INFO: Epoch 16: head: Default, loss=25.92973150, RMSE_E_per_atom= 1688.66 meV, RMSE_F= 1126.04 meV / A\n",
      "2025-10-31 00:41:47.721 INFO: Epoch 17: head: Default, loss=25.75687686, RMSE_E_per_atom= 1691.43 meV, RMSE_F= 1122.16 meV / A\n",
      "2025-10-31 00:41:54.110 INFO: Epoch 18: head: Default, loss=25.57485155, RMSE_E_per_atom= 1693.00 meV, RMSE_F= 1118.07 meV / A\n",
      "2025-10-31 00:42:00.540 INFO: Epoch 19: head: Default, loss=25.35353699, RMSE_E_per_atom= 1693.62 meV, RMSE_F= 1113.10 meV / A\n",
      "2025-10-31 00:42:07.064 INFO: Epoch 20: head: Default, loss=25.13806420, RMSE_E_per_atom= 1694.70 meV, RMSE_F= 1108.23 meV / A\n",
      "2025-10-31 00:42:13.563 INFO: Epoch 21: head: Default, loss=24.89071415, RMSE_E_per_atom= 1694.91 meV, RMSE_F= 1102.64 meV / A\n",
      "2025-10-31 00:42:20.154 INFO: Epoch 22: head: Default, loss=24.64167056, RMSE_E_per_atom= 1696.23 meV, RMSE_F= 1096.96 meV / A\n",
      "2025-10-31 00:42:26.697 INFO: Epoch 23: head: Default, loss=24.35392689, RMSE_E_per_atom= 1696.95 meV, RMSE_F= 1090.37 meV / A\n",
      "2025-10-31 00:42:33.299 INFO: Epoch 24: head: Default, loss=24.04667519, RMSE_E_per_atom= 1696.69 meV, RMSE_F= 1083.30 meV / A\n",
      "2025-10-31 00:42:33.309 INFO: Training complete\n",
      "2025-10-31 00:42:33.310 INFO: \n",
      "2025-10-31 00:42:33.310 INFO: ===========RESULTS===========\n",
      "2025-10-31 00:42:33.340 INFO: Loading checkpoint: ./checkpoints/model_scaleshift_lr0.0001_25epochs_25batch_run-123_epoch-24.pt\n",
      "2025-10-31 00:42:33.348 INFO: Loaded Stage one model from epoch 24 for evaluation\n",
      "2025-10-31 00:42:33.349 INFO: Saving model to checkpoints/model_scaleshift_lr0.0001_25epochs_25batch_run-123.model\n",
      "2025-10-31 00:42:33.546 INFO: Compiling model, saving metadata to model_scaleshift_lr0.0001_25epochs_25batch_compiled.model\n",
      "2025-10-31 00:42:33.984 INFO: Computing metrics for training, validation, and test sets\n",
      "2025-10-31 00:42:33.985 INFO: Skipping evaluation for heads: ['pt_head']\n",
      "2025-10-31 00:42:33.986 INFO: Evaluating train_Default ...\n",
      "2025-10-31 00:42:36.612 INFO: Evaluating valid_Default ...\n",
      "2025-10-31 00:42:36.651 INFO: Error-table on TRAIN and VALID:\n",
      "+---------------+---------------------+------------------+-------------------+\n",
      "|  config_type  | RMSE E / meV / atom | RMSE F / meV / A | relative F RMSE % |\n",
      "+---------------+---------------------+------------------+-------------------+\n",
      "| train_Default |         2326.8      |     142717.5     |      10666.14     |\n",
      "| valid_Default |         1696.7      |       1083.3     |         93.95     |\n",
      "+---------------+---------------------+------------------+-------------------+\n",
      "2025-10-31 00:42:36.651 INFO: Evaluating Fe13Si1B1_Default ...\n",
      "2025-10-31 00:42:37.509 INFO: Error-table on TEST:\n",
      "+-------------------+---------------------+------------------+-------------------+\n",
      "|    config_type    | RMSE E / meV / atom | RMSE F / meV / A | relative F RMSE % |\n",
      "+-------------------+---------------------+------------------+-------------------+\n",
      "| Fe13Si1B1_Default |         3788.3      |       2308.9     |         97.34     |\n",
      "+-------------------+---------------------+------------------+-------------------+\n",
      "2025-10-31 00:42:37.653 INFO: Done\n"
     ]
    }
   ],
   "source": [
    "#Perform training\n",
    "import warnings\n",
    "warnings.filterwarnings('ignore')\n",
    "from mace.cli.run_train import main as mace_run_train_main\n",
    "import sys\n",
    "import logging\n",
    "\n",
    "#defining the training function\n",
    "def train_mace(config_file_path):\n",
    "    logging.getLogger().handlers.clear()\n",
    "    sys.argv = ['program', '--config', config_file_path]\n",
    "    mace_run_train_main()\n",
    "\n",
    "#calling the function\n",
    "train_mace('config_new_model.yml') # use the name of the config file that was created"
   ]
  },
  {
   "cell_type": "code",
   "execution_count": 114,
   "id": "35e797c7",
   "metadata": {},
   "outputs": [],
   "source": [
    "#reading the information on the results file\n",
    "results = f'results/{model_name}_run-123_train.txt' #reading the file where the training results is stored\n",
    "data = [] #where the data from the 'results' file will be stored\n",
    "with open(results, 'r') as f:\n",
    "    for line in f:\n",
    "        try:\n",
    "            data.append(json.loads(line))\n",
    "        except json.JSONDecodeError:\n",
    "            continue"
   ]
  },
  {
   "cell_type": "code",
   "execution_count": 115,
   "id": "9bb576e0",
   "metadata": {},
   "outputs": [
    {
     "data": {
      "text/plain": [
       "'results/model_scaleshift_lr0.0001_25epochs_25batch_run-123_train.txt'"
      ]
     },
     "execution_count": 115,
     "metadata": {},
     "output_type": "execute_result"
    }
   ],
   "source": [
    "results"
   ]
  },
  {
   "cell_type": "code",
   "execution_count": 116,
   "id": "18168ab7",
   "metadata": {},
   "outputs": [
    {
     "data": {
      "image/png": "[encoded data removed]",
      "text/plain": [
       "<Figure size 640x480 with 1 Axes>"
      ]
     },
     "metadata": {},
     "output_type": "display_data"
    },
    {
     "data": {
      "image/png": "[encoded data removed]",
      "text/plain": [
       "<Figure size 640x480 with 1 Axes>"
      ]
     },
     "metadata": {},
     "output_type": "display_data"
    }
   ],
   "source": [
    "#saving the data in a dataframe to be able to work with it in an easier way\n",
    "df = pd.DataFrame(data)\n",
    "#separating the training and validation results\n",
    "train_df = df[df['mode']=='opt'].copy()\n",
    "val_df = df[df['mode']=='eval'].copy().dropna()\n",
    "#train_df = train_df.groupby('epoch', as_index=False)['loss'].last()\n",
    "train_df = train_df.groupby('epoch', as_index=False)['loss'].mean()\n",
    "train_df['epoch'] += 1\n",
    "val_df['epoch'] += 1\n",
    "\n",
    "#plotting the dataframe\n",
    "import functions as f\n",
    "f.plot_mae(val_df, 'epoch', ['mae_e','mae_f'])"
   ]
  },
  {
   "cell_type": "code",
   "execution_count": 117,
   "id": "02933d78",
   "metadata": {},
   "outputs": [
    {
     "data": {
      "image/png": "[encoded data removed]",
      "text/plain": [
       "<Figure size 640x480 with 1 Axes>"
      ]
     },
     "metadata": {},
     "output_type": "display_data"
    },
    {
     "data": {
      "image/png": "[encoded data removed]",
      "text/plain": [
       "<Figure size 640x480 with 1 Axes>"
      ]
     },
     "metadata": {},
     "output_type": "display_data"
    },
    {
     "data": {
      "image/png": "[encoded data removed]",
      "text/plain": [
       "<Figure size 640x480 with 1 Axes>"
      ]
     },
     "metadata": {},
     "output_type": "display_data"
    }
   ],
   "source": [
    "#plotting the validation and loss error\n",
    "f.plot_loss([(train_df, 'train'),(val_df,'val')],'epoch','loss',model_name)"
   ]
  },
  {
   "cell_type": "code",
   "execution_count": 118,
   "id": "9a0749e0",
   "metadata": {},
   "outputs": [],
   "source": [
    "#the model can be evaluated using this\n",
    "from mace.cli.eval_configs import main as mace_eval_configs_main\n",
    "import sys\n",
    "\n",
    "def eval_mace(model, configs, output, device=device):\n",
    "    sys.argv=['program', '--configs', configs, '--model', model, '--output', output, '--device', device]\n",
    "    mace_eval_configs_main()"
   ]
  },
  {
   "cell_type": "code",
   "execution_count": 119,
   "id": "66eb67bb",
   "metadata": {},
   "outputs": [
    {
     "name": "stdout",
     "output_type": "stream",
     "text": [
      "2025-10-31 00:42:38.023 INFO: Using CPU\n"
     ]
    }
   ],
   "source": [
    "#evaluating the set on both the training and test datasets\n",
    "'''eval_mace(model=f'{model_name}.model',\n",
    "          configs='train_01.xyz',\n",
    "          output=f'test_res/{model_name}_train.xyz')'''\n",
    "\n",
    "eval_mace(model=f'{model_name}.model',\n",
    "          configs='test_01.xyz',\n",
    "          output=f'test_res/{model_name}_test.xyz')"
   ]
  },
  {
   "cell_type": "code",
   "execution_count": 128,
   "id": "ad4980f8",
   "metadata": {},
   "outputs": [
    {
     "data": {
      "application/vnd.microsoft.datawrangler.viewer.v0+json": {
       "columns": [
        {
         "name": "index",
         "rawType": "int64",
         "type": "integer"
        },
        {
         "name": "REF_energy",
         "rawType": "float64",
         "type": "float"
        },
        {
         "name": "MACE_energy",
         "rawType": "float64",
         "type": "float"
        }
       ],
       "ref": "5f302cde-cda2-4230-80cb-893fa3ae00a6",
       "rows": [
        [
         "0",
         "-107.74709495",
         "-93.91124133537673"
        ],
        [
         "1",
         "-108.52016767",
         "-94.04534612473985"
        ],
        [
         "2",
         "-107.69587389",
         "-93.90067156147539"
        ],
        [
         "3",
         "-106.55639199",
         "-93.94152674448893"
        ],
        [
         "4",
         "-106.80598508",
         "-93.91117443288655"
        ],
        [
         "5",
         "-110.95722017",
         "-94.25759600665816"
        ],
        [
         "6",
         "-105.49991573",
         "-93.86724910494898"
        ],
        [
         "7",
         "-107.0711655",
         "-93.94887071574962"
        ],
        [
         "8",
         "-107.42028886",
         "-93.91762571691088"
        ],
        [
         "9",
         "-104.90286655",
         "-93.7277471054065"
        ],
        [
         "10",
         "-99.68864745",
         "-93.57192984863454"
        ],
        [
         "11",
         "-111.40577284",
         "-94.36776725726646"
        ],
        [
         "12",
         "-109.92207109",
         "-94.24082235542284"
        ],
        [
         "13",
         "-109.30297605",
         "-94.25682417638589"
        ],
        [
         "14",
         "-111.05828068",
         "-94.17230974329567"
        ],
        [
         "15",
         "-108.9440998",
         "-94.19319502135752"
        ],
        [
         "16",
         "-110.4096134",
         "-94.20560672316256"
        ],
        [
         "17",
         "-107.66689884",
         "-94.02422791968546"
        ],
        [
         "18",
         "-108.91227924",
         "-94.0763875339136"
        ],
        [
         "19",
         "-106.64457321",
         "-94.04726467435897"
        ],
        [
         "20",
         "-108.24873887",
         "-93.98049425314113"
        ],
        [
         "21",
         "-109.13683683",
         "-94.04731403623467"
        ],
        [
         "22",
         "-109.3332121",
         "-94.05930567998575"
        ],
        [
         "23",
         "-107.14328549",
         "-93.9639984727338"
        ],
        [
         "24",
         "-107.32898102",
         "-94.00692572957361"
        ],
        [
         "25",
         "-106.20201706",
         "-93.89150795196923"
        ],
        [
         "26",
         "-110.09250247",
         "-94.2375689459009"
        ],
        [
         "27",
         "-105.24501953",
         "-93.67320692865638"
        ],
        [
         "28",
         "-110.71300713",
         "-94.42780176833938"
        ],
        [
         "29",
         "-110.73642064",
         "-94.43814283908867"
        ],
        [
         "30",
         "-109.00322515",
         "-94.13300872852264"
        ],
        [
         "31",
         "-136.80145354",
         "-94.22087088457054"
        ],
        [
         "32",
         "-110.19284235",
         "-94.20858157330882"
        ],
        [
         "33",
         "-108.7496359",
         "-94.18364392720792"
        ],
        [
         "34",
         "-109.71393797",
         "-94.1071557779955"
        ],
        [
         "35",
         "-109.66947509",
         "-94.22952313306757"
        ],
        [
         "36",
         "-106.17290882",
         "-93.90318065877844"
        ],
        [
         "37",
         "-106.89981497",
         "-93.85072927003934"
        ],
        [
         "38",
         "-88.48585434",
         "-93.79875584191191"
        ],
        [
         "39",
         "-115.75587161",
         "-93.84786585723518"
        ],
        [
         "40",
         "-108.89073919",
         "-93.65675826612235"
        ],
        [
         "41",
         "-105.30740145",
         "-93.66263398719289"
        ],
        [
         "42",
         "-168.85511154",
         "-93.55473126386839"
        ],
        [
         "43",
         "-103.46175883",
         "-93.60778761989437"
        ],
        [
         "44",
         "-102.02934532",
         "-93.56794908760173"
        ],
        [
         "45",
         "-110.86017137",
         "-94.36359499075914"
        ],
        [
         "46",
         "-109.28844839",
         "-94.09128424900842"
        ],
        [
         "47",
         "-110.31751661",
         "-94.34013291315013"
        ],
        [
         "48",
         "-110.20577875",
         "-94.33478507765719"
        ],
        [
         "49",
         "-230.90104627",
         "-94.16565922609702"
        ]
       ],
       "shape": {
        "columns": 2,
        "rows": 110
       }
      },
      "text/html": [
       "<div>\n",
       "<style scoped>\n",
       "    .dataframe tbody tr th:only-of-type {\n",
       "        vertical-align: middle;\n",
       "    }\n",
       "\n",
       "    .dataframe tbody tr th {\n",
       "        vertical-align: top;\n",
       "    }\n",
       "\n",
       "    .dataframe thead th {\n",
       "        text-align: right;\n",
       "    }\n",
       "</style>\n",
       "<table border=\"1\" class=\"dataframe\">\n",
       "  <thead>\n",
       "    <tr style=\"text-align: right;\">\n",
       "      <th></th>\n",
       "      <th>REF_energy</th>\n",
       "      <th>MACE_energy</th>\n",
       "    </tr>\n",
       "  </thead>\n",
       "  <tbody>\n",
       "    <tr>\n",
       "      <th>0</th>\n",
       "      <td>-107.747095</td>\n",
       "      <td>-93.911241</td>\n",
       "    </tr>\n",
       "    <tr>\n",
       "      <th>1</th>\n",
       "      <td>-108.520168</td>\n",
       "      <td>-94.045346</td>\n",
       "    </tr>\n",
       "    <tr>\n",
       "      <th>2</th>\n",
       "      <td>-107.695874</td>\n",
       "      <td>-93.900672</td>\n",
       "    </tr>\n",
       "    <tr>\n",
       "      <th>3</th>\n",
       "      <td>-106.556392</td>\n",
       "      <td>-93.941527</td>\n",
       "    </tr>\n",
       "    <tr>\n",
       "      <th>4</th>\n",
       "      <td>-106.805985</td>\n",
       "      <td>-93.911174</td>\n",
       "    </tr>\n",
       "    <tr>\n",
       "      <th>...</th>\n",
       "      <td>...</td>\n",
       "      <td>...</td>\n",
       "    </tr>\n",
       "    <tr>\n",
       "      <th>105</th>\n",
       "      <td>-106.479300</td>\n",
       "      <td>-93.733773</td>\n",
       "    </tr>\n",
       "    <tr>\n",
       "      <th>106</th>\n",
       "      <td>-102.204540</td>\n",
       "      <td>-93.557387</td>\n",
       "    </tr>\n",
       "    <tr>\n",
       "      <th>107</th>\n",
       "      <td>-101.649356</td>\n",
       "      <td>-93.776122</td>\n",
       "    </tr>\n",
       "    <tr>\n",
       "      <th>108</th>\n",
       "      <td>-98.841753</td>\n",
       "      <td>-93.654638</td>\n",
       "    </tr>\n",
       "    <tr>\n",
       "      <th>109</th>\n",
       "      <td>-110.279499</td>\n",
       "      <td>-94.353116</td>\n",
       "    </tr>\n",
       "  </tbody>\n",
       "</table>\n",
       "<p>110 rows × 2 columns</p>\n",
       "</div>"
      ],
      "text/plain": [
       "     REF_energy  MACE_energy\n",
       "0   -107.747095   -93.911241\n",
       "1   -108.520168   -94.045346\n",
       "2   -107.695874   -93.900672\n",
       "3   -106.556392   -93.941527\n",
       "4   -106.805985   -93.911174\n",
       "..          ...          ...\n",
       "105 -106.479300   -93.733773\n",
       "106 -102.204540   -93.557387\n",
       "107 -101.649356   -93.776122\n",
       "108  -98.841753   -93.654638\n",
       "109 -110.279499   -94.353116\n",
       "\n",
       "[110 rows x 2 columns]"
      ]
     },
     "execution_count": 128,
     "metadata": {},
     "output_type": "execute_result"
    }
   ],
   "source": [
    "from ase.io import read\n",
    "\n",
    "#importing data from the evaluation of the test set\n",
    "#read the configurations with the mace predictions\n",
    "res_list = read(f'test_res/{model_name}_test.xyz', index=':')\n",
    "#extracting the reference and mace energies\n",
    "res = [(a.info['REF_energy'], a.info['MACE_energy']) for a in res_list]\n",
    "df_res = pd.DataFrame(res, columns=['REF_energy', 'MACE_energy'])\n",
    "df_res"
   ]
  },
  {
   "cell_type": "code",
   "execution_count": null,
   "id": "c506c275",
   "metadata": {},
   "outputs": [
    {
     "data": {
      "text/plain": [
       "-644.66311881"
      ]
     },
     "execution_count": 129,
     "metadata": {},
     "output_type": "execute_result"
    }
   ],
   "source": [
    "#aca quiero eliminar el dato que es muy grande"
   ]
  },
  {
   "cell_type": "code",
   "execution_count": 125,
   "id": "0c6f6e07",
   "metadata": {},
   "outputs": [
    {
     "data": {
      "image/png": "[encoded data removed]",
      "text/plain": [
       "<Figure size 640x480 with 1 Axes>"
      ]
     },
     "metadata": {},
     "output_type": "display_data"
    }
   ],
   "source": [
    "f.plot_energy_comparison(df_res, 'REF_energy', 'MACE_energy')"
   ]
  },
  {
   "cell_type": "code",
   "execution_count": 122,
   "id": "eedd4454",
   "metadata": {},
   "outputs": [
    {
     "data": {
      "text/plain": [
       "\"read_test = read('251030_training_data_lt_0eV_fixed.xyz', index=':')\\ndb_test = [(a.info['REF_energy']) for a in read_test]\\ndf = pd.DataFrame(db_test, columns=['REF_energy'])\\ndf\""
      ]
     },
     "execution_count": 122,
     "metadata": {},
     "output_type": "execute_result"
    }
   ],
   "source": [
    "'''read_test = read('251030_training_data_lt_0eV_fixed.xyz', index=':')\n",
    "db_test = [(a.info['REF_energy']) for a in read_test]\n",
    "df = pd.DataFrame(db_test, columns=['REF_energy'])\n",
    "df'''"
   ]
  },
  {
   "cell_type": "code",
   "execution_count": 123,
   "id": "472b18ad",
   "metadata": {},
   "outputs": [],
   "source": [
    "#df.min()\n",
    "#df.max()"
   ]
  }
 ],
 "metadata": {
  "kernelspec": {
   "display_name": "Python 3",
   "language": "python",
   "name": "python3"
  },
  "language_info": {
   "codemirror_mode": {
    "name": "ipython",
    "version": 3
   },
   "file_extension": ".py",
   "mimetype": "text/x-python",
   "name": "python",
   "nbconvert_exporter": "python",
   "pygments_lexer": "ipython3",
   "version": "3.9.13"
  }
 },
 "nbformat": 4,
 "nbformat_minor": 5
}
