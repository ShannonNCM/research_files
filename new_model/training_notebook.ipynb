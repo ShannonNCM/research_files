{
 "cells": [
  {
   "cell_type": "code",
   "execution_count": 4,
   "id": "f51d5203",
   "metadata": {},
   "outputs": [],
   "source": [
    "#import libraries\n",
    "import numpy as np\n",
    "from ase.io import read, write\n",
    "from ase import Atoms\n",
    "import torch\n",
    "import yaml\n",
    "import json\n",
    "import matplotlib.pyplot as plt\n",
    "import pandas as pd\n",
    "import os#\n",
    "import sys\n",
    "os.makedirs('img_res', exist_ok=True) #creates a folder to store the loss graphs\n",
    "os.makedirs('test_res', exist_ok=True) #creates a folder to store the files of the testing of the model\n",
    "import functions as f #import functions used to plot"
   ]
  },
  {
   "cell_type": "code",
   "execution_count": 34,
   "id": "639216f7",
   "metadata": {},
   "outputs": [],
   "source": [
    "#I found a warning regarding the key names for energy and forces, the label changes from 'energy' to 'REF_energy'\n",
    "input_file = \"251017_training_data.xyz\"\n",
    "output_file = \"251017_training_data_fixed.xyz\"\n",
    "\n",
    "with open(input_file, \"r\") as f:\n",
    "    lines = f.readlines()\n",
    "\n",
    "new_lines = []\n",
    "for line in lines:\n",
    "    # Fix energy key in header lines\n",
    "    if \"energy=\" in line:\n",
    "        line = line.replace(\"energy=\", \"REF_energy=\")\n",
    "    # Fix forces key in Properties line\n",
    "    if \"Properties=\" in line and \"forces:R:3\" in line:\n",
    "        line = line.replace(\"forces:R:3\", \"REF_forces:R:3\")\n",
    "    new_lines.append(line)\n",
    "\n",
    "# Write the fixed file\n",
    "with open(output_file, \"w\") as f:\n",
    "    f.writelines(new_lines)"
   ]
  },
  {
   "cell_type": "code",
   "execution_count": 35,
   "id": "fc46ac95",
   "metadata": {},
   "outputs": [],
   "source": [
    "#importing the full data (this is in case I have like the whole data in one file)\n",
    "db = read('251017_training_data_fixed.xyz', ':')"
   ]
  },
  {
   "cell_type": "code",
   "execution_count": 36,
   "id": "80c5abf0",
   "metadata": {},
   "outputs": [],
   "source": [
    "#splitting the data into the training and test sets\n",
    "write('train_01.xyz', db[:520])\n",
    "write('test_01.xyz', db[520:])"
   ]
  },
  {
   "cell_type": "code",
   "execution_count": 6,
   "id": "74fa96e2",
   "metadata": {},
   "outputs": [
    {
     "data": {
      "text/plain": [
       "'model_0scaleshift_lr0.0001_30epochs_32batch'"
      ]
     },
     "execution_count": 6,
     "metadata": {},
     "output_type": "execute_result"
    }
   ],
   "source": [
    "#setting the model name based on model number and epochs\n",
    "device = 'cpu'\n",
    "''' model_num:\n",
    "    1 -> this indicates the model using 250 training data\n",
    "    2 -> this indicates the model using 520 training data which is 80% of the data set\n",
    "    3,4 -> this indicates the model using different values of learning rate 0.005, 0.0001 '''\n",
    "model_num = 'scaleshift_lr0.0001'\n",
    "''' num_epochs:\n",
    "    sets the number of epochs used for running the trainig'''\n",
    "num_epoch = 30\n",
    "''' batch_size:\n",
    "    sets the batch size for training'''\n",
    "batch_size = 32\n",
    "''' model_name:\n",
    "    generates the name of the model based on the number of epochs and the model number using the 'model_num' variable '''\n",
    "model_name = f'model_0{model_num}_{num_epoch}epochs_{batch_size}batch'\n",
    "model_name"
   ]
  },
  {
   "cell_type": "code",
   "execution_count": 7,
   "id": "3ff8e33c",
   "metadata": {},
   "outputs": [],
   "source": [
    "#this writes the yml file\n",
    "config = {\n",
    "    \"model\": \"ScaleShiftMACE\",\n",
    "    \"num_channels\": 32,\n",
    "    \"max_L\": 0,\n",
    "    \"r_max\": 4.0,\n",
    "    \"name\": model_name,\n",
    "    \"train_file\": f\"train_01.xyz\",\n",
    "    \"valid_fraction\": 0.01,\n",
    "    \"test_file\": f\"test_01.xyz\",\n",
    "    \"energy_key\": \"REF_energy\",\n",
    "    \"forces_key\": \"REF_forces\",\n",
    "    \"batch_size\": batch_size,\n",
    "    \"max_num_epochs\": num_epoch,\n",
    "    \"optimizer\" : \"adam\",\n",
    "    \"lr\":0.0001,\n",
    "    \"device\": device,\n",
    "    \"seed\": 123\n",
    "}\n",
    "with open(\"config_new_model.yml\", \"w\") as f:\n",
    "    yaml.dump(config, f, sort_keys=False)"
   ]
  },
  {
   "cell_type": "code",
   "execution_count": 8,
   "id": "bb25a34f",
   "metadata": {},
   "outputs": [
    {
     "name": "stdout",
     "output_type": "stream",
     "text": [
      "cuequivariance or cuequivariance_torch is not available. Cuequivariance acceleration will be disabled.\n",
      "2025-10-27 00:02:22.891 INFO: ===========VERIFYING SETTINGS===========\n",
      "2025-10-27 00:02:22.891 INFO: MACE version: 0.3.14\n",
      "2025-10-27 00:02:22.892 INFO: Using CPU\n",
      "2025-10-27 00:02:22.970 INFO: ===========LOADING INPUT DATA===========\n",
      "2025-10-27 00:02:22.971 INFO: Using heads: ['Default']\n",
      "2025-10-27 00:02:22.971 INFO: Using the key specifications to parse data:\n",
      "2025-10-27 00:02:22.972 INFO: Default: KeySpecification(info_keys={'energy': 'REF_energy', 'stress': 'REF_stress', 'virials': 'REF_virials', 'dipole': 'dipole', 'head': 'head', 'elec_temp': 'elec_temp', 'total_charge': 'total_charge', 'polarizability': 'polarizability', 'total_spin': 'total_spin'}, arrays_keys={'forces': 'REF_forces', 'charges': 'REF_charges'})\n",
      "2025-10-27 00:02:22.972 INFO: =============    Processing head Default     ===========\n",
      "2025-10-27 00:02:23.049 INFO: Using isolated atom energies from training file\n",
      "2025-10-27 00:02:23.058 INFO: Training set 1/1 [energy: 517, stress: 0, virials: 0, dipole components: 0, head: 517, elec_temp: 0, total_charge: 0, polarizability: 0, total_spin: 0, forces: 517, charges: 0]\n",
      "2025-10-27 00:02:23.060 INFO: Total Training set [energy: 517, stress: 0, virials: 0, dipole components: 0, head: 517, elec_temp: 0, total_charge: 0, polarizability: 0, total_spin: 0, forces: 517, charges: 0]\n",
      "2025-10-27 00:02:23.061 INFO: No validation set provided, splitting training data instead.\n",
      "2025-10-27 00:02:23.062 INFO: Using random 1% of training set for validation with following indices: [5, 302, 291, 153, 461]\n",
      "2025-10-27 00:02:23.064 INFO: Random Split Training set [energy: 512, stress: 0, virials: 0, dipole components: 0, head: 512, elec_temp: 0, total_charge: 0, polarizability: 0, total_spin: 0, forces: 512, charges: 0]\n",
      "2025-10-27 00:02:23.064 INFO: Random Split Validation set [energy: 5, stress: 0, virials: 0, dipole components: 0, head: 5, elec_temp: 0, total_charge: 0, polarizability: 0, total_spin: 0, forces: 5, charges: 0]\n",
      "2025-10-27 00:02:23.091 INFO: Test set 1/1 [energy: 133, stress: 0, virials: 0, dipole components: 0, head: 133, elec_temp: 0, total_charge: 0, polarizability: 0, total_spin: 0, forces: 133, charges: 0]\n",
      "2025-10-27 00:02:23.092 INFO: Total Test set [energy: 133, stress: 0, virials: 0, dipole components: 0, head: 133, elec_temp: 0, total_charge: 0, polarizability: 0, total_spin: 0, forces: 133, charges: 0]\n",
      "2025-10-27 00:02:23.093 INFO: Total number of configurations: train=512, valid=5, tests=[Fe13Si1B1_Default: 133],\n",
      "2025-10-27 00:02:23.093 WARNING: Validation batch size (10) is larger than the number of validation data (5)\n",
      "2025-10-27 00:02:23.094 INFO: Atomic Numbers used: [5, 14, 26]\n",
      "2025-10-27 00:02:23.094 INFO: Atomic Energies used (z: eV) for head Default: {5: -0.27559471, 14: -0.81049333, 26: -3.283081}\n",
      "2025-10-27 00:02:23.095 INFO: Processing datasets for head 'Default'\n",
      "2025-10-27 00:02:23.348 INFO: Combining 1 list datasets for head 'Default'\n",
      "2025-10-27 00:02:23.354 INFO: Head 'Default' training dataset size: 512\n",
      "2025-10-27 00:02:23.356 INFO: Computing average number of neighbors\n",
      "2025-10-27 00:02:23.458 INFO: Average number of neighbors: 17.63285789751717\n",
      "2025-10-27 00:02:23.459 INFO: During training the following quantities will be reported: energy, forces\n",
      "2025-10-27 00:02:23.459 INFO: ===========MODEL DETAILS===========\n",
      "2025-10-27 00:02:23.525 INFO: Building model\n",
      "2025-10-27 00:02:23.526 INFO: Message passing with 32 channels and max_L=0 (32x0e)\n",
      "2025-10-27 00:02:23.526 INFO: 2 layers, each with correlation order: 3 (body order: 4) and spherical harmonics up to: l=3\n",
      "2025-10-27 00:02:23.527 INFO: 8 radial and 5 basis functions\n",
      "2025-10-27 00:02:23.527 INFO: Radial cutoff: 4.0 A (total receptive field for each atom: 8.0 A)\n",
      "2025-10-27 00:02:23.528 INFO: Distance transform for radial basis functions: None\n",
      "2025-10-27 00:02:23.528 INFO: Hidden irreps: 32x0e\n",
      "2025-10-27 00:02:24.198 INFO: Total number of parameters: 58256\n",
      "2025-10-27 00:02:24.199 INFO: \n",
      "2025-10-27 00:02:24.200 INFO: ===========OPTIMIZER INFORMATION===========\n",
      "2025-10-27 00:02:24.200 INFO: Using ADAM as parameter optimizer\n",
      "2025-10-27 00:02:24.200 INFO: Batch size: 32\n",
      "2025-10-27 00:02:24.200 INFO: Number of gradient updates: 480\n",
      "2025-10-27 00:02:24.201 INFO: Learning rate: 0.0001, weight decay: 5e-07\n",
      "2025-10-27 00:02:24.201 INFO: WeightedEnergyForcesLoss(energy_weight=1.000, forces_weight=100.000)\n",
      "2025-10-27 00:02:24.202 INFO: Using gradient clipping with tolerance=10.000\n",
      "2025-10-27 00:02:24.202 INFO: \n",
      "2025-10-27 00:02:24.202 INFO: ===========TRAINING===========\n",
      "2025-10-27 00:02:24.202 INFO: Started training, reporting errors on validation set\n",
      "2025-10-27 00:02:24.203 INFO: Loss metrics on validation set\n",
      "2025-10-27 00:02:24.333 INFO: Initial: head: Default, loss=41.42872688, RMSE_E_per_atom= 6446.56 meV, RMSE_F= 1286.80 meV / A\n",
      "2025-10-27 00:02:31.135 INFO: Epoch 0: head: Default, loss=41.22941997, RMSE_E_per_atom= 6419.66 meV, RMSE_F= 1284.27 meV / A\n",
      "2025-10-27 00:02:37.423 INFO: Epoch 1: head: Default, loss=41.04040321, RMSE_E_per_atom= 6392.55 meV, RMSE_F= 1281.94 meV / A\n",
      "2025-10-27 00:02:43.678 INFO: Epoch 2: head: Default, loss=40.84819096, RMSE_E_per_atom= 6363.92 meV, RMSE_F= 1279.61 meV / A\n",
      "2025-10-27 00:02:49.926 INFO: Epoch 3: head: Default, loss=40.66536580, RMSE_E_per_atom= 6336.78 meV, RMSE_F= 1277.39 meV / A\n",
      "2025-10-27 00:02:56.172 INFO: Epoch 4: head: Default, loss=40.48840905, RMSE_E_per_atom= 6309.65 meV, RMSE_F= 1275.27 meV / A\n",
      "2025-10-27 00:03:02.475 INFO: Epoch 5: head: Default, loss=40.32624506, RMSE_E_per_atom= 6286.54 meV, RMSE_F= 1273.23 meV / A\n",
      "2025-10-27 00:03:08.788 INFO: Epoch 6: head: Default, loss=40.16604359, RMSE_E_per_atom= 6263.20 meV, RMSE_F= 1271.23 meV / A\n",
      "2025-10-27 00:03:15.177 INFO: Epoch 7: head: Default, loss=39.97773878, RMSE_E_per_atom= 6229.87 meV, RMSE_F= 1269.16 meV / A\n",
      "2025-10-27 00:03:21.560 INFO: Epoch 8: head: Default, loss=39.80980468, RMSE_E_per_atom= 6202.17 meV, RMSE_F= 1267.21 meV / A\n",
      "2025-10-27 00:03:27.875 INFO: Epoch 9: head: Default, loss=39.65416108, RMSE_E_per_atom= 6178.34 meV, RMSE_F= 1265.30 meV / A\n",
      "2025-10-27 00:03:34.175 INFO: Epoch 10: head: Default, loss=39.48530911, RMSE_E_per_atom= 6151.45 meV, RMSE_F= 1263.27 meV / A\n",
      "2025-10-27 00:03:40.464 INFO: Epoch 11: head: Default, loss=39.32105247, RMSE_E_per_atom= 6125.48 meV, RMSE_F= 1261.28 meV / A\n",
      "2025-10-27 00:03:46.811 INFO: Epoch 12: head: Default, loss=39.15953694, RMSE_E_per_atom= 6099.52 meV, RMSE_F= 1259.34 meV / A\n",
      "2025-10-27 00:03:53.062 INFO: Epoch 13: head: Default, loss=38.98408961, RMSE_E_per_atom= 6070.78 meV, RMSE_F= 1257.24 meV / A\n",
      "2025-10-27 00:03:59.414 INFO: Epoch 14: head: Default, loss=38.81800763, RMSE_E_per_atom= 6045.32 meV, RMSE_F= 1255.17 meV / A\n",
      "2025-10-27 00:04:05.797 INFO: Epoch 15: head: Default, loss=38.64579066, RMSE_E_per_atom= 6019.54 meV, RMSE_F= 1252.97 meV / A\n",
      "2025-10-27 00:04:12.137 INFO: Epoch 16: head: Default, loss=38.47119192, RMSE_E_per_atom= 5991.62 meV, RMSE_F= 1250.83 meV / A\n",
      "2025-10-27 00:04:18.448 INFO: Epoch 17: head: Default, loss=38.28500786, RMSE_E_per_atom= 5964.88 meV, RMSE_F= 1248.38 meV / A\n",
      "2025-10-27 00:04:24.781 INFO: Epoch 18: head: Default, loss=38.11058503, RMSE_E_per_atom= 5939.65 meV, RMSE_F= 1246.09 meV / A\n",
      "2025-10-27 00:04:31.119 INFO: Epoch 19: head: Default, loss=37.91423632, RMSE_E_per_atom= 5912.87 meV, RMSE_F= 1243.42 meV / A\n",
      "2025-10-27 00:04:37.435 INFO: Epoch 20: head: Default, loss=37.71805995, RMSE_E_per_atom= 5884.59 meV, RMSE_F= 1240.81 meV / A\n",
      "2025-10-27 00:04:43.744 INFO: Epoch 21: head: Default, loss=37.52048700, RMSE_E_per_atom= 5856.64 meV, RMSE_F= 1238.15 meV / A\n",
      "2025-10-27 00:04:50.027 INFO: Epoch 22: head: Default, loss=37.29187272, RMSE_E_per_atom= 5824.79 meV, RMSE_F= 1235.03 meV / A\n",
      "2025-10-27 00:04:57.202 INFO: Epoch 23: head: Default, loss=37.06326594, RMSE_E_per_atom= 5792.05 meV, RMSE_F= 1231.94 meV / A\n",
      "2025-10-27 00:05:03.484 INFO: Epoch 24: head: Default, loss=36.83554372, RMSE_E_per_atom= 5761.56 meV, RMSE_F= 1228.75 meV / A\n",
      "2025-10-27 00:05:09.809 INFO: Epoch 25: head: Default, loss=36.61698393, RMSE_E_per_atom= 5733.93 meV, RMSE_F= 1225.59 meV / A\n",
      "2025-10-27 00:05:16.103 INFO: Epoch 26: head: Default, loss=36.37000899, RMSE_E_per_atom= 5703.99 meV, RMSE_F= 1221.94 meV / A\n",
      "2025-10-27 00:05:22.399 INFO: Epoch 27: head: Default, loss=36.11928866, RMSE_E_per_atom= 5675.89 meV, RMSE_F= 1218.12 meV / A\n",
      "2025-10-27 00:05:28.767 INFO: Epoch 28: head: Default, loss=35.88182381, RMSE_E_per_atom= 5649.91 meV, RMSE_F= 1214.44 meV / A\n",
      "2025-10-27 00:05:35.082 INFO: Epoch 29: head: Default, loss=35.62896223, RMSE_E_per_atom= 5620.32 meV, RMSE_F= 1210.61 meV / A\n",
      "2025-10-27 00:05:35.092 INFO: Training complete\n",
      "2025-10-27 00:05:35.093 INFO: \n",
      "2025-10-27 00:05:35.093 INFO: ===========RESULTS===========\n",
      "2025-10-27 00:05:35.143 INFO: Loading checkpoint: ./checkpoints/model_0scaleshift_lr0.0001_30epochs_32batch_run-123_epoch-29.pt\n",
      "2025-10-27 00:05:35.168 INFO: Loaded Stage one model from epoch 29 for evaluation\n",
      "2025-10-27 00:05:35.172 INFO: Saving model to checkpoints/model_0scaleshift_lr0.0001_30epochs_32batch_run-123.model\n",
      "2025-10-27 00:05:35.374 INFO: Compiling model, saving metadata to model_0scaleshift_lr0.0001_30epochs_32batch_compiled.model\n",
      "2025-10-27 00:05:35.841 INFO: Computing metrics for training, validation, and test sets\n",
      "2025-10-27 00:05:35.841 INFO: Skipping evaluation for heads: ['pt_head']\n",
      "2025-10-27 00:05:35.842 INFO: Evaluating train_Default ...\n",
      "2025-10-27 00:05:38.424 INFO: Evaluating valid_Default ...\n",
      "2025-10-27 00:05:38.471 INFO: Error-table on TRAIN and VALID:\n",
      "+---------------+---------------------+------------------+-------------------+\n",
      "|  config_type  | RMSE E / meV / atom | RMSE F / meV / A | relative F RMSE % |\n",
      "+---------------+---------------------+------------------+-------------------+\n",
      "| train_Default |       129744.2      |      88474.8     |       5140.81     |\n",
      "| valid_Default |         5620.3      |       1210.6     |         95.29     |\n",
      "+---------------+---------------------+------------------+-------------------+\n",
      "2025-10-27 00:05:38.471 INFO: Evaluating Fe13Si1B1_Default ...\n",
      "2025-10-27 00:05:39.608 INFO: Error-table on TEST:\n",
      "+-------------------+---------------------+------------------+-------------------+\n",
      "|    config_type    | RMSE E / meV / atom | RMSE F / meV / A | relative F RMSE % |\n",
      "+-------------------+---------------------+------------------+-------------------+\n",
      "| Fe13Si1B1_Default |        12333.6      |       2942.6     |         98.55     |\n",
      "+-------------------+---------------------+------------------+-------------------+\n",
      "2025-10-27 00:05:39.812 INFO: Done\n"
     ]
    }
   ],
   "source": [
    "#Perform training\n",
    "import warnings\n",
    "warnings.filterwarnings('ignore')\n",
    "from mace.cli.run_train import main as mace_run_train_main\n",
    "import sys\n",
    "import logging\n",
    "\n",
    "#defining the training function\n",
    "def train_mace(config_file_path):\n",
    "    logging.getLogger().handlers.clear()\n",
    "    sys.argv = ['program', '--config', config_file_path]\n",
    "    mace_run_train_main()\n",
    "\n",
    "#calling the function\n",
    "train_mace('config_new_model.yml') # use the name of the config file that was created"
   ]
  },
  {
   "cell_type": "code",
   "execution_count": 9,
   "id": "35e797c7",
   "metadata": {},
   "outputs": [],
   "source": [
    "#reading the information on the results file\n",
    "results = f'results/{model_name}_run-123_train.txt' #reading the file where the training results is stored\n",
    "data = [] #where the data from the 'results' file will be stored\n",
    "with open(results, 'r') as f:\n",
    "    for line in f:\n",
    "        try:\n",
    "            data.append(json.loads(line))\n",
    "        except json.JSONDecodeError:\n",
    "            continue"
   ]
  },
  {
   "cell_type": "code",
   "execution_count": 10,
   "id": "9bb576e0",
   "metadata": {},
   "outputs": [
    {
     "data": {
      "text/plain": [
       "'results/model_0scaleshift_lr0.0001_30epochs_32batch_run-123_train.txt'"
      ]
     },
     "execution_count": 10,
     "metadata": {},
     "output_type": "execute_result"
    }
   ],
   "source": [
    "results"
   ]
  },
  {
   "cell_type": "code",
   "execution_count": 11,
   "id": "18168ab7",
   "metadata": {},
   "outputs": [
    {
     "data": {
      "image/png": "[encoded data removed]",
      "text/plain": [
       "<Figure size 640x480 with 1 Axes>"
      ]
     },
     "metadata": {},
     "output_type": "display_data"
    },
    {
     "data": {
      "image/png": "[encoded data removed]",
      "text/plain": [
       "<Figure size 640x480 with 1 Axes>"
      ]
     },
     "metadata": {},
     "output_type": "display_data"
    }
   ],
   "source": [
    "#saving the data in a dataframe to be able to work with it in an easier way\n",
    "df = pd.DataFrame(data)\n",
    "#separating the training and validation results\n",
    "train_df = df[df['mode']=='opt'].copy()\n",
    "val_df = df[df['mode']=='eval'].copy().dropna()\n",
    "train_df = train_df.groupby('epoch', as_index=False)['loss'].last()\n",
    "train_df['epoch'] += 1\n",
    "val_df['epoch'] += 1\n",
    "\n",
    "#plotting the dataframe\n",
    "import functions as f\n",
    "f.plot_mae(val_df, 'epoch', ['mae_e','mae_f'])"
   ]
  },
  {
   "cell_type": "code",
   "execution_count": 12,
   "id": "02933d78",
   "metadata": {},
   "outputs": [
    {
     "data": {
      "image/png": "[encoded data removed]",
      "text/plain": [
       "<Figure size 640x480 with 1 Axes>"
      ]
     },
     "metadata": {},
     "output_type": "display_data"
    },
    {
     "data": {
      "image/png": "[encoded data removed]",
      "text/plain": [
       "<Figure size 640x480 with 1 Axes>"
      ]
     },
     "metadata": {},
     "output_type": "display_data"
    },
    {
     "data": {
      "image/png": "[encoded data removed]",
      "text/plain": [
       "<Figure size 640x480 with 1 Axes>"
      ]
     },
     "metadata": {},
     "output_type": "display_data"
    }
   ],
   "source": [
    "#plotting the validation and loss error\n",
    "f.plot_loss([(train_df, 'train'),(val_df,'val')],'epoch','loss',model_name)"
   ]
  },
  {
   "cell_type": "code",
   "execution_count": 13,
   "id": "9a0749e0",
   "metadata": {},
   "outputs": [],
   "source": [
    "#the model can be evaluated using this\n",
    "from mace.cli.eval_configs import main as mace_eval_configs_main\n",
    "import sys\n",
    "\n",
    "def eval_mace(model, configs, output, device=device):\n",
    "    sys.argv=['program', '--configs', configs, '--model', model, '--output', output, '--device', device]\n",
    "    mace_eval_configs_main()"
   ]
  },
  {
   "cell_type": "code",
   "execution_count": 14,
   "id": "66eb67bb",
   "metadata": {},
   "outputs": [
    {
     "name": "stdout",
     "output_type": "stream",
     "text": [
      "2025-10-27 00:05:40.374 INFO: Using CPU\n",
      "2025-10-27 00:05:43.218 INFO: Using CPU\n"
     ]
    }
   ],
   "source": [
    "#evaluating the set on both the training and test datasets\n",
    "eval_mace(model=f'{model_name}.model',\n",
    "          configs='train_01.xyz',\n",
    "          output=f'test_res/{model_name}_train.xyz')\n",
    "\n",
    "eval_mace(model=f'{model_name}.model',\n",
    "          configs='test_01.xyz',\n",
    "          output=f'test_res/{model_name}_test.xyz')"
   ]
  },
  {
   "cell_type": "code",
   "execution_count": 15,
   "id": "ad4980f8",
   "metadata": {},
   "outputs": [
    {
     "data": {
      "text/html": [
       "<div>\n",
       "<style scoped>\n",
       "    .dataframe tbody tr th:only-of-type {\n",
       "        vertical-align: middle;\n",
       "    }\n",
       "\n",
       "    .dataframe tbody tr th {\n",
       "        vertical-align: top;\n",
       "    }\n",
       "\n",
       "    .dataframe thead th {\n",
       "        text-align: right;\n",
       "    }\n",
       "</style>\n",
       "<table border=\"1\" class=\"dataframe\">\n",
       "  <thead>\n",
       "    <tr style=\"text-align: right;\">\n",
       "      <th></th>\n",
       "      <th>REF_energy</th>\n",
       "      <th>MACE_energy</th>\n",
       "    </tr>\n",
       "  </thead>\n",
       "  <tbody>\n",
       "    <tr>\n",
       "      <th>0</th>\n",
       "      <td>-108.197314</td>\n",
       "      <td>-160.736096</td>\n",
       "    </tr>\n",
       "    <tr>\n",
       "      <th>1</th>\n",
       "      <td>-108.155668</td>\n",
       "      <td>-160.776646</td>\n",
       "    </tr>\n",
       "    <tr>\n",
       "      <th>2</th>\n",
       "      <td>-107.938072</td>\n",
       "      <td>-160.574505</td>\n",
       "    </tr>\n",
       "    <tr>\n",
       "      <th>3</th>\n",
       "      <td>-111.978524</td>\n",
       "      <td>-161.228985</td>\n",
       "    </tr>\n",
       "    <tr>\n",
       "      <th>4</th>\n",
       "      <td>-111.939598</td>\n",
       "      <td>-161.146977</td>\n",
       "    </tr>\n",
       "    <tr>\n",
       "      <th>...</th>\n",
       "      <td>...</td>\n",
       "      <td>...</td>\n",
       "    </tr>\n",
       "    <tr>\n",
       "      <th>128</th>\n",
       "      <td>-106.479300</td>\n",
       "      <td>-160.681207</td>\n",
       "    </tr>\n",
       "    <tr>\n",
       "      <th>129</th>\n",
       "      <td>-102.204540</td>\n",
       "      <td>-160.517587</td>\n",
       "    </tr>\n",
       "    <tr>\n",
       "      <th>130</th>\n",
       "      <td>-101.649356</td>\n",
       "      <td>-160.700265</td>\n",
       "    </tr>\n",
       "    <tr>\n",
       "      <th>131</th>\n",
       "      <td>-98.841753</td>\n",
       "      <td>-160.614362</td>\n",
       "    </tr>\n",
       "    <tr>\n",
       "      <th>132</th>\n",
       "      <td>-110.279499</td>\n",
       "      <td>-161.243839</td>\n",
       "    </tr>\n",
       "  </tbody>\n",
       "</table>\n",
       "<p>133 rows × 2 columns</p>\n",
       "</div>"
      ],
      "text/plain": [
       "     REF_energy  MACE_energy\n",
       "0   -108.197314  -160.736096\n",
       "1   -108.155668  -160.776646\n",
       "2   -107.938072  -160.574505\n",
       "3   -111.978524  -161.228985\n",
       "4   -111.939598  -161.146977\n",
       "..          ...          ...\n",
       "128 -106.479300  -160.681207\n",
       "129 -102.204540  -160.517587\n",
       "130 -101.649356  -160.700265\n",
       "131  -98.841753  -160.614362\n",
       "132 -110.279499  -161.243839\n",
       "\n",
       "[133 rows x 2 columns]"
      ]
     },
     "execution_count": 15,
     "metadata": {},
     "output_type": "execute_result"
    }
   ],
   "source": [
    "from ase.io import read\n",
    "\n",
    "#importing data from the evaluation of the test set\n",
    "#read the configurations with the mace predictions\n",
    "res_list = read(f'test_res/{model_name}_test.xyz', index=':')\n",
    "#extracting the reference and mace energies\n",
    "res = [(a.info['REF_energy'], a.info['MACE_energy']) for a in res_list]\n",
    "df_res = pd.DataFrame(res, columns=['REF_energy', 'MACE_energy'])\n",
    "df_res"
   ]
  },
  {
   "cell_type": "code",
   "execution_count": 16,
   "id": "0c6f6e07",
   "metadata": {},
   "outputs": [
    {
     "data": {
      "image/png": "[encoded data removed]",
      "text/plain": [
       "<Figure size 640x480 with 1 Axes>"
      ]
     },
     "metadata": {},
     "output_type": "display_data"
    }
   ],
   "source": [
    "f.plot_energy_comparison(df_res, 'REF_energy', 'MACE_energy')"
   ]
  },
  {
   "cell_type": "code",
   "execution_count": 17,
   "id": "40f95696",
   "metadata": {},
   "outputs": [
    {
     "data": {
      "text/plain": [
       "'#this is commented for now because we have set the data on which the energy and forces will be calculated\\n#once the training is done, then a calculation can be performed using ase\\nfrom ase.io import read\\nfrom mace.calculators import MACECalculator\\n\\n#loading the model\\ncalculator = MACECalculator(model_paths=f\\'{model_name}.model\\', device=\\'cuda\\')\\n#read the configurations from where we want to calculate\\n### I set here the training data, but we could also calculate it on different data to see how it actually performs on new data\\nconfigs = read(\\'test_01.xyz\\', \\':\\')\\n\\n#set a list to store the information\\nresults = []\\n# read the results\\nfor i, atoms in enumerate(configs):\\n    atoms.set_calculator(calculator)\\n    energy = atoms.get_potential_energy()\\n    forces = atoms.get_forces()\\n    #max_force = abs(forces).max()  # max absolute force\\n    #mean_force = abs(forces).mean()  # mean absolute force\\n    # Add to list\\n    results.append({\\n        \"config_id\": i,\\n        \"energy (eV)\": energy,\\n    #    \"max_force (eV/Å)\": max_force,\\n    #    \"mean_force (eV/Å)\": mean_force,\\n        \"num_atoms\": len(atoms)\\n    })\\n# Create dataframe\\ndf = pd.DataFrame(results)\\ndf.to_excel(f\\'{model_name}.xlsx\\', index=False) #this is to save the results in an exel file'"
      ]
     },
     "execution_count": 17,
     "metadata": {},
     "output_type": "execute_result"
    }
   ],
   "source": [
    "'''#this is commented for now because we have set the data on which the energy and forces will be calculated\n",
    "#once the training is done, then a calculation can be performed using ase\n",
    "from ase.io import read\n",
    "from mace.calculators import MACECalculator\n",
    "\n",
    "#loading the model\n",
    "calculator = MACECalculator(model_paths=f'{model_name}.model', device='cuda')\n",
    "#read the configurations from where we want to calculate\n",
    "### I set here the training data, but we could also calculate it on different data to see how it actually performs on new data\n",
    "configs = read('test_01.xyz', ':')\n",
    "\n",
    "#set a list to store the information\n",
    "results = []\n",
    "# read the results\n",
    "for i, atoms in enumerate(configs):\n",
    "    atoms.set_calculator(calculator)\n",
    "    energy = atoms.get_potential_energy()\n",
    "    forces = atoms.get_forces()\n",
    "    #max_force = abs(forces).max()  # max absolute force\n",
    "    #mean_force = abs(forces).mean()  # mean absolute force\n",
    "    # Add to list\n",
    "    results.append({\n",
    "        \"config_id\": i,\n",
    "        \"energy (eV)\": energy,\n",
    "    #    \"max_force (eV/Å)\": max_force,\n",
    "    #    \"mean_force (eV/Å)\": mean_force,\n",
    "        \"num_atoms\": len(atoms)\n",
    "    })\n",
    "# Create dataframe\n",
    "df = pd.DataFrame(results)\n",
    "df.to_excel(f'{model_name}.xlsx', index=False) #this is to save the results in an exel file'''"
   ]
  }
 ],
 "metadata": {
  "kernelspec": {
   "display_name": "Python 3",
   "language": "python",
   "name": "python3"
  },
  "language_info": {
   "codemirror_mode": {
    "name": "ipython",
    "version": 3
   },
   "file_extension": ".py",
   "mimetype": "text/x-python",
   "name": "python",
   "nbconvert_exporter": "python",
   "pygments_lexer": "ipython3",
   "version": "3.9.13"
  }
 },
 "nbformat": 4,
 "nbformat_minor": 5
}
