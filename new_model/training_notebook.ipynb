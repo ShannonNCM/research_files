{
 "cells": [
  {
   "cell_type": "code",
   "execution_count": 1,
   "id": "f51d5203",
   "metadata": {},
   "outputs": [],
   "source": [
    "#import libraries\n",
    "import numpy as np\n",
    "from ase.io import read, write\n",
    "from ase import Atoms\n",
    "import torch\n",
    "import yaml\n",
    "import json\n",
    "import matplotlib.pyplot as plt\n",
    "import pandas as pd\n",
    "import os\n",
    "os.makedirs('img_res', exist_ok=True) #creates a folder to store the loss graphs"
   ]
  },
  {
   "cell_type": "code",
   "execution_count": 7,
   "id": "639216f7",
   "metadata": {},
   "outputs": [],
   "source": [
    "#I found a warning regarding the key names for energy and forces, so I will try and make a change to see what happens\n",
    "input_file = \"251017_training_data.xyz\"\n",
    "output_file = \"251017_training_data_fixed.xyz\"\n",
    "\n",
    "with open(input_file, \"r\") as f:\n",
    "    lines = f.readlines()\n",
    "\n",
    "new_lines = []\n",
    "for line in lines:\n",
    "    # Fix energy key in header lines\n",
    "    if \"energy=\" in line:\n",
    "        line = line.replace(\"energy=\", \"REF_energy=\")\n",
    "    # Fix forces key in Properties line\n",
    "    if \"Properties=\" in line and \"forces:R:3\" in line:\n",
    "        line = line.replace(\"forces:R:3\", \"REF_forces:R:3\")\n",
    "    new_lines.append(line)\n",
    "\n",
    "# Write the fixed file\n",
    "with open(output_file, \"w\") as f:\n",
    "    f.writelines(new_lines)"
   ]
  },
  {
   "cell_type": "code",
   "execution_count": 8,
   "id": "fc46ac95",
   "metadata": {},
   "outputs": [],
   "source": [
    "#importing the full data (this is in case I have like the whole data in one file)\n",
    "db = read('251017_training_data_fixed.xyz', ':')"
   ]
  },
  {
   "cell_type": "code",
   "execution_count": 3,
   "id": "80c5abf0",
   "metadata": {},
   "outputs": [],
   "source": [
    "#splitting the data into the training and test sets\n",
    "write('train_01.xyz', db[:520])\n",
    "write('test_01.xyz', db[520:])"
   ]
  },
  {
   "cell_type": "code",
   "execution_count": 4,
   "id": "74fa96e2",
   "metadata": {},
   "outputs": [
    {
     "data": {
      "text/plain": [
       "'model_02_5epochs_32batch'"
      ]
     },
     "execution_count": 4,
     "metadata": {},
     "output_type": "execute_result"
    }
   ],
   "source": [
    "#setting the model name based on model number and epochs\n",
    "''' model_num:\n",
    "    1 -> this indicates the model using 250 training data\n",
    "    2 -> this indicates the model using 520 training data which is 80% of the data set '''\n",
    "model_num = 2\n",
    "''' num_epochs:\n",
    "    sets the number of epochs used for running the trainig'''\n",
    "num_epoch = 5\n",
    "''' batch_size:\n",
    "    sets the batch size for training'''\n",
    "batch_size = 32\n",
    "''' model_name:\n",
    "    generates the name of the model based on the number of epochs and the model number using the 'model_num' variable '''\n",
    "model_name = f'model_0{model_num}_{num_epoch}epochs_{batch_size}batch'\n",
    "model_name"
   ]
  },
  {
   "cell_type": "code",
   "execution_count": 5,
   "id": "3ff8e33c",
   "metadata": {},
   "outputs": [],
   "source": [
    "#this writes the yml file\n",
    "config = {\n",
    "    \"model\": \"MACE\",\n",
    "    \"num_channels\": 32,\n",
    "    \"max_L\": 0,\n",
    "    \"r_max\": 4.0,\n",
    "    \"name\": model_name,\n",
    "    \"train_file\": f\"train_01.xyz\",\n",
    "    \"valid_fraction\": 0.01,\n",
    "    \"test_file\": f\"test_01.xyz\",\n",
    "    \"energy_key\": \"energy\",\n",
    "    \"forces_key\": \"forces\",\n",
    "    \"batch_size\": batch_size,\n",
    "    \"max_num_epochs\": num_epoch,\n",
    "    \"device\": \"cuda\",\n",
    "    \"seed\": 123\n",
    "}\n",
    "with open(\"config_new_model.yml\", \"w\") as f:\n",
    "    yaml.dump(config, f, sort_keys=False)"
   ]
  },
  {
   "cell_type": "code",
   "execution_count": 6,
   "id": "bb25a34f",
   "metadata": {},
   "outputs": [
    {
     "name": "stdout",
     "output_type": "stream",
     "text": [
      "cuequivariance or cuequivariance_torch is not available. Cuequivariance acceleration will be disabled.\n",
      "2025-10-22 16:52:45.649 INFO: ===========VERIFYING SETTINGS===========\n",
      "2025-10-22 16:52:45.649 INFO: MACE version: 0.3.14\n",
      "2025-10-22 16:52:45.721 INFO: CUDA version: 12.6, CUDA device: 0\n",
      "2025-10-22 16:52:45.866 INFO: ===========LOADING INPUT DATA===========\n",
      "2025-10-22 16:52:45.866 INFO: Using heads: ['Default']\n",
      "2025-10-22 16:52:45.866 INFO: Using the key specifications to parse data:\n",
      "2025-10-22 16:52:45.866 INFO: Default: KeySpecification(info_keys={'energy': 'energy', 'stress': 'REF_stress', 'virials': 'REF_virials', 'dipole': 'dipole', 'head': 'head', 'elec_temp': 'elec_temp', 'total_charge': 'total_charge', 'polarizability': 'polarizability', 'total_spin': 'total_spin'}, arrays_keys={'forces': 'forces', 'charges': 'REF_charges'})\n",
      "2025-10-22 16:52:45.866 INFO: =============    Processing head Default     ===========\n",
      "2025-10-22 16:52:46.050 WARNING: Since ASE version 3.23.0b1, using energy_key 'energy' is no longer safe when communicating between MACE and ASE. We recommend using a different key, rewriting 'energy' to 'REF_energy'. You need to use --energy_key='REF_energy' to specify the chosen key name.\n",
      "2025-10-22 16:52:46.112 WARNING: Since ASE version 3.23.0b1, using forces_key 'forces' is no longer safe when communicating between MACE and ASE. We recommend using a different key, rewriting 'forces' to 'REF_forces'. You need to use --forces_key='REF_forces' to specify the chosen key name.\n",
      "2025-10-22 16:52:46.174 WARNING: Configuration '0' is marked as 'IsolatedAtom' but does not contain an energy. Zero energy will be used.\n",
      "2025-10-22 16:52:46.174 WARNING: Configuration '1' is marked as 'IsolatedAtom' but does not contain an energy. Zero energy will be used.\n",
      "2025-10-22 16:52:46.174 WARNING: Configuration '2' is marked as 'IsolatedAtom' but does not contain an energy. Zero energy will be used.\n",
      "2025-10-22 16:52:46.174 INFO: Using isolated atom energies from training file\n",
      "2025-10-22 16:52:46.186 INFO: Training set 1/1 [energy: 517, stress: 0, virials: 0, dipole components: 0, head: 517, elec_temp: 0, total_charge: 0, polarizability: 0, total_spin: 0, forces: 517, charges: 0]\n",
      "2025-10-22 16:52:46.186 INFO: Total Training set [energy: 517, stress: 0, virials: 0, dipole components: 0, head: 517, elec_temp: 0, total_charge: 0, polarizability: 0, total_spin: 0, forces: 517, charges: 0]\n",
      "2025-10-22 16:52:46.186 INFO: No validation set provided, splitting training data instead.\n",
      "2025-10-22 16:52:46.186 INFO: Using random 1% of training set for validation with following indices: [5, 302, 291, 153, 461]\n",
      "2025-10-22 16:52:46.186 INFO: Random Split Training set [energy: 512, stress: 0, virials: 0, dipole components: 0, head: 512, elec_temp: 0, total_charge: 0, polarizability: 0, total_spin: 0, forces: 512, charges: 0]\n",
      "2025-10-22 16:52:46.201 INFO: Random Split Validation set [energy: 5, stress: 0, virials: 0, dipole components: 0, head: 5, elec_temp: 0, total_charge: 0, polarizability: 0, total_spin: 0, forces: 5, charges: 0]\n",
      "2025-10-22 16:52:46.255 WARNING: Since ASE version 3.23.0b1, using energy_key 'energy' is no longer safe when communicating between MACE and ASE. We recommend using a different key, rewriting 'energy' to 'REF_energy'. You need to use --energy_key='REF_energy' to specify the chosen key name.\n",
      "2025-10-22 16:52:46.280 WARNING: Since ASE version 3.23.0b1, using forces_key 'forces' is no longer safe when communicating between MACE and ASE. We recommend using a different key, rewriting 'forces' to 'REF_forces'. You need to use --forces_key='REF_forces' to specify the chosen key name.\n",
      "2025-10-22 16:52:46.288 INFO: Test set 1/1 [energy: 133, stress: 0, virials: 0, dipole components: 0, head: 133, elec_temp: 0, total_charge: 0, polarizability: 0, total_spin: 0, forces: 133, charges: 0]\n",
      "2025-10-22 16:52:46.301 INFO: Total Test set [energy: 133, stress: 0, virials: 0, dipole components: 0, head: 133, elec_temp: 0, total_charge: 0, polarizability: 0, total_spin: 0, forces: 133, charges: 0]\n",
      "2025-10-22 16:52:46.302 INFO: Total number of configurations: train=512, valid=5, tests=[Fe13Si1B1_Default: 133],\n",
      "2025-10-22 16:52:46.302 WARNING: Validation batch size (10) is larger than the number of validation data (5)\n",
      "2025-10-22 16:52:46.303 INFO: Atomic Numbers used: [5, 14, 26]\n",
      "2025-10-22 16:52:46.303 INFO: Atomic Energies used (z: eV) for head Default: {5: 0.0, 14: 0.0, 26: 0.0}\n",
      "2025-10-22 16:52:46.303 INFO: Processing datasets for head 'Default'\n",
      "2025-10-22 16:52:46.616 INFO: Combining 1 list datasets for head 'Default'\n",
      "2025-10-22 16:52:46.616 INFO: Head 'Default' training dataset size: 512\n",
      "2025-10-22 16:52:46.616 INFO: Computing average number of neighbors\n",
      "2025-10-22 16:52:46.852 INFO: Average number of neighbors: 17.63285789751717\n",
      "2025-10-22 16:52:46.852 INFO: During training the following quantities will be reported: energy, forces\n",
      "2025-10-22 16:52:46.852 INFO: ===========MODEL DETAILS===========\n",
      "2025-10-22 16:52:46.968 INFO: Building model\n",
      "2025-10-22 16:52:46.968 INFO: Message passing with 32 channels and max_L=0 (32x0e)\n",
      "2025-10-22 16:52:46.968 INFO: 2 layers, each with correlation order: 3 (body order: 4) and spherical harmonics up to: l=3\n",
      "2025-10-22 16:52:46.968 INFO: 8 radial and 5 basis functions\n",
      "2025-10-22 16:52:46.968 INFO: Radial cutoff: 4.0 A (total receptive field for each atom: 8.0 A)\n",
      "2025-10-22 16:52:46.968 INFO: Distance transform for radial basis functions: None\n",
      "2025-10-22 16:52:46.968 INFO: Hidden irreps: 32x0e\n",
      "2025-10-22 16:52:48.138 INFO: Total number of parameters: 67472\n",
      "2025-10-22 16:52:48.138 INFO: \n",
      "2025-10-22 16:52:48.139 INFO: ===========OPTIMIZER INFORMATION===========\n",
      "2025-10-22 16:52:48.139 INFO: Using ADAM as parameter optimizer\n",
      "2025-10-22 16:52:48.140 INFO: Batch size: 32\n",
      "2025-10-22 16:52:48.140 INFO: Number of gradient updates: 80\n",
      "2025-10-22 16:52:48.140 INFO: Learning rate: 0.01, weight decay: 5e-07\n",
      "2025-10-22 16:52:48.140 INFO: WeightedEnergyForcesLoss(energy_weight=1.000, forces_weight=100.000)\n",
      "2025-10-22 16:52:48.140 INFO: Using gradient clipping with tolerance=10.000\n",
      "2025-10-22 16:52:48.140 INFO: \n",
      "2025-10-22 16:52:48.140 INFO: ===========TRAINING===========\n",
      "2025-10-22 16:52:48.140 INFO: Started training, reporting errors on validation set\n",
      "2025-10-22 16:52:48.140 INFO: Loss metrics on validation set\n",
      "2025-10-22 16:52:48.619 INFO: Initial: head: Default, loss=37.51196496, RMSE_E_per_atom= 5166.12 meV, RMSE_F= 1268.35 meV / A\n",
      "2025-10-22 16:52:55.916 INFO: Epoch 0: head: Default, loss=30.90256944, RMSE_E_per_atom= 4945.63 meV, RMSE_F= 1140.41 meV / A\n",
      "2025-10-22 16:52:57.635 INFO: Epoch 1: head: Default, loss=15.53237340, RMSE_E_per_atom= 4406.56 meV, RMSE_F=  763.18 meV / A\n",
      "2025-10-22 16:52:58.912 INFO: Epoch 2: head: Default, loss=14.38546919, RMSE_E_per_atom= 3980.19 meV, RMSE_F=  748.90 meV / A\n",
      "2025-10-22 16:53:00.168 INFO: Epoch 3: head: Default, loss=16.31344734, RMSE_E_per_atom= 3500.61 meV, RMSE_F=  832.54 meV / A\n",
      "2025-10-22 16:53:01.421 INFO: Epoch 4: head: Default, loss=11.47844959, RMSE_E_per_atom= 3333.60 meV, RMSE_F=  680.29 meV / A\n",
      "2025-10-22 16:53:01.435 INFO: Training complete\n",
      "2025-10-22 16:53:01.435 INFO: \n",
      "2025-10-22 16:53:01.435 INFO: ===========RESULTS===========\n",
      "2025-10-22 16:53:01.520 INFO: Loading checkpoint: .\\checkpoints\\model_02_5epochs_32batch_run-123_epoch-4.pt\n",
      "2025-10-22 16:53:01.572 INFO: Loaded Stage one model from epoch 4 for evaluation\n",
      "2025-10-22 16:53:01.572 INFO: Saving model to checkpoints\\model_02_5epochs_32batch_run-123.model\n",
      "2025-10-22 16:53:01.725 INFO: Compiling model, saving metadata to model_02_5epochs_32batch_compiled.model\n",
      "2025-10-22 16:53:02.468 INFO: Computing metrics for training, validation, and test sets\n",
      "2025-10-22 16:53:02.468 INFO: Skipping evaluation for heads: ['pt_head']\n",
      "2025-10-22 16:53:02.468 INFO: Evaluating train_Default ...\n",
      "2025-10-22 16:53:03.569 INFO: Evaluating valid_Default ...\n",
      "2025-10-22 16:53:03.613 INFO: Error-table on TRAIN and VALID:\n",
      "+---------------+---------------------+------------------+-------------------+\n",
      "|  config_type  | RMSE E / meV / atom | RMSE F / meV / A | relative F RMSE % |\n",
      "+---------------+---------------------+------------------+-------------------+\n",
      "| train_Default |       130141.1      |    20380393.3    |     1184197.39    |\n",
      "| valid_Default |         3333.6      |        680.3     |         53.55     |\n",
      "+---------------+---------------------+------------------+-------------------+\n",
      "2025-10-22 16:53:03.613 INFO: Evaluating Fe13Si1B1_Default ...\n",
      "2025-10-22 16:53:04.115 INFO: Error-table on TEST:\n",
      "+-------------------+---------------------+------------------+-------------------+\n",
      "|    config_type    | RMSE E / meV / atom | RMSE F / meV / A | relative F RMSE % |\n",
      "+-------------------+---------------------+------------------+-------------------+\n",
      "| Fe13Si1B1_Default |        12397.6      |       2719.4     |         91.08     |\n",
      "+-------------------+---------------------+------------------+-------------------+\n",
      "2025-10-22 16:53:04.153 INFO: Done\n"
     ]
    }
   ],
   "source": [
    "#Perform training\n",
    "import warnings\n",
    "warnings.filterwarnings('ignore')\n",
    "from mace.cli.run_train import main as mace_run_train_main\n",
    "import sys\n",
    "import logging\n",
    "\n",
    "#defining the training function\n",
    "def train_mace(config_file_path):\n",
    "    logging.getLogger().handlers.clear()\n",
    "    sys.argv = ['program', '--config', config_file_path]\n",
    "    mace_run_train_main()\n",
    "\n",
    "#calling the function\n",
    "train_mace('config_new_model.yml') #aca va el nombre del yml file "
   ]
  },
  {
   "cell_type": "code",
   "execution_count": null,
   "id": "35e797c7",
   "metadata": {},
   "outputs": [],
   "source": [
    "#reading the information on the results file\n",
    "results = f'results/{model_name}_run-123_train.txt' #reading the file where the training results is stored\n",
    "data = [] #where the data from the 'results' file will be stored\n",
    "with open(results, 'r') as f:\n",
    "    for line in f:\n",
    "        try:\n",
    "            data.append(json.loads(line))\n",
    "        except json.JSONDecodeError:\n",
    "            continue"
   ]
  },
  {
   "cell_type": "code",
   "execution_count": null,
   "id": "18168ab7",
   "metadata": {},
   "outputs": [],
   "source": [
    "#saving the data in a dataframe to be able to work with it in an easier way\n",
    "df = pd.DataFrame(data)\n",
    "#separating the training and validation results\n",
    "train_df = df[df['mode']=='opt'].copy()\n",
    "val_df = df[df['mode']=='eval'].copy().dropna()\n",
    "train_df = train_df.groupby('epoch', as_index=False)['loss'].last()\n",
    "#here we take the na values of the epocs that might appear by using the ffill function which fills the na values by propagating the last vaid observation to next valid \n",
    "#train_df['epoch'] = train_df['epoch'].ffill()\n",
    "#val_df['epoch'] = val_df['epoch'].ffill()"
   ]
  },
  {
   "cell_type": "code",
   "execution_count": null,
   "id": "d4fe62f4",
   "metadata": {},
   "outputs": [],
   "source": [
    "train_df"
   ]
  },
  {
   "cell_type": "code",
   "execution_count": null,
   "id": "6623980a",
   "metadata": {},
   "outputs": [],
   "source": [
    "val_df"
   ]
  },
  {
   "cell_type": "code",
   "execution_count": null,
   "id": "a0bb405f",
   "metadata": {},
   "outputs": [],
   "source": [
    "#plotting the \n",
    "#plt.figure()\n",
    "plt.scatter(train_df['epoch'],train_df['loss'], label='training loss', marker='o')\n",
    "plt.scatter(val_df['epoch'],val_df['loss'], label='validation loss', marker='s')\n",
    "plt.xlabel('Epoch')\n",
    "plt.ylabel('Loss')\n",
    "plt.legend()"
   ]
  },
  {
   "cell_type": "code",
   "execution_count": null,
   "id": "28e6fac7",
   "metadata": {},
   "outputs": [],
   "source": [
    "#plt.figure()\n",
    "plt.scatter(train_df['epoch'],train_df['loss'], label='training loss', marker='o')\n",
    "#plt.scatter(val_df['epoch'],val_df['loss'], label='validation loss', marker='s')\n",
    "plt.xlabel('Epoch')\n",
    "plt.ylabel('Loss')\n",
    "plt.legend()\n",
    "#saving the plots\n",
    "last_epoch = int(train_df['epoch'].max())\n",
    "filename = f'img_res/{model_name}_train_loss.pdf'\n",
    "plt.savefig(filename)"
   ]
  },
  {
   "cell_type": "code",
   "execution_count": null,
   "id": "a8fa2bf3",
   "metadata": {},
   "outputs": [],
   "source": [
    "plt.figure(figsize=(8,5))\n",
    "#plt.scatter(train_df['epoch'],train_df['loss'], label='training loss', marker='o')\n",
    "plt.scatter(val_df['epoch'],val_df['loss'], label='validation loss', marker='s')\n",
    "plt.xlabel('Epoch')\n",
    "plt.ylabel('Loss')\n",
    "plt.legend()\n",
    "#saving the plots\n",
    "last_epoch = int(train_df['epoch'].max())\n",
    "filename = f'img_res/{model_name}_val_loss.pdf'\n",
    "plt.savefig(filename)"
   ]
  },
  {
   "cell_type": "code",
   "execution_count": null,
   "id": "40f95696",
   "metadata": {},
   "outputs": [],
   "source": [
    "#this is commented for now because we have set the data on which the energy and forces will be calculated\n",
    "'''#once the training is done, then a calculation can be performed using ase\n",
    "from ase.io import read\n",
    "from mace.calculators import MACECalculator\n",
    "\n",
    "#loading the model\n",
    "calculator = MACECalculator(model_paths=f'{model_name}.model', device='cuda')\n",
    "#read the configurations from where we want to calculate\n",
    "### I set here the training data, but we could also calculate it on different data to see how it actually performs on new data\n",
    "configs = read('test_01.xyz', ':')\n",
    "\n",
    "#set a list to store the information\n",
    "results = []\n",
    "# read the results\n",
    "for i, atoms in enumerate(configs):\n",
    "    atoms.set_calculator(calculator)\n",
    "    energy = atoms.get_potential_energy()\n",
    "    forces = atoms.get_forces()\n",
    "    #max_force = abs(forces).max()  # max absolute force\n",
    "    #mean_force = abs(forces).mean()  # mean absolute force\n",
    "    # Add to list\n",
    "    results.append({\n",
    "        \"config_id\": i,\n",
    "        \"energy (eV)\": energy,\n",
    "    #    \"max_force (eV/Å)\": max_force,\n",
    "    #    \"mean_force (eV/Å)\": mean_force,\n",
    "        \"num_atoms\": len(atoms)\n",
    "    })\n",
    "# Create dataframe\n",
    "df = pd.DataFrame(results)\n",
    "df.to_excel(f'{model_name}.xlsx', index=False) #this is to save the results in an exel file'''"
   ]
  }
 ],
 "metadata": {
  "kernelspec": {
   "display_name": "Python 3",
   "language": "python",
   "name": "python3"
  },
  "language_info": {
   "codemirror_mode": {
    "name": "ipython",
    "version": 3
   },
   "file_extension": ".py",
   "mimetype": "text/x-python",
   "name": "python",
   "nbconvert_exporter": "python",
   "pygments_lexer": "ipython3",
   "version": "3.9.23"
  }
 },
 "nbformat": 4,
 "nbformat_minor": 5
}
