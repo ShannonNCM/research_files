{
 "cells": [
  {
   "cell_type": "code",
   "execution_count": 33,
   "id": "f51d5203",
   "metadata": {},
   "outputs": [],
   "source": [
    "#import libraries\n",
    "import numpy as np\n",
    "from ase.io import read, write\n",
    "from ase import Atoms\n",
    "import torch\n",
    "import yaml\n",
    "import json\n",
    "import matplotlib.pyplot as plt\n",
    "import pandas as pd\n",
    "import os#\n",
    "import sys\n",
    "os.makedirs('img_res', exist_ok=True) #creates a folder to store the loss graphs\n",
    "os.makedirs('test_res', exist_ok=True) #creates a folder to store the files of the testing of the model\n",
    "import functions as f #import functions used to plot"
   ]
  },
  {
   "cell_type": "code",
   "execution_count": 34,
   "id": "639216f7",
   "metadata": {},
   "outputs": [],
   "source": [
    "#I found a warning regarding the key names for energy and forces, the label changes from 'energy' to 'REF_energy'\n",
    "input_file = \"251017_training_data.xyz\"\n",
    "output_file = \"251017_training_data_fixed.xyz\"\n",
    "\n",
    "with open(input_file, \"r\") as f:\n",
    "    lines = f.readlines()\n",
    "\n",
    "new_lines = []\n",
    "for line in lines:\n",
    "    # Fix energy key in header lines\n",
    "    if \"energy=\" in line:\n",
    "        line = line.replace(\"energy=\", \"REF_energy=\")\n",
    "    # Fix forces key in Properties line\n",
    "    if \"Properties=\" in line and \"forces:R:3\" in line:\n",
    "        line = line.replace(\"forces:R:3\", \"REF_forces:R:3\")\n",
    "    new_lines.append(line)\n",
    "\n",
    "# Write the fixed file\n",
    "with open(output_file, \"w\") as f:\n",
    "    f.writelines(new_lines)"
   ]
  },
  {
   "cell_type": "code",
   "execution_count": 35,
   "id": "fc46ac95",
   "metadata": {},
   "outputs": [],
   "source": [
    "#importing the full data (this is in case I have like the whole data in one file)\n",
    "db = read('251017_training_data_fixed.xyz', ':')"
   ]
  },
  {
   "cell_type": "code",
   "execution_count": 36,
   "id": "80c5abf0",
   "metadata": {},
   "outputs": [],
   "source": [
    "#splitting the data into the training and test sets\n",
    "write('train_01.xyz', db[:520])\n",
    "write('test_01.xyz', db[520:])"
   ]
  },
  {
   "cell_type": "code",
   "execution_count": null,
   "id": "74fa96e2",
   "metadata": {},
   "outputs": [
    {
     "data": {
      "text/plain": [
       "'model_04_50epochs_32batch'"
      ]
     },
     "execution_count": 49,
     "metadata": {},
     "output_type": "execute_result"
    }
   ],
   "source": [
    "#setting the model name based on model number and epochs\n",
    "device = 'cpu'\n",
    "''' model_num:\n",
    "    1 -> this indicates the model using 250 training data\n",
    "    2 -> this indicates the model using 520 training data which is 80% of the data set\n",
    "    3,4 -> this indicates the model using different values of learning rate 0.005, 0.0001 '''\n",
    "model_num = 4\n",
    "''' num_epochs:\n",
    "    sets the number of epochs used for running the trainig'''\n",
    "num_epoch = 30\n",
    "''' batch_size:\n",
    "    sets the batch size for training'''\n",
    "batch_size = 32\n",
    "''' model_name:\n",
    "    generates the name of the model based on the number of epochs and the model number using the 'model_num' variable '''\n",
    "model_name = f'model_0{model_num}_{num_epoch}epochs_{batch_size}batch'\n",
    "model_name"
   ]
  },
  {
   "cell_type": "code",
   "execution_count": 50,
   "id": "3ff8e33c",
   "metadata": {},
   "outputs": [],
   "source": [
    "#this writes the yml file\n",
    "config = {\n",
    "    \"model\": \"MACE\",\n",
    "    \"num_channels\": 32,\n",
    "    \"max_L\": 0,\n",
    "    \"r_max\": 4.0,\n",
    "    \"name\": model_name,\n",
    "    \"train_file\": f\"train_01.xyz\",\n",
    "    \"valid_fraction\": 0.01,\n",
    "    \"test_file\": f\"test_01.xyz\",\n",
    "    \"energy_key\": \"REF_energy\",\n",
    "    \"forces_key\": \"REF_forces\",\n",
    "    \"batch_size\": batch_size,\n",
    "    \"max_num_epochs\": num_epoch,\n",
    "    \"optimizer\" : \"adam\",\n",
    "    \"lr\":0.0001,\n",
    "    \"device\": device,\n",
    "    \"seed\": 123\n",
    "}\n",
    "with open(\"config_new_model.yml\", \"w\") as f:\n",
    "    yaml.dump(config, f, sort_keys=False)"
   ]
  },
  {
   "cell_type": "code",
   "execution_count": 51,
   "id": "bb25a34f",
   "metadata": {},
   "outputs": [
    {
     "name": "stdout",
     "output_type": "stream",
     "text": [
      "2025-10-24 00:23:46.169 INFO: ===========VERIFYING SETTINGS===========\n",
      "2025-10-24 00:23:46.170 INFO: MACE version: 0.3.14\n",
      "2025-10-24 00:23:46.171 INFO: Using CPU\n",
      "2025-10-24 00:23:46.206 INFO: ===========LOADING INPUT DATA===========\n",
      "2025-10-24 00:23:46.207 INFO: Using heads: ['Default']\n",
      "2025-10-24 00:23:46.208 INFO: Using the key specifications to parse data:\n",
      "2025-10-24 00:23:46.209 INFO: Default: KeySpecification(info_keys={'energy': 'REF_energy', 'stress': 'REF_stress', 'virials': 'REF_virials', 'dipole': 'dipole', 'head': 'head', 'elec_temp': 'elec_temp', 'total_charge': 'total_charge', 'polarizability': 'polarizability', 'total_spin': 'total_spin'}, arrays_keys={'forces': 'REF_forces', 'charges': 'REF_charges'})\n",
      "2025-10-24 00:23:46.209 INFO: =============    Processing head Default     ===========\n",
      "2025-10-24 00:23:46.281 INFO: Using isolated atom energies from training file\n",
      "2025-10-24 00:23:46.291 INFO: Training set 1/1 [energy: 517, stress: 0, virials: 0, dipole components: 0, head: 517, elec_temp: 0, total_charge: 0, polarizability: 0, total_spin: 0, forces: 517, charges: 0]\n",
      "2025-10-24 00:23:46.293 INFO: Total Training set [energy: 517, stress: 0, virials: 0, dipole components: 0, head: 517, elec_temp: 0, total_charge: 0, polarizability: 0, total_spin: 0, forces: 517, charges: 0]\n",
      "2025-10-24 00:23:46.294 INFO: No validation set provided, splitting training data instead.\n",
      "2025-10-24 00:23:46.294 INFO: Using random 1% of training set for validation with following indices: [5, 302, 291, 153, 461]\n",
      "2025-10-24 00:23:46.296 INFO: Random Split Training set [energy: 512, stress: 0, virials: 0, dipole components: 0, head: 512, elec_temp: 0, total_charge: 0, polarizability: 0, total_spin: 0, forces: 512, charges: 0]\n",
      "2025-10-24 00:23:46.296 INFO: Random Split Validation set [energy: 5, stress: 0, virials: 0, dipole components: 0, head: 5, elec_temp: 0, total_charge: 0, polarizability: 0, total_spin: 0, forces: 5, charges: 0]\n",
      "2025-10-24 00:23:46.322 INFO: Test set 1/1 [energy: 133, stress: 0, virials: 0, dipole components: 0, head: 133, elec_temp: 0, total_charge: 0, polarizability: 0, total_spin: 0, forces: 133, charges: 0]\n",
      "2025-10-24 00:23:46.323 INFO: Total Test set [energy: 133, stress: 0, virials: 0, dipole components: 0, head: 133, elec_temp: 0, total_charge: 0, polarizability: 0, total_spin: 0, forces: 133, charges: 0]\n",
      "2025-10-24 00:23:46.324 INFO: Total number of configurations: train=512, valid=5, tests=[Fe13Si1B1_Default: 133],\n",
      "2025-10-24 00:23:46.324 WARNING: Validation batch size (10) is larger than the number of validation data (5)\n",
      "2025-10-24 00:23:46.325 INFO: Atomic Numbers used: [5, 14, 26]\n",
      "2025-10-24 00:23:46.325 INFO: Atomic Energies used (z: eV) for head Default: {5: -0.27559471, 14: -0.81049333, 26: -3.283081}\n",
      "2025-10-24 00:23:46.326 INFO: Processing datasets for head 'Default'\n",
      "2025-10-24 00:23:46.623 INFO: Combining 1 list datasets for head 'Default'\n",
      "2025-10-24 00:23:46.625 INFO: Head 'Default' training dataset size: 512\n",
      "2025-10-24 00:23:46.626 INFO: Computing average number of neighbors\n",
      "2025-10-24 00:23:46.692 INFO: Average number of neighbors: 17.63285789751717\n",
      "2025-10-24 00:23:46.693 INFO: During training the following quantities will be reported: energy, forces\n",
      "2025-10-24 00:23:46.693 INFO: ===========MODEL DETAILS===========\n",
      "2025-10-24 00:23:46.752 INFO: Building model\n",
      "2025-10-24 00:23:46.752 INFO: Message passing with 32 channels and max_L=0 (32x0e)\n",
      "2025-10-24 00:23:46.752 INFO: 2 layers, each with correlation order: 3 (body order: 4) and spherical harmonics up to: l=3\n",
      "2025-10-24 00:23:46.753 INFO: 8 radial and 5 basis functions\n",
      "2025-10-24 00:23:46.753 INFO: Radial cutoff: 4.0 A (total receptive field for each atom: 8.0 A)\n",
      "2025-10-24 00:23:46.754 INFO: Distance transform for radial basis functions: None\n",
      "2025-10-24 00:23:46.754 INFO: Hidden irreps: 32x0e\n",
      "2025-10-24 00:23:47.449 INFO: Total number of parameters: 67472\n",
      "2025-10-24 00:23:47.449 INFO: \n",
      "2025-10-24 00:23:47.450 INFO: ===========OPTIMIZER INFORMATION===========\n",
      "2025-10-24 00:23:47.450 INFO: Using ADAM as parameter optimizer\n",
      "2025-10-24 00:23:47.450 INFO: Batch size: 32\n",
      "2025-10-24 00:23:47.451 INFO: Number of gradient updates: 800\n",
      "2025-10-24 00:23:47.451 INFO: Learning rate: 0.0001, weight decay: 5e-07\n",
      "2025-10-24 00:23:47.451 INFO: WeightedEnergyForcesLoss(energy_weight=1.000, forces_weight=100.000)\n",
      "2025-10-24 00:23:47.452 INFO: Using gradient clipping with tolerance=10.000\n",
      "2025-10-24 00:23:47.452 INFO: \n",
      "2025-10-24 00:23:47.453 INFO: ===========TRAINING===========\n",
      "2025-10-24 00:23:47.453 INFO: Started training, reporting errors on validation set\n",
      "2025-10-24 00:23:47.453 INFO: Loss metrics on validation set\n",
      "2025-10-24 00:23:47.527 INFO: Initial: head: Default, loss=34.41957617, RMSE_E_per_atom= 3350.65 meV, RMSE_F= 1268.35 meV / A\n",
      "2025-10-24 00:23:54.651 INFO: Epoch 0: head: Default, loss=34.33889897, RMSE_E_per_atom= 3351.27 meV, RMSE_F= 1266.74 meV / A\n",
      "2025-10-24 00:24:01.460 INFO: Epoch 1: head: Default, loss=34.26545980, RMSE_E_per_atom= 3351.82 meV, RMSE_F= 1265.28 meV / A\n",
      "2025-10-24 00:24:08.261 INFO: Epoch 2: head: Default, loss=34.18766949, RMSE_E_per_atom= 3352.42 meV, RMSE_F= 1263.72 meV / A\n",
      "2025-10-24 00:24:15.126 INFO: Epoch 3: head: Default, loss=34.10498560, RMSE_E_per_atom= 3353.00 meV, RMSE_F= 1262.07 meV / A\n",
      "2025-10-24 00:24:21.967 INFO: Epoch 4: head: Default, loss=34.02198358, RMSE_E_per_atom= 3353.49 meV, RMSE_F= 1260.41 meV / A\n",
      "2025-10-24 00:24:28.874 INFO: Epoch 5: head: Default, loss=33.93373860, RMSE_E_per_atom= 3354.14 meV, RMSE_F= 1258.64 meV / A\n",
      "2025-10-24 00:24:35.732 INFO: Epoch 6: head: Default, loss=33.84260110, RMSE_E_per_atom= 3354.67 meV, RMSE_F= 1256.82 meV / A\n",
      "2025-10-24 00:24:42.612 INFO: Epoch 7: head: Default, loss=33.74312040, RMSE_E_per_atom= 3355.40 meV, RMSE_F= 1254.82 meV / A\n",
      "2025-10-24 00:24:49.474 INFO: Epoch 8: head: Default, loss=33.63859506, RMSE_E_per_atom= 3356.04 meV, RMSE_F= 1252.72 meV / A\n",
      "2025-10-24 00:24:56.282 INFO: Epoch 9: head: Default, loss=33.52862046, RMSE_E_per_atom= 3356.48 meV, RMSE_F= 1250.51 meV / A\n",
      "2025-10-24 00:25:03.167 INFO: Epoch 10: head: Default, loss=33.41145084, RMSE_E_per_atom= 3356.96 meV, RMSE_F= 1248.15 meV / A\n",
      "2025-10-24 00:25:12.377 INFO: Epoch 11: head: Default, loss=33.28471194, RMSE_E_per_atom= 3357.59 meV, RMSE_F= 1245.59 meV / A\n",
      "2025-10-24 00:25:19.157 INFO: Epoch 12: head: Default, loss=33.15338495, RMSE_E_per_atom= 3358.35 meV, RMSE_F= 1242.93 meV / A\n",
      "2025-10-24 00:25:25.942 INFO: Epoch 13: head: Default, loss=33.00745267, RMSE_E_per_atom= 3359.01 meV, RMSE_F= 1239.98 meV / A\n",
      "2025-10-24 00:25:32.827 INFO: Epoch 14: head: Default, loss=32.85590250, RMSE_E_per_atom= 3359.37 meV, RMSE_F= 1236.91 meV / A\n",
      "2025-10-24 00:25:39.735 INFO: Epoch 15: head: Default, loss=32.68926817, RMSE_E_per_atom= 3359.98 meV, RMSE_F= 1233.52 meV / A\n",
      "2025-10-24 00:25:46.504 INFO: Epoch 16: head: Default, loss=32.51811022, RMSE_E_per_atom= 3360.45 meV, RMSE_F= 1230.03 meV / A\n",
      "2025-10-24 00:25:53.329 INFO: Epoch 17: head: Default, loss=32.31353814, RMSE_E_per_atom= 3361.24 meV, RMSE_F= 1225.85 meV / A\n",
      "2025-10-24 00:26:00.103 INFO: Epoch 18: head: Default, loss=32.12486807, RMSE_E_per_atom= 3361.41 meV, RMSE_F= 1221.99 meV / A\n",
      "2025-10-24 00:26:06.967 INFO: Epoch 19: head: Default, loss=31.89693265, RMSE_E_per_atom= 3362.00 meV, RMSE_F= 1217.30 meV / A\n",
      "2025-10-24 00:26:13.755 INFO: Epoch 20: head: Default, loss=31.67516871, RMSE_E_per_atom= 3362.45 meV, RMSE_F= 1212.72 meV / A\n",
      "2025-10-24 00:26:20.543 INFO: Epoch 21: head: Default, loss=31.44771339, RMSE_E_per_atom= 3362.94 meV, RMSE_F= 1208.01 meV / A\n",
      "2025-10-24 00:26:27.353 INFO: Epoch 22: head: Default, loss=31.19910931, RMSE_E_per_atom= 3363.05 meV, RMSE_F= 1202.85 meV / A\n",
      "2025-10-24 00:26:34.114 INFO: Epoch 23: head: Default, loss=30.96682703, RMSE_E_per_atom= 3362.82 meV, RMSE_F= 1198.02 meV / A\n",
      "2025-10-24 00:26:40.836 INFO: Epoch 24: head: Default, loss=30.71268074, RMSE_E_per_atom= 3363.00 meV, RMSE_F= 1192.70 meV / A\n",
      "2025-10-24 00:26:47.708 INFO: Epoch 25: head: Default, loss=30.46578518, RMSE_E_per_atom= 3362.63 meV, RMSE_F= 1187.53 meV / A\n",
      "2025-10-24 00:26:54.408 INFO: Epoch 26: head: Default, loss=30.18975566, RMSE_E_per_atom= 3362.50 meV, RMSE_F= 1181.70 meV / A\n",
      "2025-10-24 00:27:01.251 INFO: Epoch 27: head: Default, loss=29.87907024, RMSE_E_per_atom= 3362.55 meV, RMSE_F= 1175.11 meV / A\n",
      "2025-10-24 00:27:08.073 INFO: Epoch 28: head: Default, loss=29.59578217, RMSE_E_per_atom= 3361.59 meV, RMSE_F= 1169.10 meV / A\n",
      "2025-10-24 00:27:14.815 INFO: Epoch 29: head: Default, loss=29.30870583, RMSE_E_per_atom= 3360.87 meV, RMSE_F= 1162.96 meV / A\n",
      "2025-10-24 00:27:21.617 INFO: Epoch 30: head: Default, loss=29.00351650, RMSE_E_per_atom= 3359.83 meV, RMSE_F= 1156.41 meV / A\n",
      "2025-10-24 00:27:28.371 INFO: Epoch 31: head: Default, loss=28.71027106, RMSE_E_per_atom= 3358.73 meV, RMSE_F= 1150.09 meV / A\n",
      "2025-10-24 00:27:35.262 INFO: Epoch 32: head: Default, loss=28.41291557, RMSE_E_per_atom= 3357.12 meV, RMSE_F= 1143.65 meV / A\n",
      "2025-10-24 00:27:42.039 INFO: Epoch 33: head: Default, loss=28.07282329, RMSE_E_per_atom= 3355.47 meV, RMSE_F= 1136.24 meV / A\n",
      "2025-10-24 00:27:48.899 INFO: Epoch 34: head: Default, loss=27.78488827, RMSE_E_per_atom= 3353.48 meV, RMSE_F= 1129.95 meV / A\n",
      "2025-10-24 00:27:55.711 INFO: Epoch 35: head: Default, loss=27.46335528, RMSE_E_per_atom= 3351.44 meV, RMSE_F= 1122.87 meV / A\n",
      "2025-10-24 00:28:02.482 INFO: Epoch 36: head: Default, loss=27.16268932, RMSE_E_per_atom= 3348.67 meV, RMSE_F= 1116.24 meV / A\n",
      "2025-10-24 00:28:09.329 INFO: Epoch 37: head: Default, loss=26.84218330, RMSE_E_per_atom= 3346.50 meV, RMSE_F= 1109.11 meV / A\n",
      "2025-10-24 00:28:16.148 INFO: Epoch 38: head: Default, loss=26.53896650, RMSE_E_per_atom= 3344.30 meV, RMSE_F= 1102.32 meV / A\n",
      "2025-10-24 00:28:22.946 INFO: Epoch 39: head: Default, loss=26.25580850, RMSE_E_per_atom= 3341.12 meV, RMSE_F= 1095.97 meV / A\n",
      "2025-10-24 00:28:29.742 INFO: Epoch 40: head: Default, loss=26.03997643, RMSE_E_per_atom= 3337.38 meV, RMSE_F= 1091.15 meV / A\n",
      "2025-10-24 00:28:36.552 INFO: Epoch 41: head: Default, loss=25.75131542, RMSE_E_per_atom= 3334.20 meV, RMSE_F= 1084.62 meV / A\n",
      "2025-10-24 00:28:43.315 INFO: Epoch 42: head: Default, loss=25.49466528, RMSE_E_per_atom= 3330.29 meV, RMSE_F= 1078.81 meV / A\n",
      "2025-10-24 00:28:50.153 INFO: Epoch 43: head: Default, loss=25.21319424, RMSE_E_per_atom= 3326.89 meV, RMSE_F= 1072.37 meV / A\n",
      "2025-10-24 00:28:56.992 INFO: Epoch 44: head: Default, loss=24.98224411, RMSE_E_per_atom= 3322.65 meV, RMSE_F= 1067.10 meV / A\n",
      "2025-10-24 00:29:03.792 INFO: Epoch 45: head: Default, loss=24.74458499, RMSE_E_per_atom= 3317.81 meV, RMSE_F= 1061.67 meV / A\n",
      "2025-10-24 00:29:10.600 INFO: Epoch 46: head: Default, loss=24.54133015, RMSE_E_per_atom= 3314.05 meV, RMSE_F= 1056.99 meV / A\n",
      "2025-10-24 00:29:17.369 INFO: Epoch 47: head: Default, loss=24.35385787, RMSE_E_per_atom= 3309.20 meV, RMSE_F= 1052.70 meV / A\n",
      "2025-10-24 00:29:24.194 INFO: Epoch 48: head: Default, loss=24.09807014, RMSE_E_per_atom= 3304.32 meV, RMSE_F= 1046.77 meV / A\n",
      "2025-10-24 00:29:31.072 INFO: Epoch 49: head: Default, loss=23.87757279, RMSE_E_per_atom= 3299.87 meV, RMSE_F= 1041.63 meV / A\n",
      "2025-10-24 00:29:31.084 INFO: Training complete\n",
      "2025-10-24 00:29:31.084 INFO: \n",
      "2025-10-24 00:29:31.085 INFO: ===========RESULTS===========\n",
      "2025-10-24 00:29:31.120 INFO: Loading checkpoint: ./checkpoints/model_04_50epochs_32batch_run-123_epoch-49.pt\n",
      "2025-10-24 00:29:31.128 INFO: Loaded Stage one model from epoch 49 for evaluation\n",
      "2025-10-24 00:29:31.128 INFO: Saving model to checkpoints/model_04_50epochs_32batch_run-123.model\n",
      "2025-10-24 00:29:31.227 INFO: Compiling model, saving metadata to model_04_50epochs_32batch_compiled.model\n",
      "2025-10-24 00:29:31.663 INFO: Computing metrics for training, validation, and test sets\n",
      "2025-10-24 00:29:31.664 INFO: Skipping evaluation for heads: ['pt_head']\n",
      "2025-10-24 00:29:31.664 INFO: Evaluating train_Default ...\n",
      "2025-10-24 00:29:34.330 INFO: Evaluating valid_Default ...\n",
      "2025-10-24 00:29:34.369 INFO: Error-table on TRAIN and VALID:\n",
      "+---------------+---------------------+------------------+-------------------+\n",
      "|  config_type  | RMSE E / meV / atom | RMSE F / meV / A | relative F RMSE % |\n",
      "+---------------+---------------------+------------------+-------------------+\n",
      "| train_Default |       130099.4      |      14364.6     |        834.65     |\n",
      "| valid_Default |         3299.9      |       1041.6     |         81.99     |\n",
      "+---------------+---------------------+------------------+-------------------+\n",
      "2025-10-24 00:29:34.369 INFO: Evaluating Fe13Si1B1_Default ...\n",
      "2025-10-24 00:29:35.456 INFO: Error-table on TEST:\n",
      "+-------------------+---------------------+------------------+-------------------+\n",
      "|    config_type    | RMSE E / meV / atom | RMSE F / meV / A | relative F RMSE % |\n",
      "+-------------------+---------------------+------------------+-------------------+\n",
      "| Fe13Si1B1_Default |        12453.3      |       2770.6     |         92.79     |\n",
      "+-------------------+---------------------+------------------+-------------------+\n",
      "2025-10-24 00:29:35.668 INFO: Done\n"
     ]
    }
   ],
   "source": [
    "#Perform training\n",
    "import warnings\n",
    "warnings.filterwarnings('ignore')\n",
    "from mace.cli.run_train import main as mace_run_train_main\n",
    "import sys\n",
    "import logging\n",
    "\n",
    "#defining the training function\n",
    "def train_mace(config_file_path):\n",
    "    logging.getLogger().handlers.clear()\n",
    "    sys.argv = ['program', '--config', config_file_path]\n",
    "    mace_run_train_main()\n",
    "\n",
    "#calling the function\n",
    "train_mace('config_new_model.yml') # use the name of the config file that was created"
   ]
  },
  {
   "cell_type": "code",
   "execution_count": 52,
   "id": "35e797c7",
   "metadata": {},
   "outputs": [],
   "source": [
    "#reading the information on the results file\n",
    "results = f'results/{model_name}_run-123_train.txt' #reading the file where the training results is stored\n",
    "data = [] #where the data from the 'results' file will be stored\n",
    "with open(results, 'r') as f:\n",
    "    for line in f:\n",
    "        try:\n",
    "            data.append(json.loads(line))\n",
    "        except json.JSONDecodeError:\n",
    "            continue"
   ]
  },
  {
   "cell_type": "code",
   "execution_count": 53,
   "id": "9bb576e0",
   "metadata": {},
   "outputs": [
    {
     "data": {
      "text/plain": [
       "'results/model_04_50epochs_32batch_run-123_train.txt'"
      ]
     },
     "execution_count": 53,
     "metadata": {},
     "output_type": "execute_result"
    }
   ],
   "source": [
    "results"
   ]
  },
  {
   "cell_type": "code",
   "execution_count": 54,
   "id": "18168ab7",
   "metadata": {},
   "outputs": [
    {
     "data": {
      "image/png": "[encoded data removed]",
      "text/plain": [
       "<Figure size 640x480 with 1 Axes>"
      ]
     },
     "metadata": {},
     "output_type": "display_data"
    },
    {
     "data": {
      "image/png": "[encoded data removed]",
      "text/plain": [
       "<Figure size 640x480 with 1 Axes>"
      ]
     },
     "metadata": {},
     "output_type": "display_data"
    }
   ],
   "source": [
    "#saving the data in a dataframe to be able to work with it in an easier way\n",
    "df = pd.DataFrame(data)\n",
    "#separating the training and validation results\n",
    "train_df = df[df['mode']=='opt'].copy()\n",
    "val_df = df[df['mode']=='eval'].copy().dropna()\n",
    "train_df = train_df.groupby('epoch', as_index=False)['loss'].last()\n",
    "train_df['epoch'] += 1\n",
    "val_df['epoch'] += 1\n",
    "\n",
    "#plotting the dataframe\n",
    "import functions as f\n",
    "f.plot_mae(val_df, 'epoch', ['mae_e','mae_f'])"
   ]
  },
  {
   "cell_type": "code",
   "execution_count": 55,
   "id": "02933d78",
   "metadata": {},
   "outputs": [
    {
     "data": {
      "image/png": "[encoded data removed]",
      "text/plain": [
       "<Figure size 640x480 with 1 Axes>"
      ]
     },
     "metadata": {},
     "output_type": "display_data"
    },
    {
     "data": {
      "image/png": "[encoded data removed]",
      "text/plain": [
       "<Figure size 640x480 with 1 Axes>"
      ]
     },
     "metadata": {},
     "output_type": "display_data"
    },
    {
     "data": {
      "image/png": "[encoded data removed]",
      "text/plain": [
       "<Figure size 640x480 with 1 Axes>"
      ]
     },
     "metadata": {},
     "output_type": "display_data"
    }
   ],
   "source": [
    "#plotting the validation and loss error\n",
    "f.plot_loss([(train_df, 'train'),(val_df,'val')],'epoch','loss',model_name)"
   ]
  },
  {
   "cell_type": "code",
   "execution_count": 56,
   "id": "9a0749e0",
   "metadata": {},
   "outputs": [],
   "source": [
    "#the model can be evaluated using this\n",
    "from mace.cli.eval_configs import main as mace_eval_configs_main\n",
    "import sys\n",
    "\n",
    "def eval_mace(model, configs, output, device=device):\n",
    "    sys.argv=['program', '--configs', configs, '--model', model, '--output', output, '--device', device]\n",
    "    mace_eval_configs_main()"
   ]
  },
  {
   "cell_type": "code",
   "execution_count": 57,
   "id": "66eb67bb",
   "metadata": {},
   "outputs": [
    {
     "name": "stdout",
     "output_type": "stream",
     "text": [
      "2025-10-24 00:29:36.024 INFO: Using CPU\n",
      "2025-10-24 00:29:38.994 INFO: Using CPU\n"
     ]
    }
   ],
   "source": [
    "#evaluating the set on both the training and test datasets\n",
    "eval_mace(model=f'{model_name}.model',\n",
    "          configs='train_01.xyz',\n",
    "          output=f'test_res/{model_name}_train.xyz')\n",
    "\n",
    "eval_mace(model=f'{model_name}.model',\n",
    "          configs='test_01.xyz',\n",
    "          output=f'test_res/{model_name}_test.xyz')"
   ]
  },
  {
   "cell_type": "code",
   "execution_count": 58,
   "id": "ad4980f8",
   "metadata": {},
   "outputs": [
    {
     "data": {
      "text/html": [
       "<div>\n",
       "<style scoped>\n",
       "    .dataframe tbody tr th:only-of-type {\n",
       "        vertical-align: middle;\n",
       "    }\n",
       "\n",
       "    .dataframe tbody tr th {\n",
       "        vertical-align: top;\n",
       "    }\n",
       "\n",
       "    .dataframe thead th {\n",
       "        text-align: right;\n",
       "    }\n",
       "</style>\n",
       "<table border=\"1\" class=\"dataframe\">\n",
       "  <thead>\n",
       "    <tr style=\"text-align: right;\">\n",
       "      <th></th>\n",
       "      <th>REF_energy</th>\n",
       "      <th>MACE_energy</th>\n",
       "    </tr>\n",
       "  </thead>\n",
       "  <tbody>\n",
       "    <tr>\n",
       "      <th>0</th>\n",
       "      <td>-108.197314</td>\n",
       "      <td>-48.685879</td>\n",
       "    </tr>\n",
       "    <tr>\n",
       "      <th>1</th>\n",
       "      <td>-108.155668</td>\n",
       "      <td>-49.031285</td>\n",
       "    </tr>\n",
       "    <tr>\n",
       "      <th>2</th>\n",
       "      <td>-107.938072</td>\n",
       "      <td>-47.899325</td>\n",
       "    </tr>\n",
       "    <tr>\n",
       "      <th>3</th>\n",
       "      <td>-111.978524</td>\n",
       "      <td>-51.176238</td>\n",
       "    </tr>\n",
       "    <tr>\n",
       "      <th>4</th>\n",
       "      <td>-111.939598</td>\n",
       "      <td>-50.949609</td>\n",
       "    </tr>\n",
       "    <tr>\n",
       "      <th>...</th>\n",
       "      <td>...</td>\n",
       "      <td>...</td>\n",
       "    </tr>\n",
       "    <tr>\n",
       "      <th>128</th>\n",
       "      <td>-106.479300</td>\n",
       "      <td>-48.339734</td>\n",
       "    </tr>\n",
       "    <tr>\n",
       "      <th>129</th>\n",
       "      <td>-102.204540</td>\n",
       "      <td>-47.168668</td>\n",
       "    </tr>\n",
       "    <tr>\n",
       "      <th>130</th>\n",
       "      <td>-101.649356</td>\n",
       "      <td>-48.426980</td>\n",
       "    </tr>\n",
       "    <tr>\n",
       "      <th>131</th>\n",
       "      <td>-98.841753</td>\n",
       "      <td>-47.294677</td>\n",
       "    </tr>\n",
       "    <tr>\n",
       "      <th>132</th>\n",
       "      <td>-110.279499</td>\n",
       "      <td>-50.946755</td>\n",
       "    </tr>\n",
       "  </tbody>\n",
       "</table>\n",
       "<p>133 rows × 2 columns</p>\n",
       "</div>"
      ],
      "text/plain": [
       "     REF_energy  MACE_energy\n",
       "0   -108.197314   -48.685879\n",
       "1   -108.155668   -49.031285\n",
       "2   -107.938072   -47.899325\n",
       "3   -111.978524   -51.176238\n",
       "4   -111.939598   -50.949609\n",
       "..          ...          ...\n",
       "128 -106.479300   -48.339734\n",
       "129 -102.204540   -47.168668\n",
       "130 -101.649356   -48.426980\n",
       "131  -98.841753   -47.294677\n",
       "132 -110.279499   -50.946755\n",
       "\n",
       "[133 rows x 2 columns]"
      ]
     },
     "execution_count": 58,
     "metadata": {},
     "output_type": "execute_result"
    }
   ],
   "source": [
    "from ase.io import read\n",
    "\n",
    "#importing data from the evaluation of the test set\n",
    "#read the configurations with the mace predictions\n",
    "res_list = read(f'test_res/{model_name}_test.xyz', index=':')\n",
    "#extracting the reference and mace energies\n",
    "res = [(a.info['REF_energy'], a.info['MACE_energy']) for a in res_list]\n",
    "df_res = pd.DataFrame(res, columns=['REF_energy', 'MACE_energy'])\n",
    "df_res"
   ]
  },
  {
   "cell_type": "code",
   "execution_count": 59,
   "id": "0c6f6e07",
   "metadata": {},
   "outputs": [
    {
     "data": {
      "image/png": "[encoded data removed]",
      "text/plain": [
       "<Figure size 640x480 with 1 Axes>"
      ]
     },
     "metadata": {},
     "output_type": "display_data"
    }
   ],
   "source": [
    "f.plot_energy_comparison(df_res, 'REF_energy', 'MACE_energy')"
   ]
  },
  {
   "cell_type": "code",
   "execution_count": 60,
   "id": "40f95696",
   "metadata": {},
   "outputs": [
    {
     "data": {
      "text/plain": [
       "'#this is commented for now because we have set the data on which the energy and forces will be calculated\\n#once the training is done, then a calculation can be performed using ase\\nfrom ase.io import read\\nfrom mace.calculators import MACECalculator\\n\\n#loading the model\\ncalculator = MACECalculator(model_paths=f\\'{model_name}.model\\', device=\\'cuda\\')\\n#read the configurations from where we want to calculate\\n### I set here the training data, but we could also calculate it on different data to see how it actually performs on new data\\nconfigs = read(\\'test_01.xyz\\', \\':\\')\\n\\n#set a list to store the information\\nresults = []\\n# read the results\\nfor i, atoms in enumerate(configs):\\n    atoms.set_calculator(calculator)\\n    energy = atoms.get_potential_energy()\\n    forces = atoms.get_forces()\\n    #max_force = abs(forces).max()  # max absolute force\\n    #mean_force = abs(forces).mean()  # mean absolute force\\n    # Add to list\\n    results.append({\\n        \"config_id\": i,\\n        \"energy (eV)\": energy,\\n    #    \"max_force (eV/Å)\": max_force,\\n    #    \"mean_force (eV/Å)\": mean_force,\\n        \"num_atoms\": len(atoms)\\n    })\\n# Create dataframe\\ndf = pd.DataFrame(results)\\ndf.to_excel(f\\'{model_name}.xlsx\\', index=False) #this is to save the results in an exel file'"
      ]
     },
     "execution_count": 60,
     "metadata": {},
     "output_type": "execute_result"
    }
   ],
   "source": [
    "'''#this is commented for now because we have set the data on which the energy and forces will be calculated\n",
    "#once the training is done, then a calculation can be performed using ase\n",
    "from ase.io import read\n",
    "from mace.calculators import MACECalculator\n",
    "\n",
    "#loading the model\n",
    "calculator = MACECalculator(model_paths=f'{model_name}.model', device='cuda')\n",
    "#read the configurations from where we want to calculate\n",
    "### I set here the training data, but we could also calculate it on different data to see how it actually performs on new data\n",
    "configs = read('test_01.xyz', ':')\n",
    "\n",
    "#set a list to store the information\n",
    "results = []\n",
    "# read the results\n",
    "for i, atoms in enumerate(configs):\n",
    "    atoms.set_calculator(calculator)\n",
    "    energy = atoms.get_potential_energy()\n",
    "    forces = atoms.get_forces()\n",
    "    #max_force = abs(forces).max()  # max absolute force\n",
    "    #mean_force = abs(forces).mean()  # mean absolute force\n",
    "    # Add to list\n",
    "    results.append({\n",
    "        \"config_id\": i,\n",
    "        \"energy (eV)\": energy,\n",
    "    #    \"max_force (eV/Å)\": max_force,\n",
    "    #    \"mean_force (eV/Å)\": mean_force,\n",
    "        \"num_atoms\": len(atoms)\n",
    "    })\n",
    "# Create dataframe\n",
    "df = pd.DataFrame(results)\n",
    "df.to_excel(f'{model_name}.xlsx', index=False) #this is to save the results in an exel file'''"
   ]
  }
 ],
 "metadata": {
  "kernelspec": {
   "display_name": "Python 3",
   "language": "python",
   "name": "python3"
  },
  "language_info": {
   "codemirror_mode": {
    "name": "ipython",
    "version": 3
   },
   "file_extension": ".py",
   "mimetype": "text/x-python",
   "name": "python",
   "nbconvert_exporter": "python",
   "pygments_lexer": "ipython3",
   "version": "3.9.13"
  }
 },
 "nbformat": 4,
 "nbformat_minor": 5
}
