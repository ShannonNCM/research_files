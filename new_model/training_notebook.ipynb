{
 "cells": [
  {
   "cell_type": "code",
   "execution_count": 2,
   "id": "f51d5203",
   "metadata": {},
   "outputs": [],
   "source": [
    "#import libraries\n",
    "import numpy as np\n",
    "from ase.io import read, write\n",
    "from ase import Atoms\n",
    "import torch\n",
    "import yaml\n",
    "import json\n",
    "import matplotlib.pyplot as plt\n",
    "import pandas as pd\n",
    "import os#\n",
    "import sys\n",
    "os.makedirs('img_res', exist_ok=True) #creates a folder to store the loss graphs\n",
    "os.makedirs('test_res', exist_ok=True) #creates a folder to store the files of the testing of the model"
   ]
  },
  {
   "cell_type": "code",
   "execution_count": 2,
   "id": "639216f7",
   "metadata": {},
   "outputs": [],
   "source": [
    "#I found a warning regarding the key names for energy and forces, the label changes from 'energy' to 'REF_energy'\n",
    "input_file = \"251017_training_data.xyz\"\n",
    "output_file = \"251017_training_data_fixed.xyz\"\n",
    "\n",
    "with open(input_file, \"r\") as f:\n",
    "    lines = f.readlines()\n",
    "\n",
    "new_lines = []\n",
    "for line in lines:\n",
    "    # Fix energy key in header lines\n",
    "    if \"energy=\" in line:\n",
    "        line = line.replace(\"energy=\", \"REF_energy=\")\n",
    "    # Fix forces key in Properties line\n",
    "    if \"Properties=\" in line and \"forces:R:3\" in line:\n",
    "        line = line.replace(\"forces:R:3\", \"REF_forces:R:3\")\n",
    "    new_lines.append(line)\n",
    "\n",
    "# Write the fixed file\n",
    "with open(output_file, \"w\") as f:\n",
    "    f.writelines(new_lines)"
   ]
  },
  {
   "cell_type": "code",
   "execution_count": 3,
   "id": "fc46ac95",
   "metadata": {},
   "outputs": [],
   "source": [
    "#importing the full data (this is in case I have like the whole data in one file)\n",
    "db = read('251017_training_data_fixed.xyz', ':')"
   ]
  },
  {
   "cell_type": "code",
   "execution_count": 17,
   "id": "80c5abf0",
   "metadata": {},
   "outputs": [],
   "source": [
    "#splitting the data into the training and test sets\n",
    "write('train_01.xyz', db[:520])\n",
    "write('test_01.xyz', db[520:])"
   ]
  },
  {
   "cell_type": "code",
   "execution_count": 3,
   "id": "74fa96e2",
   "metadata": {},
   "outputs": [
    {
     "data": {
      "text/plain": [
       "'model_02_30epochs_32batch'"
      ]
     },
     "execution_count": 3,
     "metadata": {},
     "output_type": "execute_result"
    }
   ],
   "source": [
    "#setting the model name based on model number and epochs\n",
    "''' model_num:\n",
    "    1 -> this indicates the model using 250 training data\n",
    "    2 -> this indicates the model using 520 training data which is 80% of the data set '''\n",
    "model_num = 2\n",
    "''' num_epochs:\n",
    "    sets the number of epochs used for running the trainig'''\n",
    "num_epoch = 30\n",
    "''' batch_size:\n",
    "    sets the batch size for training'''\n",
    "batch_size = 32\n",
    "''' model_name:\n",
    "    generates the name of the model based on the number of epochs and the model number using the 'model_num' variable '''\n",
    "model_name = f'model_0{model_num}_{num_epoch}epochs_{batch_size}batch'\n",
    "model_name"
   ]
  },
  {
   "cell_type": "code",
   "execution_count": 67,
   "id": "3ff8e33c",
   "metadata": {},
   "outputs": [],
   "source": [
    "#this writes the yml file\n",
    "config = {\n",
    "    \"model\": \"MACE\",\n",
    "    \"num_channels\": 32,\n",
    "    \"max_L\": 0,\n",
    "    \"r_max\": 4.0,\n",
    "    \"name\": model_name,\n",
    "    \"train_file\": f\"train_01.xyz\",\n",
    "    \"valid_fraction\": 0.01,\n",
    "    \"test_file\": f\"test_01.xyz\",\n",
    "    \"energy_key\": \"REF_energy\",\n",
    "    \"forces_key\": \"REF_forces\",\n",
    "    \"batch_size\": batch_size,\n",
    "    \"max_num_epochs\": num_epoch,\n",
    "    \"device\": \"cuda\",\n",
    "    \"seed\": 123\n",
    "}\n",
    "with open(\"config_new_model.yml\", \"w\") as f:\n",
    "    yaml.dump(config, f, sort_keys=False)"
   ]
  },
  {
   "cell_type": "code",
   "execution_count": 68,
   "id": "bb25a34f",
   "metadata": {},
   "outputs": [
    {
     "name": "stdout",
     "output_type": "stream",
     "text": [
      "2025-10-22 18:13:09.182 INFO: ===========VERIFYING SETTINGS===========\n",
      "2025-10-22 18:13:09.182 INFO: MACE version: 0.3.14\n",
      "2025-10-22 18:13:09.182 INFO: CUDA version: 12.6, CUDA device: 0\n",
      "2025-10-22 18:13:09.215 INFO: ===========LOADING INPUT DATA===========\n",
      "2025-10-22 18:13:09.215 INFO: Using heads: ['Default']\n",
      "2025-10-22 18:13:09.215 INFO: Using the key specifications to parse data:\n",
      "2025-10-22 18:13:09.215 INFO: Default: KeySpecification(info_keys={'energy': 'REF_energy', 'stress': 'REF_stress', 'virials': 'REF_virials', 'dipole': 'dipole', 'head': 'head', 'elec_temp': 'elec_temp', 'total_charge': 'total_charge', 'polarizability': 'polarizability', 'total_spin': 'total_spin'}, arrays_keys={'forces': 'REF_forces', 'charges': 'REF_charges'})\n",
      "2025-10-22 18:13:09.215 INFO: =============    Processing head Default     ===========\n",
      "2025-10-22 18:13:09.360 INFO: Using isolated atom energies from training file\n",
      "2025-10-22 18:13:09.378 INFO: Training set 1/1 [energy: 517, stress: 0, virials: 0, dipole components: 0, head: 517, elec_temp: 0, total_charge: 0, polarizability: 0, total_spin: 0, forces: 517, charges: 0]\n",
      "2025-10-22 18:13:09.378 INFO: Total Training set [energy: 517, stress: 0, virials: 0, dipole components: 0, head: 517, elec_temp: 0, total_charge: 0, polarizability: 0, total_spin: 0, forces: 517, charges: 0]\n",
      "2025-10-22 18:13:09.378 INFO: No validation set provided, splitting training data instead.\n",
      "2025-10-22 18:13:09.378 INFO: Using random 1% of training set for validation with following indices: [5, 302, 291, 153, 461]\n",
      "2025-10-22 18:13:09.378 INFO: Random Split Training set [energy: 512, stress: 0, virials: 0, dipole components: 0, head: 512, elec_temp: 0, total_charge: 0, polarizability: 0, total_spin: 0, forces: 512, charges: 0]\n",
      "2025-10-22 18:13:09.378 INFO: Random Split Validation set [energy: 5, stress: 0, virials: 0, dipole components: 0, head: 5, elec_temp: 0, total_charge: 0, polarizability: 0, total_spin: 0, forces: 5, charges: 0]\n",
      "2025-10-22 18:13:09.425 INFO: Test set 1/1 [energy: 133, stress: 0, virials: 0, dipole components: 0, head: 133, elec_temp: 0, total_charge: 0, polarizability: 0, total_spin: 0, forces: 133, charges: 0]\n",
      "2025-10-22 18:13:09.425 INFO: Total Test set [energy: 133, stress: 0, virials: 0, dipole components: 0, head: 133, elec_temp: 0, total_charge: 0, polarizability: 0, total_spin: 0, forces: 133, charges: 0]\n",
      "2025-10-22 18:13:09.425 INFO: Total number of configurations: train=512, valid=5, tests=[Fe13Si1B1_Default: 133],\n",
      "2025-10-22 18:13:09.425 WARNING: Validation batch size (10) is larger than the number of validation data (5)\n",
      "2025-10-22 18:13:09.425 INFO: Atomic Numbers used: [5, 14, 26]\n",
      "2025-10-22 18:13:09.425 INFO: Atomic Energies used (z: eV) for head Default: {5: -0.27559471, 14: -0.81049333, 26: -3.283081}\n",
      "2025-10-22 18:13:09.425 INFO: Processing datasets for head 'Default'\n",
      "2025-10-22 18:13:09.741 INFO: Combining 1 list datasets for head 'Default'\n",
      "2025-10-22 18:13:09.741 INFO: Head 'Default' training dataset size: 512\n",
      "2025-10-22 18:13:09.741 INFO: Computing average number of neighbors\n",
      "2025-10-22 18:13:09.843 INFO: Average number of neighbors: 17.63285789751717\n",
      "2025-10-22 18:13:09.843 INFO: During training the following quantities will be reported: energy, forces\n",
      "2025-10-22 18:13:09.843 INFO: ===========MODEL DETAILS===========\n",
      "2025-10-22 18:13:09.941 INFO: Building model\n",
      "2025-10-22 18:13:09.941 INFO: Message passing with 32 channels and max_L=0 (32x0e)\n",
      "2025-10-22 18:13:09.941 INFO: 2 layers, each with correlation order: 3 (body order: 4) and spherical harmonics up to: l=3\n",
      "2025-10-22 18:13:09.941 INFO: 8 radial and 5 basis functions\n",
      "2025-10-22 18:13:09.957 INFO: Radial cutoff: 4.0 A (total receptive field for each atom: 8.0 A)\n",
      "2025-10-22 18:13:09.957 INFO: Distance transform for radial basis functions: None\n",
      "2025-10-22 18:13:09.957 INFO: Hidden irreps: 32x0e\n",
      "2025-10-22 18:13:11.040 INFO: Total number of parameters: 67472\n",
      "2025-10-22 18:13:11.040 INFO: \n",
      "2025-10-22 18:13:11.040 INFO: ===========OPTIMIZER INFORMATION===========\n",
      "2025-10-22 18:13:11.040 INFO: Using ADAM as parameter optimizer\n",
      "2025-10-22 18:13:11.040 INFO: Batch size: 32\n",
      "2025-10-22 18:13:11.040 INFO: Number of gradient updates: 480\n",
      "2025-10-22 18:13:11.040 INFO: Learning rate: 0.01, weight decay: 5e-07\n",
      "2025-10-22 18:13:11.040 INFO: WeightedEnergyForcesLoss(energy_weight=1.000, forces_weight=100.000)\n",
      "2025-10-22 18:13:11.040 INFO: Using gradient clipping with tolerance=10.000\n",
      "2025-10-22 18:13:11.040 INFO: \n",
      "2025-10-22 18:13:11.040 INFO: ===========TRAINING===========\n",
      "2025-10-22 18:13:11.040 INFO: Started training, reporting errors on validation set\n",
      "2025-10-22 18:13:11.040 INFO: Loss metrics on validation set\n",
      "2025-10-22 18:13:11.124 INFO: Initial: head: Default, loss=34.41957617, RMSE_E_per_atom= 3350.65 meV, RMSE_F= 1268.35 meV / A\n",
      "2025-10-22 18:13:12.572 INFO: Epoch 0: head: Default, loss=27.51414625, RMSE_E_per_atom= 3243.49 meV, RMSE_F= 1127.17 meV / A\n",
      "2025-10-22 18:13:13.857 INFO: Epoch 1: head: Default, loss=13.80503671, RMSE_E_per_atom= 2827.49 meV, RMSE_F=  781.22 meV / A\n",
      "2025-10-22 18:13:15.159 INFO: Epoch 2: head: Default, loss=14.30309675, RMSE_E_per_atom= 2530.99 meV, RMSE_F=  806.91 meV / A\n",
      "2025-10-22 18:13:16.425 INFO: Epoch 3: head: Default, loss=24.09690651, RMSE_E_per_atom= 2520.92 meV, RMSE_F= 1068.31 meV / A\n",
      "2025-10-22 18:13:17.692 INFO: Epoch 4: head: Default, loss=10.11814342, RMSE_E_per_atom= 2142.20 meV, RMSE_F=  678.25 meV / A\n",
      "2025-10-22 18:13:18.975 INFO: Epoch 5: head: Default, loss=20.83144703, RMSE_E_per_atom= 1858.74 meV, RMSE_F= 1003.51 meV / A\n",
      "2025-10-22 18:13:20.271 INFO: Epoch 6: head: Default, loss=11.46911669, RMSE_E_per_atom= 1875.01 meV, RMSE_F=  733.69 meV / A\n",
      "2025-10-22 18:13:21.570 INFO: Epoch 7: head: Default, loss=8.30053036, RMSE_E_per_atom= 1956.40 meV, RMSE_F=  613.80 meV / A\n",
      "2025-10-22 18:13:22.893 INFO: Epoch 8: head: Default, loss=6.83805617, RMSE_E_per_atom= 1958.69 meV, RMSE_F=  550.94 meV / A\n",
      "2025-10-22 18:13:24.210 INFO: Epoch 9: head: Default, loss=8.30000443, RMSE_E_per_atom= 2004.46 meV, RMSE_F=  612.23 meV / A\n",
      "2025-10-22 18:13:25.510 INFO: Epoch 10: head: Default, loss=7.46739598, RMSE_E_per_atom= 1745.41 meV, RMSE_F=  585.58 meV / A\n",
      "2025-10-22 18:13:26.793 INFO: Epoch 11: head: Default, loss=11.34487219, RMSE_E_per_atom= 1688.13 meV, RMSE_F=  733.99 meV / A\n",
      "2025-10-22 18:13:28.087 INFO: Epoch 12: head: Default, loss=9.72635007, RMSE_E_per_atom= 1732.85 meV, RMSE_F=  675.49 meV / A\n",
      "2025-10-22 18:13:29.377 INFO: Epoch 13: head: Default, loss=9.13974812, RMSE_E_per_atom= 1562.85 meV, RMSE_F=  657.69 meV / A\n",
      "2025-10-22 18:13:30.677 INFO: Epoch 14: head: Default, loss=8.27687573, RMSE_E_per_atom= 1654.77 meV, RMSE_F=  621.66 meV / A\n",
      "2025-10-22 18:13:31.990 INFO: Epoch 15: head: Default, loss=6.32662402, RMSE_E_per_atom= 1745.98 meV, RMSE_F=  534.65 meV / A\n",
      "2025-10-22 18:13:33.306 INFO: Epoch 16: head: Default, loss=5.65098870, RMSE_E_per_atom= 1703.85 meV, RMSE_F=  503.51 meV / A\n",
      "2025-10-22 18:13:34.611 INFO: Epoch 17: head: Default, loss=6.58814678, RMSE_E_per_atom= 1588.36 meV, RMSE_F=  551.52 meV / A\n",
      "2025-10-22 18:13:35.919 INFO: Epoch 18: head: Default, loss=7.99836847, RMSE_E_per_atom= 1572.47 meV, RMSE_F=  612.53 meV / A\n",
      "2025-10-22 18:13:37.227 INFO: Epoch 19: head: Default, loss=6.23502999, RMSE_E_per_atom= 1634.23 meV, RMSE_F=  533.90 meV / A\n",
      "2025-10-22 18:13:38.527 INFO: Epoch 20: head: Default, loss=6.06835130, RMSE_E_per_atom= 1527.07 meV, RMSE_F=  529.24 meV / A\n",
      "2025-10-22 18:13:39.811 INFO: Epoch 21: head: Default, loss=7.76004988, RMSE_E_per_atom= 1451.05 meV, RMSE_F=  605.76 meV / A\n",
      "2025-10-22 18:13:41.094 INFO: Epoch 22: head: Default, loss=6.52557241, RMSE_E_per_atom= 1542.03 meV, RMSE_F=  550.00 meV / A\n",
      "2025-10-22 18:13:42.394 INFO: Epoch 23: head: Default, loss=7.03386527, RMSE_E_per_atom= 1440.20 meV, RMSE_F=  575.28 meV / A\n",
      "2025-10-22 18:13:43.676 INFO: Epoch 24: head: Default, loss=5.10747388, RMSE_E_per_atom= 1462.57 meV, RMSE_F=  483.72 meV / A\n",
      "2025-10-22 18:13:44.978 INFO: Epoch 25: head: Default, loss=6.93065340, RMSE_E_per_atom= 1390.93 meV, RMSE_F=  572.00 meV / A\n",
      "2025-10-22 18:13:46.271 INFO: Epoch 26: head: Default, loss=6.89951583, RMSE_E_per_atom= 1476.34 meV, RMSE_F=  568.49 meV / A\n",
      "2025-10-22 18:13:47.561 INFO: Epoch 27: head: Default, loss=6.49893300, RMSE_E_per_atom= 1415.15 meV, RMSE_F=  552.20 meV / A\n",
      "2025-10-22 18:13:48.845 INFO: Epoch 28: head: Default, loss=7.33344083, RMSE_E_per_atom= 1358.84 meV, RMSE_F=  590.09 meV / A\n",
      "2025-10-22 18:13:50.128 INFO: Epoch 29: head: Default, loss=5.35860869, RMSE_E_per_atom= 1307.34 meV, RMSE_F=  500.84 meV / A\n",
      "2025-10-22 18:13:50.128 INFO: Training complete\n",
      "2025-10-22 18:13:50.128 INFO: \n",
      "2025-10-22 18:13:50.128 INFO: ===========RESULTS===========\n",
      "2025-10-22 18:13:50.212 INFO: Loading checkpoint: .\\checkpoints\\model_02_30epochs_32batch_run-123_epoch-24.pt\n",
      "2025-10-22 18:13:50.245 INFO: Loaded Stage one model from epoch 24 for evaluation\n",
      "2025-10-22 18:13:50.261 INFO: Saving model to checkpoints\\model_02_30epochs_32batch_run-123.model\n",
      "2025-10-22 18:13:50.412 INFO: Compiling model, saving metadata to model_02_30epochs_32batch_compiled.model\n",
      "2025-10-22 18:13:51.095 INFO: Computing metrics for training, validation, and test sets\n",
      "2025-10-22 18:13:51.110 INFO: Skipping evaluation for heads: ['pt_head']\n",
      "2025-10-22 18:13:51.111 INFO: Evaluating train_Default ...\n",
      "2025-10-22 18:13:51.746 INFO: Evaluating valid_Default ...\n",
      "2025-10-22 18:13:51.795 INFO: Error-table on TRAIN and VALID:\n",
      "+---------------+---------------------+------------------+-------------------+\n",
      "|  config_type  | RMSE E / meV / atom | RMSE F / meV / A | relative F RMSE % |\n",
      "+---------------+---------------------+------------------+-------------------+\n",
      "| train_Default |       129965.8      |    3818998.8     |     221901.92     |\n",
      "| valid_Default |         1462.6      |        483.7     |         38.08     |\n",
      "+---------------+---------------------+------------------+-------------------+\n",
      "2025-10-22 18:13:51.795 INFO: Evaluating Fe13Si1B1_Default ...\n",
      "2025-10-22 18:13:52.300 INFO: Error-table on TEST:\n",
      "+-------------------+---------------------+------------------+-------------------+\n",
      "|    config_type    | RMSE E / meV / atom | RMSE F / meV / A | relative F RMSE % |\n",
      "+-------------------+---------------------+------------------+-------------------+\n",
      "| Fe13Si1B1_Default |        11817.1      |       2584.0     |         86.54     |\n",
      "+-------------------+---------------------+------------------+-------------------+\n",
      "2025-10-22 18:13:52.345 INFO: Done\n"
     ]
    }
   ],
   "source": [
    "#Perform training\n",
    "import warnings\n",
    "warnings.filterwarnings('ignore')\n",
    "from mace.cli.run_train import main as mace_run_train_main\n",
    "import sys\n",
    "import logging\n",
    "\n",
    "#defining the training function\n",
    "def train_mace(config_file_path):\n",
    "    logging.getLogger().handlers.clear()\n",
    "    sys.argv = ['program', '--config', config_file_path]\n",
    "    mace_run_train_main()\n",
    "\n",
    "#calling the function\n",
    "train_mace('config_new_model.yml') # use the name of the config file that was created"
   ]
  },
  {
   "cell_type": "code",
   "execution_count": 69,
   "id": "35e797c7",
   "metadata": {},
   "outputs": [],
   "source": [
    "#reading the information on the results file\n",
    "results = f'results/{model_name}_run-123_train.txt' #reading the file where the training results is stored\n",
    "data = [] #where the data from the 'results' file will be stored\n",
    "with open(results, 'r') as f:\n",
    "    for line in f:\n",
    "        try:\n",
    "            data.append(json.loads(line))\n",
    "        except json.JSONDecodeError:\n",
    "            continue"
   ]
  },
  {
   "cell_type": "code",
   "execution_count": 70,
   "id": "18168ab7",
   "metadata": {},
   "outputs": [],
   "source": [
    "#saving the data in a dataframe to be able to work with it in an easier way\n",
    "df = pd.DataFrame(data)\n",
    "#separating the training and validation results\n",
    "train_df = df[df['mode']=='opt'].copy()\n",
    "val_df = df[df['mode']=='eval'].copy().dropna()\n",
    "train_df = train_df.groupby('epoch', as_index=False)['loss'].last()\n",
    "train_df['epoch'] += 1\n",
    "val_df['epoch'] += 1"
   ]
  },
  {
   "cell_type": "code",
   "execution_count": 71,
   "id": "45730ed8",
   "metadata": {},
   "outputs": [],
   "source": [
    "#df[df['mode']=='opt']\n",
    "#val_df"
   ]
  },
  {
   "cell_type": "code",
   "execution_count": 72,
   "id": "06287d88",
   "metadata": {},
   "outputs": [
    {
     "data": {
      "text/plain": [
       "<matplotlib.legend.Legend at 0x2d21428faf0>"
      ]
     },
     "execution_count": 72,
     "metadata": {},
     "output_type": "execute_result"
    },
    {
     "data": {
      "image/png": "[encoded data removed]",
      "text/plain": [
       "<Figure size 640x480 with 1 Axes>"
      ]
     },
     "metadata": {},
     "output_type": "display_data"
    }
   ],
   "source": [
    "#I found out that the values of mae_e and mae_f are also important, so I will add them here\n",
    "plt.scatter(val_df['epoch'], val_df['mae_f'], label='mae_f (eV)', color='blue')\n",
    "plt.xlabel('Epoch')\n",
    "plt.ylabel('mae')\n",
    "plt.legend()"
   ]
  },
  {
   "cell_type": "code",
   "execution_count": 73,
   "id": "a2beb1c3",
   "metadata": {},
   "outputs": [
    {
     "data": {
      "text/plain": [
       "<matplotlib.legend.Legend at 0x2d20bcd60d0>"
      ]
     },
     "execution_count": 73,
     "metadata": {},
     "output_type": "execute_result"
    },
    {
     "data": {
      "image/png": "[encoded data removed]",
      "text/plain": [
       "<Figure size 640x480 with 1 Axes>"
      ]
     },
     "metadata": {},
     "output_type": "display_data"
    }
   ],
   "source": [
    "#I found out that the values of mae_e and mae_f are also important, so I will add them here\n",
    "plt.scatter(val_df['epoch'], val_df['mae_e'], label='mae_e (eV/A)', color='red')\n",
    "plt.xlabel('Epoch')\n",
    "plt.ylabel('mae')\n",
    "plt.legend()"
   ]
  },
  {
   "cell_type": "code",
   "execution_count": 74,
   "id": "a0bb405f",
   "metadata": {},
   "outputs": [
    {
     "data": {
      "text/plain": [
       "<matplotlib.legend.Legend at 0x2d20bc81070>"
      ]
     },
     "execution_count": 74,
     "metadata": {},
     "output_type": "execute_result"
    },
    {
     "data": {
      "image/png": "[encoded data removed]",
      "text/plain": [
       "<Figure size 640x480 with 1 Axes>"
      ]
     },
     "metadata": {},
     "output_type": "display_data"
    }
   ],
   "source": [
    "#plotting the \n",
    "#plt.figure()\n",
    "plt.scatter(train_df['epoch'],train_df['loss'], label='training loss', marker='o')\n",
    "plt.scatter(val_df['epoch'],val_df['loss'], label='validation loss', marker='s')\n",
    "plt.xlabel('Epoch')\n",
    "plt.ylabel('Loss')\n",
    "plt.legend()"
   ]
  },
  {
   "cell_type": "code",
   "execution_count": 75,
   "id": "28e6fac7",
   "metadata": {},
   "outputs": [
    {
     "data": {
      "image/png": "[encoded data removed]",
      "text/plain": [
       "<Figure size 640x480 with 1 Axes>"
      ]
     },
     "metadata": {},
     "output_type": "display_data"
    }
   ],
   "source": [
    "#plt.figure()\n",
    "plt.scatter(train_df['epoch'],train_df['loss'], label='training loss', marker='o')\n",
    "#plt.scatter(val_df['epoch'],val_df['loss'], label='validation loss', marker='s')\n",
    "plt.xlabel('Epoch')\n",
    "plt.ylabel('Loss')\n",
    "plt.legend()\n",
    "#saving the plots\n",
    "last_epoch = int(train_df['epoch'].max())\n",
    "filename = f'img_res/{model_name}_train_loss.pdf'\n",
    "plt.savefig(filename)"
   ]
  },
  {
   "cell_type": "code",
   "execution_count": 76,
   "id": "a8fa2bf3",
   "metadata": {},
   "outputs": [
    {
     "data": {
      "image/png": "[encoded data removed]",
      "text/plain": [
       "<Figure size 800x500 with 1 Axes>"
      ]
     },
     "metadata": {},
     "output_type": "display_data"
    }
   ],
   "source": [
    "plt.figure(figsize=(8,5))\n",
    "#plt.scatter(train_df['epoch'],train_df['loss'], label='training loss', marker='o')\n",
    "plt.scatter(val_df['epoch'],val_df['loss'], label='validation loss', marker='s')\n",
    "plt.xlabel('Epoch')\n",
    "plt.ylabel('Loss')\n",
    "plt.legend()\n",
    "#saving the plots\n",
    "last_epoch = int(train_df['epoch'].max())\n",
    "filename = f'img_res/{model_name}_val_loss.pdf'\n",
    "plt.savefig(filename)"
   ]
  },
  {
   "cell_type": "code",
   "execution_count": 96,
   "id": "9a0749e0",
   "metadata": {},
   "outputs": [],
   "source": [
    "#the model can be evaluated using this\n",
    "from mace.cli.eval_configs import main as mace_eval_configs_main\n",
    "import sys\n",
    "\n",
    "def eval_mace(model, configs, output, device='cuda'):\n",
    "    sys.argv=['program', '--configs', configs, '--model', model, '--output', output, '--device', device]\n",
    "    mace_eval_configs_main()"
   ]
  },
  {
   "cell_type": "code",
   "execution_count": 97,
   "id": "66eb67bb",
   "metadata": {},
   "outputs": [
    {
     "name": "stdout",
     "output_type": "stream",
     "text": [
      "2025-10-23 15:02:52.303 INFO: CUDA version: 12.6, CUDA device: 0\n",
      "2025-10-23 15:02:53.718 INFO: CUDA version: 12.6, CUDA device: 0\n"
     ]
    }
   ],
   "source": [
    "#evaluating the set on both the training and test datasets\n",
    "eval_mace(model=f'{model_name}.model',\n",
    "          configs='train_01.xyz',\n",
    "          output=f'test_res/{model_name}_train.xyz')\n",
    "\n",
    "eval_mace(model=f'{model_name}.model',\n",
    "          configs='test_01.xyz',\n",
    "          output=f'test_res/{model_name}_test.xyz')"
   ]
  },
  {
   "cell_type": "code",
   "execution_count": 4,
   "id": "ad4980f8",
   "metadata": {},
   "outputs": [
    {
     "data": {
      "text/html": [
       "<div>\n",
       "<style scoped>\n",
       "    .dataframe tbody tr th:only-of-type {\n",
       "        vertical-align: middle;\n",
       "    }\n",
       "\n",
       "    .dataframe tbody tr th {\n",
       "        vertical-align: top;\n",
       "    }\n",
       "\n",
       "    .dataframe thead th {\n",
       "        text-align: right;\n",
       "    }\n",
       "</style>\n",
       "<table border=\"1\" class=\"dataframe\">\n",
       "  <thead>\n",
       "    <tr style=\"text-align: right;\">\n",
       "      <th></th>\n",
       "      <th>REF_energy</th>\n",
       "      <th>MACE_energy</th>\n",
       "    </tr>\n",
       "  </thead>\n",
       "  <tbody>\n",
       "    <tr>\n",
       "      <th>0</th>\n",
       "      <td>-108.197314</td>\n",
       "      <td>-101.479600</td>\n",
       "    </tr>\n",
       "    <tr>\n",
       "      <th>1</th>\n",
       "      <td>-108.155668</td>\n",
       "      <td>-100.740096</td>\n",
       "    </tr>\n",
       "    <tr>\n",
       "      <th>2</th>\n",
       "      <td>-107.938072</td>\n",
       "      <td>-100.240396</td>\n",
       "    </tr>\n",
       "    <tr>\n",
       "      <th>3</th>\n",
       "      <td>-111.978524</td>\n",
       "      <td>-104.887985</td>\n",
       "    </tr>\n",
       "    <tr>\n",
       "      <th>4</th>\n",
       "      <td>-111.939598</td>\n",
       "      <td>-104.562582</td>\n",
       "    </tr>\n",
       "    <tr>\n",
       "      <th>...</th>\n",
       "      <td>...</td>\n",
       "      <td>...</td>\n",
       "    </tr>\n",
       "    <tr>\n",
       "      <th>128</th>\n",
       "      <td>-106.479300</td>\n",
       "      <td>-100.110509</td>\n",
       "    </tr>\n",
       "    <tr>\n",
       "      <th>129</th>\n",
       "      <td>-102.204540</td>\n",
       "      <td>-97.278716</td>\n",
       "    </tr>\n",
       "    <tr>\n",
       "      <th>130</th>\n",
       "      <td>-101.649356</td>\n",
       "      <td>-98.242860</td>\n",
       "    </tr>\n",
       "    <tr>\n",
       "      <th>131</th>\n",
       "      <td>-98.841753</td>\n",
       "      <td>-97.273371</td>\n",
       "    </tr>\n",
       "    <tr>\n",
       "      <th>132</th>\n",
       "      <td>-110.279499</td>\n",
       "      <td>-104.238169</td>\n",
       "    </tr>\n",
       "  </tbody>\n",
       "</table>\n",
       "<p>133 rows × 2 columns</p>\n",
       "</div>"
      ],
      "text/plain": [
       "     REF_energy  MACE_energy\n",
       "0   -108.197314  -101.479600\n",
       "1   -108.155668  -100.740096\n",
       "2   -107.938072  -100.240396\n",
       "3   -111.978524  -104.887985\n",
       "4   -111.939598  -104.562582\n",
       "..          ...          ...\n",
       "128 -106.479300  -100.110509\n",
       "129 -102.204540   -97.278716\n",
       "130 -101.649356   -98.242860\n",
       "131  -98.841753   -97.273371\n",
       "132 -110.279499  -104.238169\n",
       "\n",
       "[133 rows x 2 columns]"
      ]
     },
     "execution_count": 4,
     "metadata": {},
     "output_type": "execute_result"
    }
   ],
   "source": [
    "from ase.io import read\n",
    "\n",
    "#read the configurations with the mace predictions\n",
    "res_list = read(f'test_res/{model_name}_test.xyz', index=':')\n",
    "#extracting the reference and mace energies\n",
    "res = [(a.info['REF_energy'], a.info['MACE_energy']) for a in res_list]\n",
    "df_res = pd.DataFrame(res, columns=['REF_energy', 'MACE_energy'])\n",
    "df_res"
   ]
  },
  {
   "cell_type": "code",
   "execution_count": null,
   "id": "39ba8345",
   "metadata": {},
   "outputs": [
    {
     "data": {
      "image/png": "[encoded data removed]",
      "text/plain": [
       "<Figure size 640x480 with 1 Axes>"
      ]
     },
     "metadata": {},
     "output_type": "display_data"
    }
   ],
   "source": [
    "#plotting the predicted energies vs reference energies\n",
    "plt.scatter(df_res['REF_energy'], df_res['MACE_energy'], s=20)\n",
    "plt.plot([df_res['REF_energy'].min(), df_res['REF_energy'].max()], [df_res['MACE_energy'].min(), df_res['MACE_energy'].max()], 'r--')\n",
    "#plt.plot([df_res['REF_energy'].min(), df_res['REF_energy'].max()], [df_res['REF_energy'].min(), df_res['REF_energy'].max()], 'r--')\n",
    "#plt.plot([df_res['MACE_energy'].min(), df_res['MACE_energy'].max()], [df_res['MACE_energy'].min(), df_res['MACE_energy'].max()], 'r--')\n",
    "plt.plot()\n",
    "plt.xlabel('ref_energy (eV)')\n",
    "plt.ylabel('predicted_energy (eV)')\n",
    "plt.xlim(df_res['REF_energy'].min(), df_res['REF_energy'].max())\n",
    "plt.ylim(df_res['MACE_energy'].min(), df_res['MACE_energy'].max())\n",
    "plt.autoscale()\n"
   ]
  },
  {
   "cell_type": "code",
   "execution_count": 1,
   "id": "40f95696",
   "metadata": {},
   "outputs": [
    {
     "data": {
      "text/plain": [
       "'#this is commented for now because we have set the data on which the energy and forces will be calculated\\n#once the training is done, then a calculation can be performed using ase\\nfrom ase.io import read\\nfrom mace.calculators import MACECalculator\\n\\n#loading the model\\ncalculator = MACECalculator(model_paths=f\\'{model_name}.model\\', device=\\'cuda\\')\\n#read the configurations from where we want to calculate\\n### I set here the training data, but we could also calculate it on different data to see how it actually performs on new data\\nconfigs = read(\\'test_01.xyz\\', \\':\\')\\n\\n#set a list to store the information\\nresults = []\\n# read the results\\nfor i, atoms in enumerate(configs):\\n    atoms.set_calculator(calculator)\\n    energy = atoms.get_potential_energy()\\n    forces = atoms.get_forces()\\n    #max_force = abs(forces).max()  # max absolute force\\n    #mean_force = abs(forces).mean()  # mean absolute force\\n    # Add to list\\n    results.append({\\n        \"config_id\": i,\\n        \"energy (eV)\": energy,\\n    #    \"max_force (eV/Å)\": max_force,\\n    #    \"mean_force (eV/Å)\": mean_force,\\n        \"num_atoms\": len(atoms)\\n    })\\n# Create dataframe\\ndf = pd.DataFrame(results)\\ndf.to_excel(f\\'{model_name}.xlsx\\', index=False) #this is to save the results in an exel file'"
      ]
     },
     "execution_count": 1,
     "metadata": {},
     "output_type": "execute_result"
    }
   ],
   "source": [
    "'''#this is commented for now because we have set the data on which the energy and forces will be calculated\n",
    "#once the training is done, then a calculation can be performed using ase\n",
    "from ase.io import read\n",
    "from mace.calculators import MACECalculator\n",
    "\n",
    "#loading the model\n",
    "calculator = MACECalculator(model_paths=f'{model_name}.model', device='cuda')\n",
    "#read the configurations from where we want to calculate\n",
    "### I set here the training data, but we could also calculate it on different data to see how it actually performs on new data\n",
    "configs = read('test_01.xyz', ':')\n",
    "\n",
    "#set a list to store the information\n",
    "results = []\n",
    "# read the results\n",
    "for i, atoms in enumerate(configs):\n",
    "    atoms.set_calculator(calculator)\n",
    "    energy = atoms.get_potential_energy()\n",
    "    forces = atoms.get_forces()\n",
    "    #max_force = abs(forces).max()  # max absolute force\n",
    "    #mean_force = abs(forces).mean()  # mean absolute force\n",
    "    # Add to list\n",
    "    results.append({\n",
    "        \"config_id\": i,\n",
    "        \"energy (eV)\": energy,\n",
    "    #    \"max_force (eV/Å)\": max_force,\n",
    "    #    \"mean_force (eV/Å)\": mean_force,\n",
    "        \"num_atoms\": len(atoms)\n",
    "    })\n",
    "# Create dataframe\n",
    "df = pd.DataFrame(results)\n",
    "df.to_excel(f'{model_name}.xlsx', index=False) #this is to save the results in an exel file'''"
   ]
  }
 ],
 "metadata": {
  "kernelspec": {
   "display_name": "Python 3",
   "language": "python",
   "name": "python3"
  },
  "language_info": {
   "codemirror_mode": {
    "name": "ipython",
    "version": 3
   },
   "file_extension": ".py",
   "mimetype": "text/x-python",
   "name": "python",
   "nbconvert_exporter": "python",
   "pygments_lexer": "ipython3",
   "version": "3.9.13"
  }
 },
 "nbformat": 4,
 "nbformat_minor": 5
}
