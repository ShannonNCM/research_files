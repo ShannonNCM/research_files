{
 "cells": [
  {
   "cell_type": "code",
   "execution_count": 1,
   "id": "f51d5203",
   "metadata": {},
   "outputs": [],
   "source": [
    "#import libraries\n",
    "import numpy as np\n",
    "from ase.io import read, write\n",
    "from ase import Atoms\n",
    "import torch\n",
    "import yaml\n",
    "import json\n",
    "import matplotlib.pyplot as plt\n",
    "import pandas as pd\n",
    "import os#\n",
    "import sys\n",
    "os.makedirs('img_res', exist_ok=True) #creates a folder to store the loss graphs\n",
    "os.makedirs('test_res', exist_ok=True) #creates a folder to store the files of the testing of the model\n",
    "import functions as f #import functions used to plot"
   ]
  },
  {
   "cell_type": "code",
   "execution_count": 34,
   "id": "639216f7",
   "metadata": {},
   "outputs": [],
   "source": [
    "#I found a warning regarding the key names for energy and forces, the label changes from 'energy' to 'REF_energy'\n",
    "input_file = \"251017_training_data.xyz\"\n",
    "output_file = \"251017_training_data_fixed.xyz\"\n",
    "\n",
    "with open(input_file, \"r\") as f:\n",
    "    lines = f.readlines()\n",
    "\n",
    "new_lines = []\n",
    "for line in lines:\n",
    "    # Fix energy key in header lines\n",
    "    if \"energy=\" in line:\n",
    "        line = line.replace(\"energy=\", \"REF_energy=\")\n",
    "    # Fix forces key in Properties line\n",
    "    if \"Properties=\" in line and \"forces:R:3\" in line:\n",
    "        line = line.replace(\"forces:R:3\", \"REF_forces:R:3\")\n",
    "    new_lines.append(line)\n",
    "\n",
    "# Write the fixed file\n",
    "with open(output_file, \"w\") as f:\n",
    "    f.writelines(new_lines)"
   ]
  },
  {
   "cell_type": "code",
   "execution_count": 35,
   "id": "fc46ac95",
   "metadata": {},
   "outputs": [],
   "source": [
    "#importing the full data (this is in case I have like the whole data in one file)\n",
    "db = read('251017_training_data_fixed.xyz', ':')"
   ]
  },
  {
   "cell_type": "code",
   "execution_count": 36,
   "id": "80c5abf0",
   "metadata": {},
   "outputs": [],
   "source": [
    "#splitting the data into the training and test sets\n",
    "write('train_01.xyz', db[:520])\n",
    "write('test_01.xyz', db[520:])"
   ]
  },
  {
   "cell_type": "code",
   "execution_count": 66,
   "id": "74fa96e2",
   "metadata": {},
   "outputs": [
    {
     "data": {
      "text/plain": [
       "'model_0MACE_lr0.0001_20epochs_6batch'"
      ]
     },
     "execution_count": 66,
     "metadata": {},
     "output_type": "execute_result"
    }
   ],
   "source": [
    "#setting the model name based on model number and epochs\n",
    "device = 'cpu'\n",
    "''' model_num:\n",
    "    1 -> this indicates the model using 250 training data\n",
    "    2 -> this indicates the model using 520 training data which is 80% of the data set\n",
    "    3,4 -> this indicates the model using different values of learning rate 0.005, 0.0001 '''\n",
    "model_num = 'MACE_lr0.0001'\n",
    "''' num_epochs:\n",
    "    sets the number of epochs used for running the trainig'''\n",
    "num_epoch = 20\n",
    "''' batch_size:\n",
    "    sets the batch size for training'''\n",
    "batch_size = 6\n",
    "''' model_name:\n",
    "    generates the name of the model based on the number of epochs and the model number using the 'model_num' variable '''\n",
    "model_name = f'model_0{model_num}_{num_epoch}epochs_{batch_size}batch'\n",
    "model_name"
   ]
  },
  {
   "cell_type": "code",
   "execution_count": 67,
   "id": "3ff8e33c",
   "metadata": {},
   "outputs": [],
   "source": [
    "#this writes the yml file\n",
    "config = {\n",
    "    #\"model\": \"ScaleShiftMACE\",\n",
    "    \"model\": \"MACE\",\n",
    "    \"num_channels\": 32,\n",
    "    \"max_L\": 0,\n",
    "    \"r_max\": 4.0,\n",
    "    \"name\": model_name,\n",
    "    \"train_file\": f\"train_01.xyz\",\n",
    "    \"valid_fraction\": 0.01,\n",
    "    \"test_file\": f\"test_01.xyz\",\n",
    "    \"energy_key\": \"REF_energy\",\n",
    "    \"forces_key\": \"REF_forces\",\n",
    "    \"batch_size\": batch_size,\n",
    "    \"max_num_epochs\": num_epoch,\n",
    "    \"optimizer\" : \"adam\",\n",
    "    \"lr\":0.0001,\n",
    "    \"device\": device,\n",
    "    \"seed\": 123\n",
    "}\n",
    "with open(\"config_new_model.yml\", \"w\") as f:\n",
    "    yaml.dump(config, f, sort_keys=False)"
   ]
  },
  {
   "cell_type": "code",
   "execution_count": 68,
   "id": "bb25a34f",
   "metadata": {},
   "outputs": [
    {
     "name": "stdout",
     "output_type": "stream",
     "text": [
      "2025-10-29 22:22:19.168 INFO: ===========VERIFYING SETTINGS===========\n",
      "2025-10-29 22:22:19.169 INFO: MACE version: 0.3.14\n",
      "2025-10-29 22:22:19.170 INFO: Using CPU\n",
      "2025-10-29 22:22:19.208 INFO: ===========LOADING INPUT DATA===========\n",
      "2025-10-29 22:22:19.209 INFO: Using heads: ['Default']\n",
      "2025-10-29 22:22:19.210 INFO: Using the key specifications to parse data:\n",
      "2025-10-29 22:22:19.210 INFO: Default: KeySpecification(info_keys={'energy': 'REF_energy', 'stress': 'REF_stress', 'virials': 'REF_virials', 'dipole': 'dipole', 'head': 'head', 'elec_temp': 'elec_temp', 'total_charge': 'total_charge', 'polarizability': 'polarizability', 'total_spin': 'total_spin'}, arrays_keys={'forces': 'REF_forces', 'charges': 'REF_charges'})\n",
      "2025-10-29 22:22:19.210 INFO: =============    Processing head Default     ===========\n",
      "2025-10-29 22:22:19.283 INFO: Using isolated atom energies from training file\n",
      "2025-10-29 22:22:19.293 INFO: Training set 1/1 [energy: 517, stress: 0, virials: 0, dipole components: 0, head: 517, elec_temp: 0, total_charge: 0, polarizability: 0, total_spin: 0, forces: 517, charges: 0]\n",
      "2025-10-29 22:22:19.295 INFO: Total Training set [energy: 517, stress: 0, virials: 0, dipole components: 0, head: 517, elec_temp: 0, total_charge: 0, polarizability: 0, total_spin: 0, forces: 517, charges: 0]\n",
      "2025-10-29 22:22:19.295 INFO: No validation set provided, splitting training data instead.\n",
      "2025-10-29 22:22:19.296 INFO: Using random 1% of training set for validation with following indices: [5, 302, 291, 153, 461]\n",
      "2025-10-29 22:22:19.298 INFO: Random Split Training set [energy: 512, stress: 0, virials: 0, dipole components: 0, head: 512, elec_temp: 0, total_charge: 0, polarizability: 0, total_spin: 0, forces: 512, charges: 0]\n",
      "2025-10-29 22:22:19.298 INFO: Random Split Validation set [energy: 5, stress: 0, virials: 0, dipole components: 0, head: 5, elec_temp: 0, total_charge: 0, polarizability: 0, total_spin: 0, forces: 5, charges: 0]\n",
      "2025-10-29 22:22:19.324 INFO: Test set 1/1 [energy: 133, stress: 0, virials: 0, dipole components: 0, head: 133, elec_temp: 0, total_charge: 0, polarizability: 0, total_spin: 0, forces: 133, charges: 0]\n",
      "2025-10-29 22:22:19.325 INFO: Total Test set [energy: 133, stress: 0, virials: 0, dipole components: 0, head: 133, elec_temp: 0, total_charge: 0, polarizability: 0, total_spin: 0, forces: 133, charges: 0]\n",
      "2025-10-29 22:22:19.326 INFO: Total number of configurations: train=512, valid=5, tests=[Fe13Si1B1_Default: 133],\n",
      "2025-10-29 22:22:19.326 WARNING: Validation batch size (10) is larger than the number of validation data (5)\n",
      "2025-10-29 22:22:19.327 INFO: Atomic Numbers used: [5, 14, 26]\n",
      "2025-10-29 22:22:19.327 INFO: Atomic Energies used (z: eV) for head Default: {5: -0.27559471, 14: -0.81049333, 26: -3.283081}\n",
      "2025-10-29 22:22:19.328 INFO: Processing datasets for head 'Default'\n",
      "2025-10-29 22:22:19.609 INFO: Combining 1 list datasets for head 'Default'\n",
      "2025-10-29 22:22:19.612 INFO: Head 'Default' training dataset size: 512\n",
      "2025-10-29 22:22:19.612 INFO: Computing average number of neighbors\n",
      "2025-10-29 22:22:19.716 INFO: Average number of neighbors: 17.647277063733934\n",
      "2025-10-29 22:22:19.716 INFO: During training the following quantities will be reported: energy, forces\n",
      "2025-10-29 22:22:19.717 INFO: ===========MODEL DETAILS===========\n",
      "2025-10-29 22:22:19.822 INFO: Building model\n",
      "2025-10-29 22:22:19.823 INFO: Message passing with 32 channels and max_L=0 (32x0e)\n",
      "2025-10-29 22:22:19.823 INFO: 2 layers, each with correlation order: 3 (body order: 4) and spherical harmonics up to: l=3\n",
      "2025-10-29 22:22:19.823 INFO: 8 radial and 5 basis functions\n",
      "2025-10-29 22:22:19.824 INFO: Radial cutoff: 4.0 A (total receptive field for each atom: 8.0 A)\n",
      "2025-10-29 22:22:19.824 INFO: Distance transform for radial basis functions: None\n",
      "2025-10-29 22:22:19.824 INFO: Hidden irreps: 32x0e\n",
      "2025-10-29 22:22:20.507 INFO: Total number of parameters: 67472\n",
      "2025-10-29 22:22:20.507 INFO: \n",
      "2025-10-29 22:22:20.508 INFO: ===========OPTIMIZER INFORMATION===========\n",
      "2025-10-29 22:22:20.508 INFO: Using ADAM as parameter optimizer\n",
      "2025-10-29 22:22:20.508 INFO: Batch size: 6\n",
      "2025-10-29 22:22:20.509 INFO: Number of gradient updates: 1706\n",
      "2025-10-29 22:22:20.509 INFO: Learning rate: 0.0001, weight decay: 5e-07\n",
      "2025-10-29 22:22:20.509 INFO: WeightedEnergyForcesLoss(energy_weight=1.000, forces_weight=100.000)\n",
      "2025-10-29 22:22:20.510 INFO: Using gradient clipping with tolerance=10.000\n",
      "2025-10-29 22:22:20.510 INFO: \n",
      "2025-10-29 22:22:20.510 INFO: ===========TRAINING===========\n",
      "2025-10-29 22:22:20.511 INFO: Started training, reporting errors on validation set\n",
      "2025-10-29 22:22:20.511 INFO: Loss metrics on validation set\n",
      "2025-10-29 22:22:20.583 INFO: Initial: head: Default, loss=34.41965113, RMSE_E_per_atom= 3350.66 meV, RMSE_F= 1268.35 meV / A\n",
      "2025-10-29 22:22:33.728 INFO: Epoch 0: head: Default, loss=34.06775674, RMSE_E_per_atom= 3353.04 meV, RMSE_F= 1261.33 meV / A\n",
      "2025-10-29 22:22:46.290 INFO: Epoch 1: head: Default, loss=33.66613990, RMSE_E_per_atom= 3354.90 meV, RMSE_F= 1253.30 meV / A\n",
      "2025-10-29 22:22:58.907 INFO: Epoch 2: head: Default, loss=33.16609346, RMSE_E_per_atom= 3355.99 meV, RMSE_F= 1243.25 meV / A\n",
      "2025-10-29 22:23:11.597 INFO: Epoch 3: head: Default, loss=32.51948008, RMSE_E_per_atom= 3357.16 meV, RMSE_F= 1230.15 meV / A\n",
      "2025-10-29 22:23:24.268 INFO: Epoch 4: head: Default, loss=31.71867325, RMSE_E_per_atom= 3356.61 meV, RMSE_F= 1213.78 meV / A\n",
      "2025-10-29 22:23:36.797 INFO: Epoch 5: head: Default, loss=30.77352593, RMSE_E_per_atom= 3356.39 meV, RMSE_F= 1194.16 meV / A\n",
      "2025-10-29 22:23:49.449 INFO: Epoch 6: head: Default, loss=29.73032888, RMSE_E_per_atom= 3352.79 meV, RMSE_F= 1172.22 meV / A\n",
      "2025-10-29 22:24:02.209 INFO: Epoch 7: head: Default, loss=28.70362262, RMSE_E_per_atom= 3349.50 meV, RMSE_F= 1150.21 meV / A\n",
      "2025-10-29 22:24:14.944 INFO: Epoch 8: head: Default, loss=27.66110172, RMSE_E_per_atom= 3343.99 meV, RMSE_F= 1127.49 meV / A\n",
      "2025-10-29 22:24:27.873 INFO: Epoch 9: head: Default, loss=26.70476422, RMSE_E_per_atom= 3334.88 meV, RMSE_F= 1106.36 meV / A\n",
      "2025-10-29 22:24:40.536 INFO: Epoch 10: head: Default, loss=25.86278985, RMSE_E_per_atom= 3323.05 meV, RMSE_F= 1087.53 meV / A\n",
      "2025-10-29 22:24:53.028 INFO: Epoch 11: head: Default, loss=24.98689761, RMSE_E_per_atom= 3311.94 meV, RMSE_F= 1067.55 meV / A\n",
      "2025-10-29 22:25:05.729 INFO: Epoch 12: head: Default, loss=24.10201148, RMSE_E_per_atom= 3300.39 meV, RMSE_F= 1046.98 meV / A\n",
      "2025-10-29 22:25:18.218 INFO: Epoch 13: head: Default, loss=23.24312804, RMSE_E_per_atom= 3285.36 meV, RMSE_F= 1026.75 meV / A\n",
      "2025-10-29 22:25:30.908 INFO: Epoch 14: head: Default, loss=22.57186982, RMSE_E_per_atom= 3270.81 meV, RMSE_F= 1010.75 meV / A\n",
      "2025-10-29 22:25:43.519 INFO: Epoch 15: head: Default, loss=21.82420963, RMSE_E_per_atom= 3255.34 meV, RMSE_F=  992.59 meV / A\n",
      "2025-10-29 22:25:56.271 INFO: Epoch 16: head: Default, loss=21.10179223, RMSE_E_per_atom= 3240.48 meV, RMSE_F=  974.72 meV / A\n",
      "2025-10-29 22:26:09.159 INFO: Epoch 17: head: Default, loss=20.44215320, RMSE_E_per_atom= 3224.76 meV, RMSE_F=  958.18 meV / A\n",
      "2025-10-29 22:26:21.910 INFO: Epoch 18: head: Default, loss=19.86676044, RMSE_E_per_atom= 3205.88 meV, RMSE_F=  943.70 meV / A\n",
      "2025-10-29 22:26:34.487 INFO: Epoch 19: head: Default, loss=19.12272930, RMSE_E_per_atom= 3188.25 meV, RMSE_F=  924.38 meV / A\n",
      "2025-10-29 22:26:34.498 INFO: Training complete\n",
      "2025-10-29 22:26:34.498 INFO: \n",
      "2025-10-29 22:26:34.499 INFO: ===========RESULTS===========\n",
      "2025-10-29 22:26:34.534 INFO: Loading checkpoint: ./checkpoints/model_0MACE_lr0.0001_20epochs_6batch_run-123_epoch-19.pt\n",
      "2025-10-29 22:26:34.542 INFO: Loaded Stage one model from epoch 19 for evaluation\n",
      "2025-10-29 22:26:34.542 INFO: Saving model to checkpoints/model_0MACE_lr0.0001_20epochs_6batch_run-123.model\n",
      "2025-10-29 22:26:34.743 INFO: Compiling model, saving metadata to model_0MACE_lr0.0001_20epochs_6batch_compiled.model\n",
      "2025-10-29 22:26:35.184 INFO: Computing metrics for training, validation, and test sets\n",
      "2025-10-29 22:26:35.185 INFO: Skipping evaluation for heads: ['pt_head']\n",
      "2025-10-29 22:26:35.185 INFO: Evaluating train_Default ...\n",
      "2025-10-29 22:26:40.534 INFO: Evaluating valid_Default ...\n",
      "2025-10-29 22:26:40.577 INFO: Error-table on TRAIN and VALID:\n",
      "+---------------+---------------------+------------------+-------------------+\n",
      "|  config_type  | RMSE E / meV / atom | RMSE F / meV / A | relative F RMSE % |\n",
      "+---------------+---------------------+------------------+-------------------+\n",
      "| train_Default |       130347.0      |     741903.2     |      43077.40     |\n",
      "| valid_Default |         3188.2      |        924.4     |         72.76     |\n",
      "+---------------+---------------------+------------------+-------------------+\n",
      "2025-10-29 22:26:40.578 INFO: Evaluating Fe13Si1B1_Default ...\n",
      "2025-10-29 22:26:41.665 INFO: Error-table on TEST:\n",
      "+-------------------+---------------------+------------------+-------------------+\n",
      "|    config_type    | RMSE E / meV / atom | RMSE F / meV / A | relative F RMSE % |\n",
      "+-------------------+---------------------+------------------+-------------------+\n",
      "| Fe13Si1B1_Default |        12370.4      |       2717.5     |         91.01     |\n",
      "+-------------------+---------------------+------------------+-------------------+\n",
      "2025-10-29 22:26:41.724 INFO: Done\n"
     ]
    }
   ],
   "source": [
    "#Perform training\n",
    "import warnings\n",
    "warnings.filterwarnings('ignore')\n",
    "from mace.cli.run_train import main as mace_run_train_main\n",
    "import sys\n",
    "import logging\n",
    "\n",
    "#defining the training function\n",
    "def train_mace(config_file_path):\n",
    "    logging.getLogger().handlers.clear()\n",
    "    sys.argv = ['program', '--config', config_file_path]\n",
    "    mace_run_train_main()\n",
    "\n",
    "#calling the function\n",
    "train_mace('config_new_model.yml') # use the name of the config file that was created"
   ]
  },
  {
   "cell_type": "code",
   "execution_count": 69,
   "id": "35e797c7",
   "metadata": {},
   "outputs": [],
   "source": [
    "#reading the information on the results file\n",
    "results = f'results/{model_name}_run-123_train.txt' #reading the file where the training results is stored\n",
    "data = [] #where the data from the 'results' file will be stored\n",
    "with open(results, 'r') as f:\n",
    "    for line in f:\n",
    "        try:\n",
    "            data.append(json.loads(line))\n",
    "        except json.JSONDecodeError:\n",
    "            continue"
   ]
  },
  {
   "cell_type": "code",
   "execution_count": 70,
   "id": "9bb576e0",
   "metadata": {},
   "outputs": [
    {
     "data": {
      "text/plain": [
       "'results/model_0MACE_lr0.0001_20epochs_6batch_run-123_train.txt'"
      ]
     },
     "execution_count": 70,
     "metadata": {},
     "output_type": "execute_result"
    }
   ],
   "source": [
    "results"
   ]
  },
  {
   "cell_type": "code",
   "execution_count": 86,
   "id": "18168ab7",
   "metadata": {},
   "outputs": [
    {
     "data": {
      "image/png": "[encoded data removed]",
      "text/plain": [
       "<Figure size 640x480 with 1 Axes>"
      ]
     },
     "metadata": {},
     "output_type": "display_data"
    },
    {
     "data": {
      "image/png": "[encoded data removed]",
      "text/plain": [
       "<Figure size 640x480 with 1 Axes>"
      ]
     },
     "metadata": {},
     "output_type": "display_data"
    }
   ],
   "source": [
    "#saving the data in a dataframe to be able to work with it in an easier way\n",
    "df = pd.DataFrame(data)\n",
    "#separating the training and validation results\n",
    "train_df = df[df['mode']=='opt'].copy()\n",
    "val_df = df[df['mode']=='eval'].copy().dropna()\n",
    "#train_df = train_df.groupby('epoch', as_index=False)['loss'].last()\n",
    "train_df = train_df.groupby('epoch', as_index=False)['loss'].mean()\n",
    "train_df['epoch'] += 1\n",
    "val_df['epoch'] += 1\n",
    "\n",
    "#plotting the dataframe\n",
    "import functions as f\n",
    "f.plot_mae(val_df, 'epoch', ['mae_e','mae_f'])"
   ]
  },
  {
   "cell_type": "code",
   "execution_count": 87,
   "id": "02933d78",
   "metadata": {},
   "outputs": [
    {
     "data": {
      "image/png": "[encoded data removed]",
      "text/plain": [
       "<Figure size 640x480 with 1 Axes>"
      ]
     },
     "metadata": {},
     "output_type": "display_data"
    },
    {
     "data": {
      "image/png": "[encoded data removed]",
      "text/plain": [
       "<Figure size 640x480 with 1 Axes>"
      ]
     },
     "metadata": {},
     "output_type": "display_data"
    },
    {
     "data": {
      "image/png": "[encoded data removed]",
      "text/plain": [
       "<Figure size 640x480 with 1 Axes>"
      ]
     },
     "metadata": {},
     "output_type": "display_data"
    }
   ],
   "source": [
    "#plotting the validation and loss error\n",
    "f.plot_loss([(train_df, 'train'),(val_df,'val')],'epoch','loss',model_name)"
   ]
  },
  {
   "cell_type": "code",
   "execution_count": 88,
   "id": "9a0749e0",
   "metadata": {},
   "outputs": [],
   "source": [
    "#the model can be evaluated using this\n",
    "from mace.cli.eval_configs import main as mace_eval_configs_main\n",
    "import sys\n",
    "\n",
    "def eval_mace(model, configs, output, device=device):\n",
    "    sys.argv=['program', '--configs', configs, '--model', model, '--output', output, '--device', device]\n",
    "    mace_eval_configs_main()"
   ]
  },
  {
   "cell_type": "code",
   "execution_count": 82,
   "id": "66eb67bb",
   "metadata": {},
   "outputs": [
    {
     "name": "stdout",
     "output_type": "stream",
     "text": [
      "2025-10-29 22:43:33.373 INFO: Using CPU\n",
      "2025-10-29 22:43:36.189 INFO: Using CPU\n"
     ]
    }
   ],
   "source": [
    "#evaluating the set on both the training and test datasets\n",
    "eval_mace(model=f'{model_name}.model',\n",
    "          configs='train_01.xyz',\n",
    "          output=f'test_res/{model_name}_train.xyz')\n",
    "\n",
    "eval_mace(model=f'{model_name}.model',\n",
    "          configs='test_01.xyz',\n",
    "          output=f'test_res/{model_name}_test.xyz')"
   ]
  },
  {
   "cell_type": "code",
   "execution_count": 83,
   "id": "ad4980f8",
   "metadata": {},
   "outputs": [
    {
     "data": {
      "text/html": [
       "<div>\n",
       "<style scoped>\n",
       "    .dataframe tbody tr th:only-of-type {\n",
       "        vertical-align: middle;\n",
       "    }\n",
       "\n",
       "    .dataframe tbody tr th {\n",
       "        vertical-align: top;\n",
       "    }\n",
       "\n",
       "    .dataframe thead th {\n",
       "        text-align: right;\n",
       "    }\n",
       "</style>\n",
       "<table border=\"1\" class=\"dataframe\">\n",
       "  <thead>\n",
       "    <tr style=\"text-align: right;\">\n",
       "      <th></th>\n",
       "      <th>REF_energy</th>\n",
       "      <th>MACE_energy</th>\n",
       "    </tr>\n",
       "  </thead>\n",
       "  <tbody>\n",
       "    <tr>\n",
       "      <th>0</th>\n",
       "      <td>-108.197314</td>\n",
       "      <td>-52.293756</td>\n",
       "    </tr>\n",
       "    <tr>\n",
       "      <th>1</th>\n",
       "      <td>-108.155668</td>\n",
       "      <td>-52.891071</td>\n",
       "    </tr>\n",
       "    <tr>\n",
       "      <th>2</th>\n",
       "      <td>-107.938072</td>\n",
       "      <td>-51.149959</td>\n",
       "    </tr>\n",
       "    <tr>\n",
       "      <th>3</th>\n",
       "      <td>-111.978524</td>\n",
       "      <td>-55.929498</td>\n",
       "    </tr>\n",
       "    <tr>\n",
       "      <th>4</th>\n",
       "      <td>-111.939598</td>\n",
       "      <td>-55.602131</td>\n",
       "    </tr>\n",
       "    <tr>\n",
       "      <th>...</th>\n",
       "      <td>...</td>\n",
       "      <td>...</td>\n",
       "    </tr>\n",
       "    <tr>\n",
       "      <th>128</th>\n",
       "      <td>-106.479300</td>\n",
       "      <td>-51.711138</td>\n",
       "    </tr>\n",
       "    <tr>\n",
       "      <th>129</th>\n",
       "      <td>-102.204540</td>\n",
       "      <td>-50.151873</td>\n",
       "    </tr>\n",
       "    <tr>\n",
       "      <th>130</th>\n",
       "      <td>-101.649356</td>\n",
       "      <td>-51.665796</td>\n",
       "    </tr>\n",
       "    <tr>\n",
       "      <th>131</th>\n",
       "      <td>-98.841753</td>\n",
       "      <td>-50.315699</td>\n",
       "    </tr>\n",
       "    <tr>\n",
       "      <th>132</th>\n",
       "      <td>-110.279499</td>\n",
       "      <td>-55.456648</td>\n",
       "    </tr>\n",
       "  </tbody>\n",
       "</table>\n",
       "<p>133 rows × 2 columns</p>\n",
       "</div>"
      ],
      "text/plain": [
       "     REF_energy  MACE_energy\n",
       "0   -108.197314   -52.293756\n",
       "1   -108.155668   -52.891071\n",
       "2   -107.938072   -51.149959\n",
       "3   -111.978524   -55.929498\n",
       "4   -111.939598   -55.602131\n",
       "..          ...          ...\n",
       "128 -106.479300   -51.711138\n",
       "129 -102.204540   -50.151873\n",
       "130 -101.649356   -51.665796\n",
       "131  -98.841753   -50.315699\n",
       "132 -110.279499   -55.456648\n",
       "\n",
       "[133 rows x 2 columns]"
      ]
     },
     "execution_count": 83,
     "metadata": {},
     "output_type": "execute_result"
    }
   ],
   "source": [
    "from ase.io import read\n",
    "\n",
    "#importing data from the evaluation of the test set\n",
    "#read the configurations with the mace predictions\n",
    "res_list = read(f'test_res/{model_name}_test.xyz', index=':')\n",
    "#extracting the reference and mace energies\n",
    "res = [(a.info['REF_energy'], a.info['MACE_energy']) for a in res_list]\n",
    "df_res = pd.DataFrame(res, columns=['REF_energy', 'MACE_energy'])\n",
    "df_res"
   ]
  },
  {
   "cell_type": "code",
   "execution_count": 84,
   "id": "0c6f6e07",
   "metadata": {},
   "outputs": [
    {
     "data": {
      "image/png": "[encoded data removed]",
      "text/plain": [
       "<Figure size 640x480 with 1 Axes>"
      ]
     },
     "metadata": {},
     "output_type": "display_data"
    }
   ],
   "source": [
    "f.plot_energy_comparison(df_res, 'REF_energy', 'MACE_energy')"
   ]
  },
  {
   "cell_type": "code",
   "execution_count": 85,
   "id": "40f95696",
   "metadata": {},
   "outputs": [
    {
     "data": {
      "text/plain": [
       "'#this is commented for now because we have set the data on which the energy and forces will be calculated\\n#once the training is done, then a calculation can be performed using ase\\nfrom ase.io import read\\nfrom mace.calculators import MACECalculator\\n\\n#loading the model\\ncalculator = MACECalculator(model_paths=f\\'{model_name}.model\\', device=\\'cuda\\')\\n#read the configurations from where we want to calculate\\n### I set here the training data, but we could also calculate it on different data to see how it actually performs on new data\\nconfigs = read(\\'test_01.xyz\\', \\':\\')\\n\\n#set a list to store the information\\nresults = []\\n# read the results\\nfor i, atoms in enumerate(configs):\\n    atoms.set_calculator(calculator)\\n    energy = atoms.get_potential_energy()\\n    forces = atoms.get_forces()\\n    #max_force = abs(forces).max()  # max absolute force\\n    #mean_force = abs(forces).mean()  # mean absolute force\\n    # Add to list\\n    results.append({\\n        \"config_id\": i,\\n        \"energy (eV)\": energy,\\n    #    \"max_force (eV/Å)\": max_force,\\n    #    \"mean_force (eV/Å)\": mean_force,\\n        \"num_atoms\": len(atoms)\\n    })\\n# Create dataframe\\ndf = pd.DataFrame(results)\\ndf.to_excel(f\\'{model_name}.xlsx\\', index=False) #this is to save the results in an exel file'"
      ]
     },
     "execution_count": 85,
     "metadata": {},
     "output_type": "execute_result"
    }
   ],
   "source": [
    "'''#this is commented for now because we have set the data on which the energy and forces will be calculated\n",
    "#once the training is done, then a calculation can be performed using ase\n",
    "from ase.io import read\n",
    "from mace.calculators import MACECalculator\n",
    "\n",
    "#loading the model\n",
    "calculator = MACECalculator(model_paths=f'{model_name}.model', device='cuda')\n",
    "#read the configurations from where we want to calculate\n",
    "### I set here the training data, but we could also calculate it on different data to see how it actually performs on new data\n",
    "configs = read('test_01.xyz', ':')\n",
    "\n",
    "#set a list to store the information\n",
    "results = []\n",
    "# read the results\n",
    "for i, atoms in enumerate(configs):\n",
    "    atoms.set_calculator(calculator)\n",
    "    energy = atoms.get_potential_energy()\n",
    "    forces = atoms.get_forces()\n",
    "    #max_force = abs(forces).max()  # max absolute force\n",
    "    #mean_force = abs(forces).mean()  # mean absolute force\n",
    "    # Add to list\n",
    "    results.append({\n",
    "        \"config_id\": i,\n",
    "        \"energy (eV)\": energy,\n",
    "    #    \"max_force (eV/Å)\": max_force,\n",
    "    #    \"mean_force (eV/Å)\": mean_force,\n",
    "        \"num_atoms\": len(atoms)\n",
    "    })\n",
    "# Create dataframe\n",
    "df = pd.DataFrame(results)\n",
    "df.to_excel(f'{model_name}.xlsx', index=False) #this is to save the results in an exel file'''"
   ]
  }
 ],
 "metadata": {
  "kernelspec": {
   "display_name": "Python 3",
   "language": "python",
   "name": "python3"
  },
  "language_info": {
   "codemirror_mode": {
    "name": "ipython",
    "version": 3
   },
   "file_extension": ".py",
   "mimetype": "text/x-python",
   "name": "python",
   "nbconvert_exporter": "python",
   "pygments_lexer": "ipython3",
   "version": "3.9.13"
  }
 },
 "nbformat": 4,
 "nbformat_minor": 5
}
