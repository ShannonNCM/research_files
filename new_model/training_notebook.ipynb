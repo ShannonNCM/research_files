{
 "cells": [
  {
   "cell_type": "code",
   "execution_count": 10,
   "id": "f51d5203",
   "metadata": {},
   "outputs": [],
   "source": [
    "#import libraries\n",
    "import numpy as np\n",
    "from ase.io import read, write\n",
    "from ase import Atoms\n",
    "import os\n",
    "os.makedirs('config', exist_ok=True)\n",
    "import torch"
   ]
  },
  {
   "cell_type": "code",
   "execution_count": 11,
   "id": "fc46ac95",
   "metadata": {},
   "outputs": [],
   "source": [
    "#importing the full data (this is in case I have like the whole data in one file)\n",
    "db = read('251017_training_data.xyz', ':')"
   ]
  },
  {
   "cell_type": "code",
   "execution_count": 12,
   "id": "80c5abf0",
   "metadata": {},
   "outputs": [],
   "source": [
    "#splitting the data into the training and test sets\n",
    "write('train_01.xyz', db[:250])\n",
    "write('test_01.xyz', db[250:])"
   ]
  },
  {
   "cell_type": "code",
   "execution_count": null,
   "id": "b01c2e16",
   "metadata": {},
   "outputs": [
    {
     "name": "stdout",
     "output_type": "stream",
     "text": [
      "Overwriting config_new_model.yml\n"
     ]
    }
   ],
   "source": [
    "%%writefile config_new_model.yml\n",
    "model: \"MACE\"\n",
    "num_channels: 32\n",
    "max_L: 0\n",
    "r_max: 4.0\n",
    "name: \"model01\"\n",
    "train_file: \"train_01.xyz\"\n",
    "valid_fraction: 0.01\n",
    "test_file: \"test_01.xyz\"\n",
    "energy_key: \"energy\"\n",
    "forces_key: \"forces\"\n",
    "batch_size: 32\n",
    "max_num_epochs: 100\n",
    "device: cpu\n",
    "seed: 123"
   ]
  },
  {
   "cell_type": "code",
   "execution_count": 14,
   "id": "bb25a34f",
   "metadata": {},
   "outputs": [
    {
     "name": "stdout",
     "output_type": "stream",
     "text": [
      "2025-10-19 22:41:34.152 INFO: ===========VERIFYING SETTINGS===========\n",
      "2025-10-19 22:41:34.153 INFO: MACE version: 0.3.14\n",
      "2025-10-19 22:41:34.153 INFO: Using CPU\n",
      "2025-10-19 22:41:34.171 INFO: ===========LOADING INPUT DATA===========\n",
      "2025-10-19 22:41:34.173 INFO: Using heads: ['Default']\n",
      "2025-10-19 22:41:34.173 INFO: Using the key specifications to parse data:\n",
      "2025-10-19 22:41:34.173 INFO: Default: KeySpecification(info_keys={'energy': 'energy', 'stress': 'REF_stress', 'virials': 'REF_virials', 'dipole': 'dipole', 'head': 'head', 'elec_temp': 'elec_temp', 'total_charge': 'total_charge', 'polarizability': 'polarizability', 'total_spin': 'total_spin'}, arrays_keys={'forces': 'forces', 'charges': 'REF_charges'})\n",
      "2025-10-19 22:41:34.174 INFO: =============    Processing head Default     ===========\n",
      "2025-10-19 22:41:34.221 WARNING: Since ASE version 3.23.0b1, using energy_key 'energy' is no longer safe when communicating between MACE and ASE. We recommend using a different key, rewriting 'energy' to 'REF_energy'. You need to use --energy_key='REF_energy' to specify the chosen key name.\n",
      "2025-10-19 22:41:34.240 WARNING: Since ASE version 3.23.0b1, using forces_key 'forces' is no longer safe when communicating between MACE and ASE. We recommend using a different key, rewriting 'forces' to 'REF_forces'. You need to use --forces_key='REF_forces' to specify the chosen key name.\n",
      "2025-10-19 22:41:34.258 WARNING: Configuration '0' is marked as 'IsolatedAtom' but does not contain an energy. Zero energy will be used.\n",
      "2025-10-19 22:41:34.259 WARNING: Configuration '1' is marked as 'IsolatedAtom' but does not contain an energy. Zero energy will be used.\n",
      "2025-10-19 22:41:34.259 WARNING: Configuration '2' is marked as 'IsolatedAtom' but does not contain an energy. Zero energy will be used.\n",
      "2025-10-19 22:41:34.260 INFO: Using isolated atom energies from training file\n",
      "2025-10-19 22:41:34.265 INFO: Training set 1/1 [energy: 247, stress: 0, virials: 0, dipole components: 0, head: 247, elec_temp: 0, total_charge: 0, polarizability: 0, total_spin: 0, forces: 247, charges: 0]\n",
      "2025-10-19 22:41:34.267 INFO: Total Training set [energy: 247, stress: 0, virials: 0, dipole components: 0, head: 247, elec_temp: 0, total_charge: 0, polarizability: 0, total_spin: 0, forces: 247, charges: 0]\n",
      "2025-10-19 22:41:34.267 INFO: No validation set provided, splitting training data instead.\n",
      "2025-10-19 22:41:34.267 INFO: Using random 1% of training set for validation with following indices: [153, 205]\n",
      "2025-10-19 22:41:34.268 INFO: Random Split Training set [energy: 245, stress: 0, virials: 0, dipole components: 0, head: 245, elec_temp: 0, total_charge: 0, polarizability: 0, total_spin: 0, forces: 245, charges: 0]\n",
      "2025-10-19 22:41:34.268 INFO: Random Split Validation set [energy: 2, stress: 0, virials: 0, dipole components: 0, head: 2, elec_temp: 0, total_charge: 0, polarizability: 0, total_spin: 0, forces: 2, charges: 0]\n",
      "2025-10-19 22:41:34.335 WARNING: Since ASE version 3.23.0b1, using energy_key 'energy' is no longer safe when communicating between MACE and ASE. We recommend using a different key, rewriting 'energy' to 'REF_energy'. You need to use --energy_key='REF_energy' to specify the chosen key name.\n",
      "2025-10-19 22:41:34.366 WARNING: Since ASE version 3.23.0b1, using forces_key 'forces' is no longer safe when communicating between MACE and ASE. We recommend using a different key, rewriting 'forces' to 'REF_forces'. You need to use --forces_key='REF_forces' to specify the chosen key name.\n",
      "2025-10-19 22:41:34.401 INFO: Test set 1/1 [energy: 403, stress: 0, virials: 0, dipole components: 0, head: 403, elec_temp: 0, total_charge: 0, polarizability: 0, total_spin: 0, forces: 403, charges: 0]\n",
      "2025-10-19 22:41:34.403 INFO: Total Test set [energy: 403, stress: 0, virials: 0, dipole components: 0, head: 403, elec_temp: 0, total_charge: 0, polarizability: 0, total_spin: 0, forces: 403, charges: 0]\n",
      "2025-10-19 22:41:34.404 INFO: Total number of configurations: train=245, valid=2, tests=[Fe5B5_Default: 13, Fe5B4Si1_Default: 45, Fe5B3Si2_Default: 45, B2Fe30_Default: 15, Fe5B2Si3_Default: 45, Fe12Si4_Default: 11, Fe13Si1B1_Default: 229],\n",
      "2025-10-19 22:41:34.404 WARNING: Validation batch size (10) is larger than the number of validation data (2)\n",
      "2025-10-19 22:41:34.405 INFO: Atomic Numbers used: [5, 14, 26]\n",
      "2025-10-19 22:41:34.406 INFO: Atomic Energies used (z: eV) for head Default: {5: 0.0, 14: 0.0, 26: 0.0}\n",
      "2025-10-19 22:41:34.406 INFO: Processing datasets for head 'Default'\n",
      "2025-10-19 22:41:34.560 INFO: Combining 1 list datasets for head 'Default'\n",
      "2025-10-19 22:41:34.566 INFO: Head 'Default' training dataset size: 245\n",
      "2025-10-19 22:41:34.568 INFO: Computing average number of neighbors\n",
      "2025-10-19 22:41:34.712 INFO: Average number of neighbors: 19.66931216931217\n",
      "2025-10-19 22:41:34.713 INFO: During training the following quantities will be reported: energy, forces\n",
      "2025-10-19 22:41:34.714 INFO: ===========MODEL DETAILS===========\n",
      "2025-10-19 22:41:34.745 INFO: Building model\n",
      "2025-10-19 22:41:34.746 INFO: Message passing with 32 channels and max_L=0 (32x0e)\n",
      "2025-10-19 22:41:34.746 INFO: 2 layers, each with correlation order: 3 (body order: 4) and spherical harmonics up to: l=3\n",
      "2025-10-19 22:41:34.746 INFO: 8 radial and 5 basis functions\n",
      "2025-10-19 22:41:34.747 INFO: Radial cutoff: 4.0 A (total receptive field for each atom: 8.0 A)\n",
      "2025-10-19 22:41:34.747 INFO: Distance transform for radial basis functions: None\n",
      "2025-10-19 22:41:34.747 INFO: Hidden irreps: 32x0e\n",
      "2025-10-19 22:41:35.434 INFO: Total number of parameters: 67472\n",
      "2025-10-19 22:41:35.435 INFO: \n",
      "2025-10-19 22:41:35.436 INFO: ===========OPTIMIZER INFORMATION===========\n",
      "2025-10-19 22:41:35.436 INFO: Using ADAM as parameter optimizer\n",
      "2025-10-19 22:41:35.436 INFO: Batch size: 32\n",
      "2025-10-19 22:41:35.436 INFO: Number of gradient updates: 38\n",
      "2025-10-19 22:41:35.437 INFO: Learning rate: 0.01, weight decay: 5e-07\n",
      "2025-10-19 22:41:35.437 INFO: WeightedEnergyForcesLoss(energy_weight=1.000, forces_weight=100.000)\n",
      "2025-10-19 22:41:35.438 INFO: Using gradient clipping with tolerance=10.000\n",
      "2025-10-19 22:41:35.438 INFO: \n",
      "2025-10-19 22:41:35.438 INFO: ===========TRAINING===========\n",
      "2025-10-19 22:41:35.439 INFO: Started training, reporting errors on validation set\n",
      "2025-10-19 22:41:35.439 INFO: Loss metrics on validation set\n",
      "2025-10-19 22:41:35.572 INFO: Initial: head: Default, loss=21.89348023, RMSE_E_per_atom= 6019.38 meV, RMSE_F=  274.84 meV / A\n",
      "2025-10-19 22:41:39.496 INFO: Epoch 0: head: Default, loss=24.33524055, RMSE_E_per_atom= 6086.47 meV, RMSE_F=  340.96 meV / A\n",
      "2025-10-19 22:41:42.772 INFO: Epoch 1: head: Default, loss=39.11001626, RMSE_E_per_atom= 6182.17 meV, RMSE_F=  632.46 meV / A\n",
      "2025-10-19 22:41:46.250 INFO: Epoch 2: head: Default, loss=58.74532433, RMSE_E_per_atom= 5990.25 meV, RMSE_F=  903.37 meV / A\n",
      "2025-10-19 22:41:49.565 INFO: Epoch 3: head: Default, loss=76.64829092, RMSE_E_per_atom= 5717.08 meV, RMSE_F= 1098.23 meV / A\n",
      "2025-10-19 22:41:52.897 INFO: Epoch 4: head: Default, loss=52.79214832, RMSE_E_per_atom= 5379.55 meV, RMSE_F=  875.47 meV / A\n",
      "2025-10-19 22:41:52.897 INFO: Training complete\n",
      "2025-10-19 22:41:52.898 INFO: \n",
      "2025-10-19 22:41:52.898 INFO: ===========RESULTS===========\n",
      "2025-10-19 22:41:53.045 INFO: Loading checkpoint: ./checkpoints/model01_run-123_epoch-0.pt\n",
      "2025-10-19 22:41:53.069 INFO: Loaded Stage one model from epoch 0 for evaluation\n",
      "2025-10-19 22:41:53.071 INFO: Saving model to checkpoints/model01_run-123.model\n",
      "2025-10-19 22:41:53.230 INFO: Compiling model, saving metadata to model01_compiled.model\n",
      "2025-10-19 22:41:53.714 INFO: Computing metrics for training, validation, and test sets\n",
      "2025-10-19 22:41:53.715 INFO: Skipping evaluation for heads: ['pt_head']\n",
      "2025-10-19 22:41:53.715 INFO: Evaluating train_Default ...\n",
      "2025-10-19 22:41:55.065 INFO: Evaluating valid_Default ...\n",
      "2025-10-19 22:41:55.097 INFO: Error-table on TRAIN and VALID:\n",
      "+---------------+---------------------+------------------+-------------------+\n",
      "|  config_type  | RMSE E / meV / atom | RMSE F / meV / A | relative F RMSE % |\n",
      "+---------------+---------------------+------------------+-------------------+\n",
      "| train_Default |         6265.0      |    1839749.2     |     163766.79     |\n",
      "| valid_Default |         6086.5      |        341.0     |        123.98     |\n",
      "+---------------+---------------------+------------------+-------------------+\n",
      "2025-10-19 22:41:55.098 INFO: Evaluating B2Fe30_Default ...\n",
      "2025-10-19 22:41:55.321 INFO: Evaluating Fe12Si4_Default ...\n",
      "2025-10-19 22:41:55.508 INFO: Evaluating Fe13Si1B1_Default ...\n",
      "2025-10-19 22:41:57.312 INFO: Evaluating Fe5B2Si3_Default ...\n",
      "2025-10-19 22:41:57.542 INFO: Evaluating Fe5B3Si2_Default ...\n",
      "2025-10-19 22:41:57.780 INFO: Evaluating Fe5B4Si1_Default ...\n",
      "2025-10-19 22:41:58.023 INFO: Evaluating Fe5B5_Default ...\n",
      "2025-10-19 22:41:58.103 INFO: Error-table on TEST:\n",
      "+-------------------+---------------------+------------------+-------------------+\n",
      "|    config_type    | RMSE E / meV / atom | RMSE F / meV / A | relative F RMSE % |\n",
      "+-------------------+---------------------+------------------+-------------------+\n",
      "|   B2Fe30_Default  |         7869.1      |        406.5     |         97.23     |\n",
      "|  Fe12Si4_Default  |         7916.9      |        149.6     |   14959257285.93  |\n",
      "| Fe13Si1B1_Default |        11613.4      |       2349.6     |         98.14     |\n",
      "|  Fe5B2Si3_Default |       437528.5      |       4919.0     |         99.81     |\n",
      "|  Fe5B3Si2_Default |        36191.2      |       2102.6     |         98.72     |\n",
      "|  Fe5B4Si1_Default |         4644.3      |       2007.7     |         98.35     |\n",
      "|   Fe5B5_Default   |         4410.3      |       2206.3     |         98.15     |\n",
      "+-------------------+---------------------+------------------+-------------------+\n",
      "2025-10-19 22:41:58.329 INFO: Done\n"
     ]
    }
   ],
   "source": [
    "#Perform training\n",
    "import warnings\n",
    "warnings.filterwarnings('ignore')\n",
    "from mace.cli.run_train import main as mace_run_train_main\n",
    "import sys\n",
    "import logging\n",
    "\n",
    "#defining the training function\n",
    "def train_mace(config_file_path):\n",
    "    logging.getLogger().handlers.clear()\n",
    "    sys.argv = ['program', '--config', config_file_path]\n",
    "    mace_run_train_main()\n",
    "\n",
    "#calling the function\n",
    "train_mace('config_new_model.yml') #aca va el nombre del yml file "
   ]
  },
  {
   "cell_type": "code",
   "execution_count": 16,
   "id": "be5f439f",
   "metadata": {},
   "outputs": [],
   "source": [
    "#checking the training and validation loss\n",
    "import json\n",
    "import matplotlib.pyplot as plt\n",
    "import pandas as pd"
   ]
  },
  {
   "cell_type": "code",
   "execution_count": 18,
   "id": "35e797c7",
   "metadata": {},
   "outputs": [],
   "source": [
    "#reading the information on the results file\n",
    "results = 'results/model01_run-123_train.txt' #reading the file where the training results is stores\n",
    "data = [] #where the data from the 'results' file will be stored\n",
    "with open(results, 'r') as f:\n",
    "    for line in f:\n",
    "        try:\n",
    "            data.append(json.loads(line))\n",
    "        except json.JSONDecodeError:\n",
    "            continue"
   ]
  },
  {
   "cell_type": "code",
   "execution_count": null,
   "id": "18168ab7",
   "metadata": {},
   "outputs": [
    {
     "data": {
      "text/plain": [
       "<matplotlib.legend.Legend at 0x3d294a8b0>"
      ]
     },
     "execution_count": 19,
     "metadata": {},
     "output_type": "execute_result"
    },
    {
     "data": {
      "image/png": "[encoded data removed]",
      "text/plain": [
       "<Figure size 800x500 with 1 Axes>"
      ]
     },
     "metadata": {},
     "output_type": "display_data"
    }
   ],
   "source": [
    "#saving the data in a dataframe to be able to work with it in an easier way\n",
    "df = pd.DataFrame(data)\n",
    "#separating the training and validation results\n",
    "train_df = df[df['mode']=='opt'].copy()\n",
    "val_df = df[df['mode']=='eval'].copy()\n",
    "#here we take the na values of the epocs that might appear by using the ffill function which fills the na values by propagating the last vaid observation to next valid \n",
    "train_df['epoch'] = train_df['epoch'].ffill()\n",
    "val_df['epoch'] = val_df['epoch'].ffill()\n",
    "#plotting the \n",
    "plt.figure(figsize=(8,5))\n",
    "plt.scatter(train_df['epoch'],train_df['loss'], label='training loss', marker='o')\n",
    "plt.scatter(val_df['epoch'],val_df['loss'], label='validation loss', marker='s')\n",
    "plt.xlabel('Epoch')\n",
    "plt.ylabel('Loss')\n",
    "plt.legend()"
   ]
  },
  {
   "cell_type": "code",
   "execution_count": null,
   "id": "40f95696",
   "metadata": {},
   "outputs": [
    {
     "name": "stdout",
     "output_type": "stream",
     "text": [
      "2025-10-19 23:52:25.785 INFO: Using CPU\n",
      "Using head Default out of ['Default']\n",
      "No dtype selected, switching to float64 to match model dtype.\n"
     ]
    },
    {
     "data": {
      "text/html": [
       "<div>\n",
       "<style scoped>\n",
       "    .dataframe tbody tr th:only-of-type {\n",
       "        vertical-align: middle;\n",
       "    }\n",
       "\n",
       "    .dataframe tbody tr th {\n",
       "        vertical-align: top;\n",
       "    }\n",
       "\n",
       "    .dataframe thead th {\n",
       "        text-align: right;\n",
       "    }\n",
       "</style>\n",
       "<table border=\"1\" class=\"dataframe\">\n",
       "  <thead>\n",
       "    <tr style=\"text-align: right;\">\n",
       "      <th></th>\n",
       "      <th>config_id</th>\n",
       "      <th>energy (eV)</th>\n",
       "      <th>num_atoms</th>\n",
       "    </tr>\n",
       "  </thead>\n",
       "  <tbody>\n",
       "    <tr>\n",
       "      <th>0</th>\n",
       "      <td>0</td>\n",
       "      <td>-0.079753</td>\n",
       "      <td>10</td>\n",
       "    </tr>\n",
       "    <tr>\n",
       "      <th>1</th>\n",
       "      <td>1</td>\n",
       "      <td>-0.055960</td>\n",
       "      <td>10</td>\n",
       "    </tr>\n",
       "    <tr>\n",
       "      <th>2</th>\n",
       "      <td>2</td>\n",
       "      <td>-0.217300</td>\n",
       "      <td>10</td>\n",
       "    </tr>\n",
       "    <tr>\n",
       "      <th>3</th>\n",
       "      <td>3</td>\n",
       "      <td>-0.003486</td>\n",
       "      <td>10</td>\n",
       "    </tr>\n",
       "    <tr>\n",
       "      <th>4</th>\n",
       "      <td>4</td>\n",
       "      <td>-0.130529</td>\n",
       "      <td>10</td>\n",
       "    </tr>\n",
       "    <tr>\n",
       "      <th>...</th>\n",
       "      <td>...</td>\n",
       "      <td>...</td>\n",
       "      <td>...</td>\n",
       "    </tr>\n",
       "    <tr>\n",
       "      <th>398</th>\n",
       "      <td>398</td>\n",
       "      <td>-0.603491</td>\n",
       "      <td>15</td>\n",
       "    </tr>\n",
       "    <tr>\n",
       "      <th>399</th>\n",
       "      <td>399</td>\n",
       "      <td>-0.384653</td>\n",
       "      <td>15</td>\n",
       "    </tr>\n",
       "    <tr>\n",
       "      <th>400</th>\n",
       "      <td>400</td>\n",
       "      <td>-0.509596</td>\n",
       "      <td>15</td>\n",
       "    </tr>\n",
       "    <tr>\n",
       "      <th>401</th>\n",
       "      <td>401</td>\n",
       "      <td>-0.382414</td>\n",
       "      <td>15</td>\n",
       "    </tr>\n",
       "    <tr>\n",
       "      <th>402</th>\n",
       "      <td>402</td>\n",
       "      <td>-0.833974</td>\n",
       "      <td>15</td>\n",
       "    </tr>\n",
       "  </tbody>\n",
       "</table>\n",
       "<p>403 rows × 3 columns</p>\n",
       "</div>"
      ],
      "text/plain": [
       "     config_id  energy (eV)  num_atoms\n",
       "0            0    -0.079753         10\n",
       "1            1    -0.055960         10\n",
       "2            2    -0.217300         10\n",
       "3            3    -0.003486         10\n",
       "4            4    -0.130529         10\n",
       "..         ...          ...        ...\n",
       "398        398    -0.603491         15\n",
       "399        399    -0.384653         15\n",
       "400        400    -0.509596         15\n",
       "401        401    -0.382414         15\n",
       "402        402    -0.833974         15\n",
       "\n",
       "[403 rows x 3 columns]"
      ]
     },
     "execution_count": 24,
     "metadata": {},
     "output_type": "execute_result"
    }
   ],
   "source": [
    "#once the training is done, then a calculation can be performed using ase\n",
    "from ase.io import read\n",
    "from mace.calculators import MACECalculator\n",
    "\n",
    "#loading the model\n",
    "calculator = MACECalculator(model_paths='model01.model', device='cpu')\n",
    "#read the configurations from where we want to calculate\n",
    "### I set here the training data, but we could also calculate it on different data to see how it actually performs on new data\n",
    "configs = read('test_01.xyz', ':')\n",
    "\n",
    "#set a list to store the information\n",
    "results = []\n",
    "# read the results\n",
    "for i, atoms in enumerate(configs):\n",
    "    atoms.set_calculator(calculator)\n",
    "    energy = atoms.get_potential_energy()\n",
    "    forces = atoms.get_forces()\n",
    "    #max_force = abs(forces).max()  # max absolute force\n",
    "    #mean_force = abs(forces).mean()  # mean absolute force\n",
    "    # Add to list\n",
    "    results.append({\n",
    "        \"config_id\": i,\n",
    "        \"energy (eV)\": energy,\n",
    "    #    \"max_force (eV/Å)\": max_force,\n",
    "    #    \"mean_force (eV/Å)\": mean_force,\n",
    "        \"num_atoms\": len(atoms)\n",
    "    })\n",
    "# Create dataframe\n",
    "df = pd.DataFrame(results)\n",
    "df"
   ]
  },
  {
   "cell_type": "code",
   "execution_count": 29,
   "id": "0681f020",
   "metadata": {},
   "outputs": [
    {
     "name": "stdout",
     "output_type": "stream",
     "text": [
      "On branch main\n",
      "Your branch is up to date with 'origin/main'.\n",
      "\n",
      "nothing to commit, working tree clean\n",
      "On branch main\n",
      "Your branch is up to date with 'origin/main'.\n",
      "\n",
      "nothing to commit, working tree clean\n",
      "Everything up-to-date\n"
     ]
    }
   ],
   "source": [
    "!git status\n",
    "!git add .\n",
    "!git commit -m \"new update\"\n",
    "!git push"
   ]
  }
 ],
 "metadata": {
  "kernelspec": {
   "display_name": "Python 3",
   "language": "python",
   "name": "python3"
  },
  "language_info": {
   "codemirror_mode": {
    "name": "ipython",
    "version": 3
   },
   "file_extension": ".py",
   "mimetype": "text/x-python",
   "name": "python",
   "nbconvert_exporter": "python",
   "pygments_lexer": "ipython3",
   "version": "3.9.13"
  }
 },
 "nbformat": 4,
 "nbformat_minor": 5
}
