{
 "cells": [
  {
   "cell_type": "code",
   "execution_count": null,
   "id": "f51d5203",
   "metadata": {},
   "outputs": [],
   "source": [
    "#import libraries\n",
    "import numpy as np\n",
    "from ase.io import read, write\n",
    "from ase import Atoms\n",
    "import torch\n",
    "import yaml\n",
    "import json\n",
    "import matplotlib.pyplot as plt\n",
    "import pandas as pd\n",
    "import os\n",
    "os.makedirs('img_res', exist_ok=True) #creates a folder to store the loss graphs"
   ]
  },
  {
   "cell_type": "code",
   "execution_count": null,
   "id": "639216f7",
   "metadata": {},
   "outputs": [],
   "source": [
    "#I found a warning regarding the key names for energy and forces, the label changes from 'energy' to 'REF_energy'\n",
    "input_file = \"251017_training_data.xyz\"\n",
    "output_file = \"251017_training_data_fixed.xyz\"\n",
    "\n",
    "with open(input_file, \"r\") as f:\n",
    "    lines = f.readlines()\n",
    "\n",
    "new_lines = []\n",
    "for line in lines:\n",
    "    # Fix energy key in header lines\n",
    "    if \"energy=\" in line:\n",
    "        line = line.replace(\"energy=\", \"REF_energy=\")\n",
    "    # Fix forces key in Properties line\n",
    "    if \"Properties=\" in line and \"forces:R:3\" in line:\n",
    "        line = line.replace(\"forces:R:3\", \"REF_forces:R:3\")\n",
    "    new_lines.append(line)\n",
    "\n",
    "# Write the fixed file\n",
    "with open(output_file, \"w\") as f:\n",
    "    f.writelines(new_lines)"
   ]
  },
  {
   "cell_type": "code",
   "execution_count": null,
   "id": "fc46ac95",
   "metadata": {},
   "outputs": [],
   "source": [
    "#importing the full data (this is in case I have like the whole data in one file)\n",
    "db = read('251017_training_data_fixed.xyz', ':')"
   ]
  },
  {
   "cell_type": "code",
   "execution_count": null,
   "id": "80c5abf0",
   "metadata": {},
   "outputs": [],
   "source": [
    "#splitting the data into the training and test sets\n",
    "write('train_01.xyz', db[:520])\n",
    "write('test_01.xyz', db[520:])"
   ]
  },
  {
   "cell_type": "code",
   "execution_count": null,
   "id": "74fa96e2",
   "metadata": {},
   "outputs": [],
   "source": [
    "#setting the model name based on model number and epochs\n",
    "''' model_num:\n",
    "    1 -> this indicates the model using 250 training data\n",
    "    2 -> this indicates the model using 520 training data which is 80% of the data set '''\n",
    "model_num = 2\n",
    "''' num_epochs:\n",
    "    sets the number of epochs used for running the trainig'''\n",
    "num_epoch = 5\n",
    "''' batch_size:\n",
    "    sets the batch size for training'''\n",
    "batch_size = 32\n",
    "''' model_name:\n",
    "    generates the name of the model based on the number of epochs and the model number using the 'model_num' variable '''\n",
    "model_name = f'model_0{model_num}_{num_epoch}epochs_{batch_size}batch'\n",
    "model_name"
   ]
  },
  {
   "cell_type": "code",
   "execution_count": null,
   "id": "3ff8e33c",
   "metadata": {},
   "outputs": [],
   "source": [
    "#this writes the yml file\n",
    "config = {\n",
    "    \"model\": \"MACE\",\n",
    "    \"num_channels\": 32,\n",
    "    \"max_L\": 0,\n",
    "    \"r_max\": 4.0,\n",
    "    \"name\": model_name,\n",
    "    \"train_file\": f\"train_01.xyz\",\n",
    "    \"valid_fraction\": 0.01,\n",
    "    \"test_file\": f\"test_01.xyz\",\n",
    "    \"energy_key\": \"REF_energy\",\n",
    "    \"forces_key\": \"REF_forces\",\n",
    "    \"batch_size\": batch_size,\n",
    "    \"max_num_epochs\": num_epoch,\n",
    "    \"device\": \"cuda\",\n",
    "    \"seed\": 123\n",
    "}\n",
    "with open(\"config_new_model.yml\", \"w\") as f:\n",
    "    yaml.dump(config, f, sort_keys=False)"
   ]
  },
  {
   "cell_type": "code",
   "execution_count": null,
   "id": "bb25a34f",
   "metadata": {},
   "outputs": [],
   "source": [
    "#Perform training\n",
    "import warnings\n",
    "warnings.filterwarnings('ignore')\n",
    "from mace.cli.run_train import main as mace_run_train_main\n",
    "import sys\n",
    "import logging\n",
    "\n",
    "#defining the training function\n",
    "def train_mace(config_file_path):\n",
    "    logging.getLogger().handlers.clear()\n",
    "    sys.argv = ['program', '--config', config_file_path]\n",
    "    mace_run_train_main()\n",
    "\n",
    "#calling the function\n",
    "train_mace('config_new_model.yml') # use the name of the config file that was created"
   ]
  },
  {
   "cell_type": "code",
   "execution_count": null,
   "id": "35e797c7",
   "metadata": {},
   "outputs": [],
   "source": [
    "#reading the information on the results file\n",
    "results = f'results/{model_name}_run-123_train.txt' #reading the file where the training results is stored\n",
    "data = [] #where the data from the 'results' file will be stored\n",
    "with open(results, 'r') as f:\n",
    "    for line in f:\n",
    "        try:\n",
    "            data.append(json.loads(line))\n",
    "        except json.JSONDecodeError:\n",
    "            continue"
   ]
  },
  {
   "cell_type": "code",
   "execution_count": null,
   "id": "18168ab7",
   "metadata": {},
   "outputs": [],
   "source": [
    "#saving the data in a dataframe to be able to work with it in an easier way\n",
    "df = pd.DataFrame(data)\n",
    "#separating the training and validation results\n",
    "train_df = df[df['mode']=='opt'].copy()\n",
    "val_df = df[df['mode']=='eval'].copy().dropna()\n",
    "train_df = train_df.groupby('epoch', as_index=False)['loss'].last()\n",
    "train_df['epoch'] += 1\n",
    "val_df['epoch'] += 1"
   ]
  },
  {
   "cell_type": "code",
   "execution_count": null,
   "id": "45730ed8",
   "metadata": {},
   "outputs": [],
   "source": [
    "#df[df['mode']=='opt']\n",
    "#val_df"
   ]
  },
  {
   "cell_type": "code",
   "execution_count": null,
   "id": "06287d88",
   "metadata": {},
   "outputs": [],
   "source": [
    "#I found out that the values of mae_e and mae_f are also important, so I will add them here\n",
    "plt.scatter(val_df['epoch'], val_df['mae_f'], label='mae_f (eV)', color='blue')\n",
    "plt.xlabel('Epoch')\n",
    "plt.ylabel('mae')\n",
    "plt.legend()"
   ]
  },
  {
   "cell_type": "code",
   "execution_count": null,
   "id": "a2beb1c3",
   "metadata": {},
   "outputs": [],
   "source": [
    "#I found out that the values of mae_e and mae_f are also important, so I will add them here\n",
    "plt.scatter(val_df['epoch'], val_df['mae_e'], label='mae_e (eV/A)', color='red')\n",
    "plt.xlabel('Epoch')\n",
    "plt.ylabel('mae')\n",
    "plt.legend()"
   ]
  },
  {
   "cell_type": "code",
   "execution_count": null,
   "id": "a0bb405f",
   "metadata": {},
   "outputs": [],
   "source": [
    "#plotting the \n",
    "#plt.figure()\n",
    "plt.scatter(train_df['epoch'],train_df['loss'], label='training loss', marker='o')\n",
    "plt.scatter(val_df['epoch'],val_df['loss'], label='validation loss', marker='s')\n",
    "plt.xlabel('Epoch')\n",
    "plt.ylabel('Loss')\n",
    "plt.legend()"
   ]
  },
  {
   "cell_type": "code",
   "execution_count": null,
   "id": "28e6fac7",
   "metadata": {},
   "outputs": [],
   "source": [
    "#plt.figure()\n",
    "plt.scatter(train_df['epoch'],train_df['loss'], label='training loss', marker='o')\n",
    "#plt.scatter(val_df['epoch'],val_df['loss'], label='validation loss', marker='s')\n",
    "plt.xlabel('Epoch')\n",
    "plt.ylabel('Loss')\n",
    "plt.legend()\n",
    "#saving the plots\n",
    "last_epoch = int(train_df['epoch'].max())\n",
    "filename = f'img_res/{model_name}_train_loss.pdf'\n",
    "plt.savefig(filename)"
   ]
  },
  {
   "cell_type": "code",
   "execution_count": null,
   "id": "a8fa2bf3",
   "metadata": {},
   "outputs": [],
   "source": [
    "plt.figure(figsize=(8,5))\n",
    "#plt.scatter(train_df['epoch'],train_df['loss'], label='training loss', marker='o')\n",
    "plt.scatter(val_df['epoch'],val_df['loss'], label='validation loss', marker='s')\n",
    "plt.xlabel('Epoch')\n",
    "plt.ylabel('Loss')\n",
    "plt.legend()\n",
    "#saving the plots\n",
    "last_epoch = int(train_df['epoch'].max())\n",
    "filename = f'img_res/{model_name}_val_loss.pdf'\n",
    "plt.savefig(filename)"
   ]
  },
  {
   "cell_type": "code",
   "execution_count": null,
   "id": "40f95696",
   "metadata": {},
   "outputs": [],
   "source": [
    "#this is commented for now because we have set the data on which the energy and forces will be calculated\n",
    "'''#once the training is done, then a calculation can be performed using ase\n",
    "from ase.io import read\n",
    "from mace.calculators import MACECalculator\n",
    "\n",
    "#loading the model\n",
    "calculator = MACECalculator(model_paths=f'{model_name}.model', device='cuda')\n",
    "#read the configurations from where we want to calculate\n",
    "### I set here the training data, but we could also calculate it on different data to see how it actually performs on new data\n",
    "configs = read('test_01.xyz', ':')\n",
    "\n",
    "#set a list to store the information\n",
    "results = []\n",
    "# read the results\n",
    "for i, atoms in enumerate(configs):\n",
    "    atoms.set_calculator(calculator)\n",
    "    energy = atoms.get_potential_energy()\n",
    "    forces = atoms.get_forces()\n",
    "    #max_force = abs(forces).max()  # max absolute force\n",
    "    #mean_force = abs(forces).mean()  # mean absolute force\n",
    "    # Add to list\n",
    "    results.append({\n",
    "        \"config_id\": i,\n",
    "        \"energy (eV)\": energy,\n",
    "    #    \"max_force (eV/Å)\": max_force,\n",
    "    #    \"mean_force (eV/Å)\": mean_force,\n",
    "        \"num_atoms\": len(atoms)\n",
    "    })\n",
    "# Create dataframe\n",
    "df = pd.DataFrame(results)\n",
    "df.to_excel(f'{model_name}.xlsx', index=False) #this is to save the results in an exel file'''"
   ]
  }
 ],
 "metadata": {
  "kernelspec": {
   "display_name": "Python 3",
   "language": "python",
   "name": "python3"
  },
  "language_info": {
   "codemirror_mode": {
    "name": "ipython",
    "version": 3
   },
   "file_extension": ".py",
   "mimetype": "text/x-python",
   "name": "python",
   "nbconvert_exporter": "python",
   "pygments_lexer": "ipython3",
   "version": "3.9.23"
  }
 },
 "nbformat": 4,
 "nbformat_minor": 5
}
