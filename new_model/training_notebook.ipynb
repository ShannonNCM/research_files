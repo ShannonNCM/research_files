{
 "cells": [
  {
   "cell_type": "code",
   "execution_count": null,
   "id": "f51d5203",
   "metadata": {},
   "outputs": [],
   "source": [
    "#import libraries\n",
    "import numpy as np\n",
    "from ase.io import read, write\n",
    "from ase import Atoms\n",
    "import os\n",
    "os.makedirs('config', exist_ok=True)\n",
    "import torch"
   ]
  },
  {
   "cell_type": "code",
   "execution_count": null,
   "id": "fc46ac95",
   "metadata": {},
   "outputs": [],
   "source": [
    "#importing the full data (this is in case I have like the whole data in one file)\n",
    "#db = read(. ':')"
   ]
  },
  {
   "cell_type": "markdown",
   "id": "94b45625",
   "metadata": {},
   "source": []
  },
  {
   "cell_type": "code",
   "execution_count": null,
   "id": "80c5abf0",
   "metadata": {},
   "outputs": [],
   "source": [
    "#splitting the data into the training and test sets"
   ]
  },
  {
   "cell_type": "code",
   "execution_count": null,
   "id": "b01c2e16",
   "metadata": {},
   "outputs": [],
   "source": [
    "%%writefile config_new_model.yml\n",
    "model: \"\"\n",
    "num_channels: 32\n",
    "max_L: 0\n",
    "r_max: 4.0\n",
    "name: \"\"\n",
    "train_file: \".xyz\"\n",
    "valid_fraction: 0.1\n",
    "test_file: \".xyz\"\n",
    "energy_key: \"energy\"\n",
    "forces_key: \"forces\"\n",
    "batch_size: 20\n",
    "max_num_epochs: 100\n",
    "device: cpu\n",
    "seed: 123"
   ]
  },
  {
   "cell_type": "code",
   "execution_count": null,
   "id": "bb25a34f",
   "metadata": {},
   "outputs": [],
   "source": [
    "#Perform training\n",
    "import warnings\n",
    "warnings.filterwarnings('ignore')\n",
    "from mace.cli.run_train import main as mace_run_train_main\n",
    "import sys\n",
    "import logging\n",
    "\n",
    "#defining the training function\n",
    "def train_mace(config_file_path):\n",
    "    logging.getLogger().handlers.clear()\n",
    "    sys.argv = ['program', '--config', config_file_path]\n",
    "    mace_run_train_main()\n",
    "\n",
    "#calling the function\n",
    "train_mace('yml') #aca va el nombre del yml file "
   ]
  },
  {
   "cell_type": "code",
   "execution_count": null,
   "id": "40f95696",
   "metadata": {},
   "outputs": [],
   "source": [
    "#once the training is done, then a calculation can be performed using ase\n"
   ]
  }
 ],
 "metadata": {
  "kernelspec": {
   "display_name": "Python 3",
   "language": "python",
   "name": "python3"
  },
  "language_info": {
   "codemirror_mode": {
    "name": "ipython",
    "version": 3
   },
   "file_extension": ".py",
   "mimetype": "text/x-python",
   "name": "python",
   "nbconvert_exporter": "python",
   "pygments_lexer": "ipython3",
   "version": "3.9.13"
  }
 },
 "nbformat": 4,
 "nbformat_minor": 5
}
