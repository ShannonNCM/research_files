{
 "cells": [
  {
   "cell_type": "code",
   "execution_count": 225,
   "id": "f51d5203",
   "metadata": {},
   "outputs": [],
   "source": [
    "#import libraries\n",
    "import numpy as np\n",
    "from ase.io import read, write\n",
    "from ase import Atoms\n",
    "import torch\n",
    "import yaml\n",
    "import json\n",
    "import matplotlib.pyplot as plt\n",
    "import pandas as pd\n",
    "import os\n",
    "import sys\n",
    "os.makedirs('img_res', exist_ok=True) #creates a folder to store the loss graphs\n",
    "os.makedirs('test_res', exist_ok=True) #creates a folder to store the files of the testing of the model\n",
    "import functions as f #import functions used to plot"
   ]
  },
  {
   "cell_type": "code",
   "execution_count": 34,
   "id": "639216f7",
   "metadata": {},
   "outputs": [],
   "source": [
    "#I found a warning regarding the key names for energy and forces, the label changes from 'energy' to 'REF_energy'\n",
    "input_file = \"251017_training_data.xyz\"\n",
    "output_file = \"251017_training_data_fixed.xyz\"\n",
    "\n",
    "with open(input_file, \"r\") as f:\n",
    "    lines = f.readlines()\n",
    "\n",
    "new_lines = []\n",
    "for line in lines:\n",
    "    # Fix energy key in header lines\n",
    "    if \"energy=\" in line:\n",
    "        line = line.replace(\"energy=\", \"REF_energy=\")\n",
    "    # Fix forces key in Properties line\n",
    "    if \"Properties=\" in line and \"forces:R:3\" in line:\n",
    "        line = line.replace(\"forces:R:3\", \"REF_forces:R:3\")\n",
    "    new_lines.append(line)\n",
    "\n",
    "# Write the fixed file\n",
    "with open(output_file, \"w\") as f:\n",
    "    f.writelines(new_lines)"
   ]
  },
  {
   "cell_type": "code",
   "execution_count": 35,
   "id": "fc46ac95",
   "metadata": {},
   "outputs": [],
   "source": [
    "#importing the full data (this is in case I have like the whole data in one file)\n",
    "db = read('251017_training_data_fixed.xyz', ':')"
   ]
  },
  {
   "cell_type": "code",
   "execution_count": 36,
   "id": "80c5abf0",
   "metadata": {},
   "outputs": [],
   "source": [
    "#splitting the data into the training and test sets\n",
    "write('train_01.xyz', db[:520])\n",
    "write('test_01.xyz', db[520:])"
   ]
  },
  {
   "cell_type": "code",
   "execution_count": null,
   "id": "74fa96e2",
   "metadata": {},
   "outputs": [
    {
     "data": {
      "text/plain": [
       "'model_0scaleshift_lr0.0001_30epochs_26batch'"
      ]
     },
     "execution_count": 304,
     "metadata": {},
     "output_type": "execute_result"
    }
   ],
   "source": [
    "#setting the model name based on model number and epochs\n",
    "device = 'cpu'\n",
    "''' model_num:\n",
    "    1 -> this indicates the model using 250 training data\n",
    "    2 -> this indicates the model using 520 training data which is 80% of the data set\n",
    "    3,4 -> this indicates the model using different values of learning rate 0.005, 0.0001 '''\n",
    "model_num = 'scaleshift_lr0.0001'\n",
    "#model_num = 4\n",
    "''' num_epochs:\n",
    "    sets the number of epochs used for running the trainig'''\n",
    "num_epoch = 30\n",
    "''' batch_size:\n",
    "    sets the batch size for training'''\n",
    "batch_size = 40\n",
    "''' model_name:\n",
    "    generates the name of the model based on the number of epochs and the model number using the 'model_num' variable '''\n",
    "model_name = f'model_0{model_num}_{num_epoch}epochs_{batch_size}batch'\n",
    "model_name"
   ]
  },
  {
   "cell_type": "code",
   "execution_count": 305,
   "id": "3ff8e33c",
   "metadata": {},
   "outputs": [],
   "source": [
    "#this writes the yml file\n",
    "config = {\n",
    "    \"model\": \"ScaleShiftMACE\",\n",
    "    #\"model\": \"MACE\",\n",
    "    \"num_channels\": 32,\n",
    "    \"max_L\": 0,\n",
    "    \"r_max\": 4.0,\n",
    "    \"name\": model_name,\n",
    "    \"train_file\": f\"train_01.xyz\",\n",
    "    \"valid_fraction\": 0.01,\n",
    "    \"test_file\": f\"test_01.xyz\",\n",
    "    \"energy_key\": \"REF_energy\",\n",
    "    \"forces_key\": \"REF_forces\",\n",
    "    \"batch_size\": batch_size,\n",
    "    \"max_num_epochs\": num_epoch,\n",
    "    \"optimizer\" : \"adam\",\n",
    "    \"lr\":0.0001,\n",
    "    \"device\": device,\n",
    "    \"seed\": 123\n",
    "}\n",
    "with open(\"config_new_model.yml\", \"w\") as f:\n",
    "    yaml.dump(config, f, sort_keys=False)"
   ]
  },
  {
   "cell_type": "code",
   "execution_count": 306,
   "id": "bb25a34f",
   "metadata": {},
   "outputs": [
    {
     "name": "stdout",
     "output_type": "stream",
     "text": [
      "2025-10-29 23:27:43.998 INFO: ===========VERIFYING SETTINGS===========\n",
      "2025-10-29 23:27:43.999 INFO: MACE version: 0.3.14\n",
      "2025-10-29 23:27:43.999 INFO: Using CPU\n",
      "2025-10-29 23:27:44.042 INFO: ===========LOADING INPUT DATA===========\n",
      "2025-10-29 23:27:44.043 INFO: Using heads: ['Default']\n",
      "2025-10-29 23:27:44.044 INFO: Using the key specifications to parse data:\n",
      "2025-10-29 23:27:44.044 INFO: Default: KeySpecification(info_keys={'energy': 'REF_energy', 'stress': 'REF_stress', 'virials': 'REF_virials', 'dipole': 'dipole', 'head': 'head', 'elec_temp': 'elec_temp', 'total_charge': 'total_charge', 'polarizability': 'polarizability', 'total_spin': 'total_spin'}, arrays_keys={'forces': 'REF_forces', 'charges': 'REF_charges'})\n",
      "2025-10-29 23:27:44.045 INFO: =============    Processing head Default     ===========\n",
      "2025-10-29 23:27:44.118 INFO: Using isolated atom energies from training file\n",
      "2025-10-29 23:27:44.129 INFO: Training set 1/1 [energy: 517, stress: 0, virials: 0, dipole components: 0, head: 517, elec_temp: 0, total_charge: 0, polarizability: 0, total_spin: 0, forces: 517, charges: 0]\n",
      "2025-10-29 23:27:44.131 INFO: Total Training set [energy: 517, stress: 0, virials: 0, dipole components: 0, head: 517, elec_temp: 0, total_charge: 0, polarizability: 0, total_spin: 0, forces: 517, charges: 0]\n",
      "2025-10-29 23:27:44.131 INFO: No validation set provided, splitting training data instead.\n",
      "2025-10-29 23:27:44.132 INFO: Using random 1% of training set for validation with following indices: [5, 302, 291, 153, 461]\n",
      "2025-10-29 23:27:44.134 INFO: Random Split Training set [energy: 512, stress: 0, virials: 0, dipole components: 0, head: 512, elec_temp: 0, total_charge: 0, polarizability: 0, total_spin: 0, forces: 512, charges: 0]\n",
      "2025-10-29 23:27:44.134 INFO: Random Split Validation set [energy: 5, stress: 0, virials: 0, dipole components: 0, head: 5, elec_temp: 0, total_charge: 0, polarizability: 0, total_spin: 0, forces: 5, charges: 0]\n",
      "2025-10-29 23:27:44.160 INFO: Test set 1/1 [energy: 133, stress: 0, virials: 0, dipole components: 0, head: 133, elec_temp: 0, total_charge: 0, polarizability: 0, total_spin: 0, forces: 133, charges: 0]\n",
      "2025-10-29 23:27:44.161 INFO: Total Test set [energy: 133, stress: 0, virials: 0, dipole components: 0, head: 133, elec_temp: 0, total_charge: 0, polarizability: 0, total_spin: 0, forces: 133, charges: 0]\n",
      "2025-10-29 23:27:44.161 INFO: Total number of configurations: train=512, valid=5, tests=[Fe13Si1B1_Default: 133],\n",
      "2025-10-29 23:27:44.162 WARNING: Validation batch size (10) is larger than the number of validation data (5)\n",
      "2025-10-29 23:27:44.163 INFO: Atomic Numbers used: [5, 14, 26]\n",
      "2025-10-29 23:27:44.163 INFO: Atomic Energies used (z: eV) for head Default: {5: -0.27559471, 14: -0.81049333, 26: -3.283081}\n",
      "2025-10-29 23:27:44.164 INFO: Processing datasets for head 'Default'\n",
      "2025-10-29 23:27:44.534 INFO: Combining 1 list datasets for head 'Default'\n",
      "2025-10-29 23:27:44.536 INFO: Head 'Default' training dataset size: 512\n",
      "2025-10-29 23:27:44.537 INFO: Computing average number of neighbors\n",
      "2025-10-29 23:27:44.604 INFO: Average number of neighbors: 17.630982019363763\n",
      "2025-10-29 23:27:44.604 INFO: During training the following quantities will be reported: energy, forces\n",
      "2025-10-29 23:27:44.604 INFO: ===========MODEL DETAILS===========\n",
      "2025-10-29 23:27:44.667 INFO: Building model\n",
      "2025-10-29 23:27:44.668 INFO: Message passing with 32 channels and max_L=0 (32x0e)\n",
      "2025-10-29 23:27:44.669 INFO: 2 layers, each with correlation order: 3 (body order: 4) and spherical harmonics up to: l=3\n",
      "2025-10-29 23:27:44.669 INFO: 8 radial and 5 basis functions\n",
      "2025-10-29 23:27:44.669 INFO: Radial cutoff: 4.0 A (total receptive field for each atom: 8.0 A)\n",
      "2025-10-29 23:27:44.669 INFO: Distance transform for radial basis functions: None\n",
      "2025-10-29 23:27:44.670 INFO: Hidden irreps: 32x0e\n",
      "2025-10-29 23:27:45.334 INFO: Total number of parameters: 58256\n",
      "2025-10-29 23:27:45.335 INFO: \n",
      "2025-10-29 23:27:45.335 INFO: ===========OPTIMIZER INFORMATION===========\n",
      "2025-10-29 23:27:45.335 INFO: Using ADAM as parameter optimizer\n",
      "2025-10-29 23:27:45.336 INFO: Batch size: 26\n",
      "2025-10-29 23:27:45.336 INFO: Number of gradient updates: 590\n",
      "2025-10-29 23:27:45.336 INFO: Learning rate: 0.0001, weight decay: 5e-07\n",
      "2025-10-29 23:27:45.337 INFO: WeightedEnergyForcesLoss(energy_weight=1.000, forces_weight=100.000)\n",
      "2025-10-29 23:27:45.338 INFO: Using gradient clipping with tolerance=10.000\n",
      "2025-10-29 23:27:45.338 INFO: \n",
      "2025-10-29 23:27:45.338 INFO: ===========TRAINING===========\n",
      "2025-10-29 23:27:45.338 INFO: Started training, reporting errors on validation set\n",
      "2025-10-29 23:27:45.339 INFO: Loss metrics on validation set\n",
      "2025-10-29 23:27:45.412 INFO: Initial: head: Default, loss=42.01596711, RMSE_E_per_atom= 6667.63 meV, RMSE_F= 1286.94 meV / A\n",
      "2025-10-29 23:27:52.264 INFO: Epoch 0: head: Default, loss=41.77129624, RMSE_E_per_atom= 6633.98 meV, RMSE_F= 1283.93 meV / A\n",
      "2025-10-29 23:27:58.828 INFO: Epoch 1: head: Default, loss=41.54328455, RMSE_E_per_atom= 6600.59 meV, RMSE_F= 1281.21 meV / A\n",
      "2025-10-29 23:28:05.285 INFO: Epoch 2: head: Default, loss=41.31031475, RMSE_E_per_atom= 6564.96 meV, RMSE_F= 1278.49 meV / A\n",
      "2025-10-29 23:28:11.774 INFO: Epoch 3: head: Default, loss=41.08945421, RMSE_E_per_atom= 6530.98 meV, RMSE_F= 1275.91 meV / A\n",
      "2025-10-29 23:28:18.217 INFO: Epoch 4: head: Default, loss=40.87324852, RMSE_E_per_atom= 6497.22 meV, RMSE_F= 1273.39 meV / A\n",
      "2025-10-29 23:28:24.685 INFO: Epoch 5: head: Default, loss=40.67352241, RMSE_E_per_atom= 6466.10 meV, RMSE_F= 1271.05 meV / A\n",
      "2025-10-29 23:28:31.040 INFO: Epoch 6: head: Default, loss=40.47601885, RMSE_E_per_atom= 6435.93 meV, RMSE_F= 1268.70 meV / A\n",
      "2025-10-29 23:28:37.526 INFO: Epoch 7: head: Default, loss=40.24620766, RMSE_E_per_atom= 6394.55 meV, RMSE_F= 1266.26 meV / A\n",
      "2025-10-29 23:28:43.934 INFO: Epoch 8: head: Default, loss=40.03208008, RMSE_E_per_atom= 6357.85 meV, RMSE_F= 1263.88 meV / A\n",
      "2025-10-29 23:28:50.342 INFO: Epoch 9: head: Default, loss=39.82488748, RMSE_E_per_atom= 6321.77 meV, RMSE_F= 1261.59 meV / A\n",
      "2025-10-29 23:28:56.837 INFO: Epoch 10: head: Default, loss=39.61623932, RMSE_E_per_atom= 6285.85 meV, RMSE_F= 1259.24 meV / A\n",
      "2025-10-29 23:29:03.204 INFO: Epoch 11: head: Default, loss=39.41630525, RMSE_E_per_atom= 6252.32 meV, RMSE_F= 1256.94 meV / A\n",
      "2025-10-29 23:29:09.631 INFO: Epoch 12: head: Default, loss=39.21465675, RMSE_E_per_atom= 6219.09 meV, RMSE_F= 1254.58 meV / A\n",
      "2025-10-29 23:29:16.079 INFO: Epoch 13: head: Default, loss=38.98473905, RMSE_E_per_atom= 6179.42 meV, RMSE_F= 1251.95 meV / A\n",
      "2025-10-29 23:29:22.451 INFO: Epoch 14: head: Default, loss=38.76835155, RMSE_E_per_atom= 6145.79 meV, RMSE_F= 1249.28 meV / A\n",
      "2025-10-29 23:29:28.905 INFO: Epoch 15: head: Default, loss=38.54566601, RMSE_E_per_atom= 6113.55 meV, RMSE_F= 1246.41 meV / A\n",
      "2025-10-29 23:29:35.341 INFO: Epoch 16: head: Default, loss=38.31777708, RMSE_E_per_atom= 6077.30 meV, RMSE_F= 1243.60 meV / A\n",
      "2025-10-29 23:29:41.727 INFO: Epoch 17: head: Default, loss=38.07685828, RMSE_E_per_atom= 6043.95 meV, RMSE_F= 1240.38 meV / A\n",
      "2025-10-29 23:29:48.244 INFO: Epoch 18: head: Default, loss=37.84742804, RMSE_E_per_atom= 6011.72 meV, RMSE_F= 1237.32 meV / A\n",
      "2025-10-29 23:29:54.597 INFO: Epoch 19: head: Default, loss=37.58379468, RMSE_E_per_atom= 5978.48 meV, RMSE_F= 1233.60 meV / A\n",
      "2025-10-29 23:30:01.101 INFO: Epoch 20: head: Default, loss=37.31534877, RMSE_E_per_atom= 5943.22 meV, RMSE_F= 1229.86 meV / A\n",
      "2025-10-29 23:30:07.505 INFO: Epoch 21: head: Default, loss=37.05349521, RMSE_E_per_atom= 5908.96 meV, RMSE_F= 1226.18 meV / A\n",
      "2025-10-29 23:30:13.897 INFO: Epoch 22: head: Default, loss=36.74855524, RMSE_E_per_atom= 5870.34 meV, RMSE_F= 1221.81 meV / A\n",
      "2025-10-29 23:30:20.263 INFO: Epoch 23: head: Default, loss=36.43967091, RMSE_E_per_atom= 5830.50 meV, RMSE_F= 1217.39 meV / A\n",
      "2025-10-29 23:30:26.686 INFO: Epoch 24: head: Default, loss=36.11485062, RMSE_E_per_atom= 5789.60 meV, RMSE_F= 1212.66 meV / A\n",
      "2025-10-29 23:30:33.159 INFO: Epoch 25: head: Default, loss=35.83013052, RMSE_E_per_atom= 5759.43 meV, RMSE_F= 1208.22 meV / A\n",
      "2025-10-29 23:30:39.586 INFO: Epoch 26: head: Default, loss=35.49576408, RMSE_E_per_atom= 5722.45 meV, RMSE_F= 1203.05 meV / A\n",
      "2025-10-29 23:30:46.033 INFO: Epoch 27: head: Default, loss=35.15005585, RMSE_E_per_atom= 5689.65 meV, RMSE_F= 1197.41 meV / A\n",
      "2025-10-29 23:30:52.440 INFO: Epoch 28: head: Default, loss=34.82402118, RMSE_E_per_atom= 5658.17 meV, RMSE_F= 1192.08 meV / A\n",
      "2025-10-29 23:30:58.852 INFO: Epoch 29: head: Default, loss=34.47360835, RMSE_E_per_atom= 5622.56 meV, RMSE_F= 1186.40 meV / A\n",
      "2025-10-29 23:30:58.862 INFO: Training complete\n",
      "2025-10-29 23:30:58.863 INFO: \n",
      "2025-10-29 23:30:58.863 INFO: ===========RESULTS===========\n",
      "2025-10-29 23:30:58.898 INFO: Loading checkpoint: ./checkpoints/model_0scaleshift_lr0.0001_30epochs_26batch_run-123_epoch-29.pt\n",
      "2025-10-29 23:30:58.906 INFO: Loaded Stage one model from epoch 29 for evaluation\n",
      "2025-10-29 23:30:58.906 INFO: Saving model to checkpoints/model_0scaleshift_lr0.0001_30epochs_26batch_run-123.model\n",
      "2025-10-29 23:30:59.001 INFO: Compiling model, saving metadata to model_0scaleshift_lr0.0001_30epochs_26batch_compiled.model\n",
      "2025-10-29 23:30:59.442 INFO: Computing metrics for training, validation, and test sets\n",
      "2025-10-29 23:30:59.443 INFO: Skipping evaluation for heads: ['pt_head']\n",
      "2025-10-29 23:30:59.443 INFO: Evaluating train_Default ...\n",
      "2025-10-29 23:31:01.990 INFO: Evaluating valid_Default ...\n",
      "2025-10-29 23:31:02.028 INFO: Error-table on TRAIN and VALID:\n",
      "+---------------+---------------------+------------------+-------------------+\n",
      "|  config_type  | RMSE E / meV / atom | RMSE F / meV / A | relative F RMSE % |\n",
      "+---------------+---------------------+------------------+-------------------+\n",
      "| train_Default |       132082.7      |     258593.9     |      14752.57     |\n",
      "| valid_Default |         5622.6      |       1186.4     |         93.39     |\n",
      "+---------------+---------------------+------------------+-------------------+\n",
      "2025-10-29 23:31:02.028 INFO: Evaluating Fe13Si1B1_Default ...\n",
      "2025-10-29 23:31:03.098 INFO: Error-table on TEST:\n",
      "+-------------------+---------------------+------------------+-------------------+\n",
      "|    config_type    | RMSE E / meV / atom | RMSE F / meV / A | relative F RMSE % |\n",
      "+-------------------+---------------------+------------------+-------------------+\n",
      "| Fe13Si1B1_Default |        12324.6      |       2922.6     |         97.88     |\n",
      "+-------------------+---------------------+------------------+-------------------+\n",
      "2025-10-29 23:31:03.261 INFO: Done\n"
     ]
    }
   ],
   "source": [
    "#Perform training\n",
    "import warnings\n",
    "warnings.filterwarnings('ignore')\n",
    "from mace.cli.run_train import main as mace_run_train_main\n",
    "import sys\n",
    "import logging\n",
    "\n",
    "#defining the training function\n",
    "def train_mace(config_file_path):\n",
    "    logging.getLogger().handlers.clear()\n",
    "    sys.argv = ['program', '--config', config_file_path]\n",
    "    mace_run_train_main()\n",
    "\n",
    "#calling the function\n",
    "train_mace('config_new_model.yml') # use the name of the config file that was created"
   ]
  },
  {
   "cell_type": "code",
   "execution_count": 307,
   "id": "35e797c7",
   "metadata": {},
   "outputs": [],
   "source": [
    "#reading the information on the results file\n",
    "results = f'results/{model_name}_run-123_train.txt' #reading the file where the training results is stored\n",
    "data = [] #where the data from the 'results' file will be stored\n",
    "with open(results, 'r') as f:\n",
    "    for line in f:\n",
    "        try:\n",
    "            data.append(json.loads(line))\n",
    "        except json.JSONDecodeError:\n",
    "            continue"
   ]
  },
  {
   "cell_type": "code",
   "execution_count": 308,
   "id": "9bb576e0",
   "metadata": {},
   "outputs": [
    {
     "data": {
      "text/plain": [
       "'results/model_0scaleshift_lr0.0001_30epochs_26batch_run-123_train.txt'"
      ]
     },
     "execution_count": 308,
     "metadata": {},
     "output_type": "execute_result"
    }
   ],
   "source": [
    "results"
   ]
  },
  {
   "cell_type": "code",
   "execution_count": 309,
   "id": "18168ab7",
   "metadata": {},
   "outputs": [
    {
     "data": {
      "image/png": "[encoded data removed]",
      "text/plain": [
       "<Figure size 640x480 with 1 Axes>"
      ]
     },
     "metadata": {},
     "output_type": "display_data"
    },
    {
     "data": {
      "image/png": "[encoded data removed]",
      "text/plain": [
       "<Figure size 640x480 with 1 Axes>"
      ]
     },
     "metadata": {},
     "output_type": "display_data"
    }
   ],
   "source": [
    "#saving the data in a dataframe to be able to work with it in an easier way\n",
    "df = pd.DataFrame(data)\n",
    "#separating the training and validation results\n",
    "train_df = df[df['mode']=='opt'].copy()\n",
    "val_df = df[df['mode']=='eval'].copy().dropna()\n",
    "#train_df = train_df.groupby('epoch', as_index=False)['loss'].last()\n",
    "train_df = train_df.groupby('epoch', as_index=False)['loss'].mean()\n",
    "train_df['epoch'] += 1\n",
    "val_df['epoch'] += 1\n",
    "\n",
    "#plotting the dataframe\n",
    "import functions as f\n",
    "f.plot_mae(val_df, 'epoch', ['mae_e','mae_f'])"
   ]
  },
  {
   "cell_type": "code",
   "execution_count": 310,
   "id": "02933d78",
   "metadata": {},
   "outputs": [
    {
     "data": {
      "image/png": "[encoded data removed]",
      "text/plain": [
       "<Figure size 640x480 with 1 Axes>"
      ]
     },
     "metadata": {},
     "output_type": "display_data"
    },
    {
     "data": {
      "image/png": "[encoded data removed]",
      "text/plain": [
       "<Figure size 640x480 with 1 Axes>"
      ]
     },
     "metadata": {},
     "output_type": "display_data"
    },
    {
     "data": {
      "image/png": "[encoded data removed]",
      "text/plain": [
       "<Figure size 640x480 with 1 Axes>"
      ]
     },
     "metadata": {},
     "output_type": "display_data"
    }
   ],
   "source": [
    "#plotting the validation and loss error\n",
    "f.plot_loss([(train_df, 'train'),(val_df,'val')],'epoch','loss',model_name)"
   ]
  },
  {
   "cell_type": "code",
   "execution_count": 311,
   "id": "9a0749e0",
   "metadata": {},
   "outputs": [],
   "source": [
    "#the model can be evaluated using this\n",
    "from mace.cli.eval_configs import main as mace_eval_configs_main\n",
    "import sys\n",
    "\n",
    "def eval_mace(model, configs, output, device=device):\n",
    "    sys.argv=['program', '--configs', configs, '--model', model, '--output', output, '--device', device]\n",
    "    mace_eval_configs_main()"
   ]
  },
  {
   "cell_type": "code",
   "execution_count": 316,
   "id": "66eb67bb",
   "metadata": {},
   "outputs": [
    {
     "name": "stdout",
     "output_type": "stream",
     "text": [
      "2025-10-29 23:45:18.571 INFO: Using CPU\n"
     ]
    }
   ],
   "source": [
    "#evaluating the set on both the training and test datasets\n",
    "'''eval_mace(model=f'{model_name}.model',\n",
    "          configs='train_01.xyz',\n",
    "          output=f'test_res/{model_name}_train.xyz')'''\n",
    "\n",
    "eval_mace(model=f'{model_name}.model',\n",
    "          configs='test_01.xyz',\n",
    "          output=f'test_res/{model_name}_test.xyz')"
   ]
  },
  {
   "cell_type": "code",
   "execution_count": 313,
   "id": "ad4980f8",
   "metadata": {},
   "outputs": [
    {
     "data": {
      "text/html": [
       "<div>\n",
       "<style scoped>\n",
       "    .dataframe tbody tr th:only-of-type {\n",
       "        vertical-align: middle;\n",
       "    }\n",
       "\n",
       "    .dataframe tbody tr th {\n",
       "        vertical-align: top;\n",
       "    }\n",
       "\n",
       "    .dataframe thead th {\n",
       "        text-align: right;\n",
       "    }\n",
       "</style>\n",
       "<table border=\"1\" class=\"dataframe\">\n",
       "  <thead>\n",
       "    <tr style=\"text-align: right;\">\n",
       "      <th></th>\n",
       "      <th>REF_energy</th>\n",
       "      <th>MACE_energy</th>\n",
       "    </tr>\n",
       "  </thead>\n",
       "  <tbody>\n",
       "    <tr>\n",
       "      <th>0</th>\n",
       "      <td>-108.197314</td>\n",
       "      <td>-160.240049</td>\n",
       "    </tr>\n",
       "    <tr>\n",
       "      <th>1</th>\n",
       "      <td>-108.155668</td>\n",
       "      <td>-160.304069</td>\n",
       "    </tr>\n",
       "    <tr>\n",
       "      <th>2</th>\n",
       "      <td>-107.938072</td>\n",
       "      <td>-160.005873</td>\n",
       "    </tr>\n",
       "    <tr>\n",
       "      <th>3</th>\n",
       "      <td>-111.978524</td>\n",
       "      <td>-160.919574</td>\n",
       "    </tr>\n",
       "    <tr>\n",
       "      <th>4</th>\n",
       "      <td>-111.939598</td>\n",
       "      <td>-160.819123</td>\n",
       "    </tr>\n",
       "    <tr>\n",
       "      <th>...</th>\n",
       "      <td>...</td>\n",
       "      <td>...</td>\n",
       "    </tr>\n",
       "    <tr>\n",
       "      <th>128</th>\n",
       "      <td>-106.479300</td>\n",
       "      <td>-160.133867</td>\n",
       "    </tr>\n",
       "    <tr>\n",
       "      <th>129</th>\n",
       "      <td>-102.204540</td>\n",
       "      <td>-159.889155</td>\n",
       "    </tr>\n",
       "    <tr>\n",
       "      <th>130</th>\n",
       "      <td>-101.649356</td>\n",
       "      <td>-160.189435</td>\n",
       "    </tr>\n",
       "    <tr>\n",
       "      <th>131</th>\n",
       "      <td>-98.841753</td>\n",
       "      <td>-160.010395</td>\n",
       "    </tr>\n",
       "    <tr>\n",
       "      <th>132</th>\n",
       "      <td>-110.279499</td>\n",
       "      <td>-160.911093</td>\n",
       "    </tr>\n",
       "  </tbody>\n",
       "</table>\n",
       "<p>133 rows × 2 columns</p>\n",
       "</div>"
      ],
      "text/plain": [
       "     REF_energy  MACE_energy\n",
       "0   -108.197314  -160.240049\n",
       "1   -108.155668  -160.304069\n",
       "2   -107.938072  -160.005873\n",
       "3   -111.978524  -160.919574\n",
       "4   -111.939598  -160.819123\n",
       "..          ...          ...\n",
       "128 -106.479300  -160.133867\n",
       "129 -102.204540  -159.889155\n",
       "130 -101.649356  -160.189435\n",
       "131  -98.841753  -160.010395\n",
       "132 -110.279499  -160.911093\n",
       "\n",
       "[133 rows x 2 columns]"
      ]
     },
     "execution_count": 313,
     "metadata": {},
     "output_type": "execute_result"
    }
   ],
   "source": [
    "from ase.io import read\n",
    "\n",
    "#importing data from the evaluation of the test set\n",
    "#read the configurations with the mace predictions\n",
    "res_list = read(f'test_res/{model_name}_test.xyz', index=':')\n",
    "#extracting the reference and mace energies\n",
    "res = [(a.info['REF_energy'], a.info['MACE_energy']) for a in res_list]\n",
    "df_res = pd.DataFrame(res, columns=['REF_energy', 'MACE_energy'])\n",
    "df_res"
   ]
  },
  {
   "cell_type": "code",
   "execution_count": 314,
   "id": "0c6f6e07",
   "metadata": {},
   "outputs": [
    {
     "data": {
      "image/png": "[encoded data removed]",
      "text/plain": [
       "<Figure size 640x480 with 1 Axes>"
      ]
     },
     "metadata": {},
     "output_type": "display_data"
    }
   ],
   "source": [
    "f.plot_energy_comparison(df_res, 'REF_energy', 'MACE_energy')"
   ]
  },
  {
   "cell_type": "code",
   "execution_count": 315,
   "id": "40f95696",
   "metadata": {},
   "outputs": [
    {
     "data": {
      "text/plain": [
       "'#this is commented for now because we have set the data on which the energy and forces will be calculated\\n#once the training is done, then a calculation can be performed using ase\\nfrom ase.io import read\\nfrom mace.calculators import MACECalculator\\n\\n#loading the model\\ncalculator = MACECalculator(model_paths=f\\'{model_name}.model\\', device=\\'cuda\\')\\n#read the configurations from where we want to calculate\\n### I set here the training data, but we could also calculate it on different data to see how it actually performs on new data\\nconfigs = read(\\'test_01.xyz\\', \\':\\')\\n\\n#set a list to store the information\\nresults = []\\n# read the results\\nfor i, atoms in enumerate(configs):\\n    atoms.set_calculator(calculator)\\n    energy = atoms.get_potential_energy()\\n    forces = atoms.get_forces()\\n    #max_force = abs(forces).max()  # max absolute force\\n    #mean_force = abs(forces).mean()  # mean absolute force\\n    # Add to list\\n    results.append({\\n        \"config_id\": i,\\n        \"energy (eV)\": energy,\\n    #    \"max_force (eV/Å)\": max_force,\\n    #    \"mean_force (eV/Å)\": mean_force,\\n        \"num_atoms\": len(atoms)\\n    })\\n# Create dataframe\\ndf = pd.DataFrame(results)\\ndf.to_excel(f\\'{model_name}.xlsx\\', index=False) #this is to save the results in an exel file'"
      ]
     },
     "execution_count": 315,
     "metadata": {},
     "output_type": "execute_result"
    }
   ],
   "source": [
    "'''#this is commented for now because we have set the data on which the energy and forces will be calculated\n",
    "#once the training is done, then a calculation can be performed using ase\n",
    "from ase.io import read\n",
    "from mace.calculators import MACECalculator\n",
    "\n",
    "#loading the model\n",
    "calculator = MACECalculator(model_paths=f'{model_name}.model', device='cuda')\n",
    "#read the configurations from where we want to calculate\n",
    "### I set here the training data, but we could also calculate it on different data to see how it actually performs on new data\n",
    "configs = read('test_01.xyz', ':')\n",
    "\n",
    "#set a list to store the information\n",
    "results = []\n",
    "# read the results\n",
    "for i, atoms in enumerate(configs):\n",
    "    atoms.set_calculator(calculator)\n",
    "    energy = atoms.get_potential_energy()\n",
    "    forces = atoms.get_forces()\n",
    "    #max_force = abs(forces).max()  # max absolute force\n",
    "    #mean_force = abs(forces).mean()  # mean absolute force\n",
    "    # Add to list\n",
    "    results.append({\n",
    "        \"config_id\": i,\n",
    "        \"energy (eV)\": energy,\n",
    "    #    \"max_force (eV/Å)\": max_force,\n",
    "    #    \"mean_force (eV/Å)\": mean_force,\n",
    "        \"num_atoms\": len(atoms)\n",
    "    })\n",
    "# Create dataframe\n",
    "df = pd.DataFrame(results)\n",
    "df.to_excel(f'{model_name}.xlsx', index=False) #this is to save the results in an exel file'''"
   ]
  },
  {
   "cell_type": "code",
   "execution_count": 319,
   "id": "eedd4454",
   "metadata": {},
   "outputs": [
    {
     "data": {
      "text/html": [
       "<div>\n",
       "<style scoped>\n",
       "    .dataframe tbody tr th:only-of-type {\n",
       "        vertical-align: middle;\n",
       "    }\n",
       "\n",
       "    .dataframe tbody tr th {\n",
       "        vertical-align: top;\n",
       "    }\n",
       "\n",
       "    .dataframe thead th {\n",
       "        text-align: right;\n",
       "    }\n",
       "</style>\n",
       "<table border=\"1\" class=\"dataframe\">\n",
       "  <thead>\n",
       "    <tr style=\"text-align: right;\">\n",
       "      <th></th>\n",
       "      <th>REF_energy</th>\n",
       "    </tr>\n",
       "  </thead>\n",
       "  <tbody>\n",
       "    <tr>\n",
       "      <th>0</th>\n",
       "      <td>-3.283081</td>\n",
       "    </tr>\n",
       "    <tr>\n",
       "      <th>1</th>\n",
       "      <td>-0.810493</td>\n",
       "    </tr>\n",
       "    <tr>\n",
       "      <th>2</th>\n",
       "      <td>-0.275595</td>\n",
       "    </tr>\n",
       "    <tr>\n",
       "      <th>3</th>\n",
       "      <td>-44.585548</td>\n",
       "    </tr>\n",
       "    <tr>\n",
       "      <th>4</th>\n",
       "      <td>-48.184644</td>\n",
       "    </tr>\n",
       "    <tr>\n",
       "      <th>...</th>\n",
       "      <td>...</td>\n",
       "    </tr>\n",
       "    <tr>\n",
       "      <th>515</th>\n",
       "      <td>-165.588895</td>\n",
       "    </tr>\n",
       "    <tr>\n",
       "      <th>516</th>\n",
       "      <td>-109.164985</td>\n",
       "    </tr>\n",
       "    <tr>\n",
       "      <th>517</th>\n",
       "      <td>-110.593133</td>\n",
       "    </tr>\n",
       "    <tr>\n",
       "      <th>518</th>\n",
       "      <td>-108.329711</td>\n",
       "    </tr>\n",
       "    <tr>\n",
       "      <th>519</th>\n",
       "      <td>-108.610354</td>\n",
       "    </tr>\n",
       "  </tbody>\n",
       "</table>\n",
       "<p>520 rows × 1 columns</p>\n",
       "</div>"
      ],
      "text/plain": [
       "     REF_energy\n",
       "0     -3.283081\n",
       "1     -0.810493\n",
       "2     -0.275595\n",
       "3    -44.585548\n",
       "4    -48.184644\n",
       "..          ...\n",
       "515 -165.588895\n",
       "516 -109.164985\n",
       "517 -110.593133\n",
       "518 -108.329711\n",
       "519 -108.610354\n",
       "\n",
       "[520 rows x 1 columns]"
      ]
     },
     "execution_count": 319,
     "metadata": {},
     "output_type": "execute_result"
    }
   ],
   "source": [
    "read_test = read('train_01.xyz', index=':')\n",
    "db_test = [(a.info['REF_energy']) for a in read_test]\n",
    "df = pd.DataFrame(db_test, columns=['REF_energy'])\n",
    "df"
   ]
  },
  {
   "cell_type": "code",
   "execution_count": 321,
   "id": "472b18ad",
   "metadata": {},
   "outputs": [
    {
     "data": {
      "text/plain": [
       "REF_energy   -29322.535908\n",
       "dtype: float64"
      ]
     },
     "execution_count": 321,
     "metadata": {},
     "output_type": "execute_result"
    }
   ],
   "source": [
    "df.min()"
   ]
  }
 ],
 "metadata": {
  "kernelspec": {
   "display_name": "Python 3",
   "language": "python",
   "name": "python3"
  },
  "language_info": {
   "codemirror_mode": {
    "name": "ipython",
    "version": 3
   },
   "file_extension": ".py",
   "mimetype": "text/x-python",
   "name": "python",
   "nbconvert_exporter": "python",
   "pygments_lexer": "ipython3",
   "version": "3.9.13"
  }
 },
 "nbformat": 4,
 "nbformat_minor": 5
}
