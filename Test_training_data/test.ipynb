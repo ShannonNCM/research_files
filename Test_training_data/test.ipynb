{
 "cells": [
  {
   "cell_type": "code",
   "execution_count": 8,
   "id": "96cd2386",
   "metadata": {},
   "outputs": [],
   "source": [
    "#check if mace_run_train is available\n",
    "#!whre mace_run_train"
   ]
  },
  {
   "cell_type": "code",
   "execution_count": 9,
   "id": "c06bdede",
   "metadata": {},
   "outputs": [],
   "source": [
    "#import libraries\n",
    "import numpy as np\n",
    "from ase.io import read, write\n",
    "from ase import Atoms\n",
    "import os\n",
    "os.makedirs('config', exist_ok=True)"
   ]
  },
  {
   "cell_type": "code",
   "execution_count": 10,
   "id": "a873aa9a",
   "metadata": {},
   "outputs": [],
   "source": [
    "db = read('251006_training_data.xyz',':')"
   ]
  },
  {
   "cell_type": "code",
   "execution_count": 11,
   "id": "c38624db",
   "metadata": {},
   "outputs": [
    {
     "data": {
      "text/plain": [
       "650"
      ]
     },
     "execution_count": 11,
     "metadata": {},
     "output_type": "execute_result"
    }
   ],
   "source": [
    "len(db)"
   ]
  },
  {
   "cell_type": "code",
   "execution_count": 12,
   "id": "b7754f6b",
   "metadata": {},
   "outputs": [],
   "source": [
    "#dividing the dataframe to get 2 sets, one for training and the other for testing\n",
    "write('train.xyz', db[:250])\n",
    "write('test.xyz', db[250:])"
   ]
  },
  {
   "cell_type": "code",
   "execution_count": 19,
   "id": "1423afff",
   "metadata": {},
   "outputs": [
    {
     "name": "stdout",
     "output_type": "stream",
     "text": [
      "Overwriting config_mace_3bpa.yml\n"
     ]
    }
   ],
   "source": [
    "%%writefile config_mace_3bpa.yml\n",
    "model: \"MACE\"\n",
    "num_channels: 32\n",
    "max_L: 0\n",
    "r_max: 4.0\n",
    "name: \"mace_test\"\n",
    "train_file: \"train.xyz\"\n",
    "valid_fraction: 0.1\n",
    "test_file: \"test.xyz\"\n",
    "energy_key: \"energy\"\n",
    "forces_key: \"forces\"\n",
    "E0: \"average\"\n",
    "batch_size: 20\n",
    "max_num_epochs: 5\n",
    "device: cpu\n",
    "seed: 123"
   ]
  },
  {
   "cell_type": "code",
   "execution_count": 20,
   "id": "5de877af",
   "metadata": {},
   "outputs": [
    {
     "name": "stdout",
     "output_type": "stream",
     "text": [
      "2025-10-08 00:09:45.230 INFO: ===========VERIFYING SETTINGS===========\n",
      "2025-10-08 00:09:45.231 INFO: MACE version: 0.3.14\n",
      "2025-10-08 00:09:45.232 INFO: Using CPU\n",
      "2025-10-08 00:09:45.233 INFO: ===========LOADING INPUT DATA===========\n",
      "2025-10-08 00:09:45.233 INFO: Using heads: ['Default']\n",
      "2025-10-08 00:09:45.234 INFO: Using the key specifications to parse data:\n",
      "2025-10-08 00:09:45.234 INFO: Default: KeySpecification(info_keys={'energy': 'energy', 'stress': 'REF_stress', 'virials': 'REF_virials', 'dipole': 'dipole', 'head': 'head', 'elec_temp': 'elec_temp', 'total_charge': 'total_charge', 'polarizability': 'polarizability', 'total_spin': 'total_spin'}, arrays_keys={'forces': 'forces', 'charges': 'REF_charges'})\n",
      "2025-10-08 00:09:45.235 INFO: =============    Processing head Default     ===========\n",
      "2025-10-08 00:09:45.287 WARNING: Since ASE version 3.23.0b1, using energy_key 'energy' is no longer safe when communicating between MACE and ASE. We recommend using a different key, rewriting 'energy' to 'REF_energy'. You need to use --energy_key='REF_energy' to specify the chosen key name.\n",
      "2025-10-08 00:09:45.305 WARNING: Since ASE version 3.23.0b1, using forces_key 'forces' is no longer safe when communicating between MACE and ASE. We recommend using a different key, rewriting 'forces' to 'REF_forces'. You need to use --forces_key='REF_forces' to specify the chosen key name.\n",
      "2025-10-08 00:09:45.329 INFO: Training set 1/1 [energy: 250, stress: 0, virials: 0, dipole components: 0, head: 250, elec_temp: 0, total_charge: 0, polarizability: 0, total_spin: 0, forces: 250, charges: 0]\n",
      "2025-10-08 00:09:45.330 INFO: Total Training set [energy: 250, stress: 0, virials: 0, dipole components: 0, head: 250, elec_temp: 0, total_charge: 0, polarizability: 0, total_spin: 0, forces: 250, charges: 0]\n",
      "2025-10-08 00:09:45.331 INFO: No validation set provided, splitting training data instead.\n",
      "2025-10-08 00:09:45.332 INFO: Using random 10% of training set for validation with indices saved in: ./valid_indices_123.txt\n",
      "2025-10-08 00:09:45.332 INFO: Random Split Training set [energy: 225, stress: 0, virials: 0, dipole components: 0, head: 225, elec_temp: 0, total_charge: 0, polarizability: 0, total_spin: 0, forces: 225, charges: 0]\n",
      "2025-10-08 00:09:45.333 INFO: Random Split Validation set [energy: 25, stress: 0, virials: 0, dipole components: 0, head: 25, elec_temp: 0, total_charge: 0, polarizability: 0, total_spin: 0, forces: 25, charges: 0]\n",
      "2025-10-08 00:09:45.397 WARNING: Since ASE version 3.23.0b1, using energy_key 'energy' is no longer safe when communicating between MACE and ASE. We recommend using a different key, rewriting 'energy' to 'REF_energy'. You need to use --energy_key='REF_energy' to specify the chosen key name.\n",
      "2025-10-08 00:09:45.425 WARNING: Since ASE version 3.23.0b1, using forces_key 'forces' is no longer safe when communicating between MACE and ASE. We recommend using a different key, rewriting 'forces' to 'REF_forces'. You need to use --forces_key='REF_forces' to specify the chosen key name.\n",
      "2025-10-08 00:09:45.461 INFO: Test set 1/1 [energy: 400, stress: 0, virials: 0, dipole components: 0, head: 400, elec_temp: 0, total_charge: 0, polarizability: 0, total_spin: 0, forces: 400, charges: 0]\n",
      "2025-10-08 00:09:45.463 INFO: Total Test set [energy: 400, stress: 0, virials: 0, dipole components: 0, head: 400, elec_temp: 0, total_charge: 0, polarizability: 0, total_spin: 0, forces: 400, charges: 0]\n",
      "2025-10-08 00:09:45.464 INFO: Total number of configurations: train=225, valid=25, tests=[Fe5B5_Default: 10, Fe5B4Si1_Default: 45, Fe5B3Si2_Default: 45, B2Fe30_Default: 15, Fe5B2Si3_Default: 45, Fe12Si4_Default: 11, Fe13Si1B1_Default: 229],\n",
      "2025-10-08 00:09:45.464 INFO: Atomic Numbers used: [5, 14, 26]\n",
      "2025-10-08 00:09:45.465 INFO: Isolated Atomic Energies (E0s) not in training file, using command line argument\n",
      "2025-10-08 00:09:45.465 INFO: Computing average Atomic Energies using least squares regression\n",
      "2025-10-08 00:09:45.466 INFO: Atomic Energies used (z: eV) for head Default: {5: -5.2454547575232064, 14: -2.7172499588574333, 26: -8.26812476151643}\n",
      "2025-10-08 00:09:45.466 INFO: Processing datasets for head 'Default'\n",
      "2025-10-08 00:09:45.540 INFO: Combining 1 list datasets for head 'Default'\n",
      "2025-10-08 00:09:45.549 INFO: Head 'Default' training dataset size: 225\n",
      "2025-10-08 00:09:45.550 INFO: Computing average number of neighbors\n",
      "2025-10-08 00:09:45.581 INFO: Average number of neighbors: 19.232065217391305\n",
      "2025-10-08 00:09:45.581 INFO: During training the following quantities will be reported: energy, forces\n",
      "2025-10-08 00:09:45.582 INFO: ===========MODEL DETAILS===========\n",
      "2025-10-08 00:09:45.612 INFO: Building model\n",
      "2025-10-08 00:09:45.613 INFO: Message passing with 32 channels and max_L=0 (32x0e)\n",
      "2025-10-08 00:09:45.613 INFO: 2 layers, each with correlation order: 3 (body order: 4) and spherical harmonics up to: l=3\n",
      "2025-10-08 00:09:45.613 INFO: 8 radial and 5 basis functions\n",
      "2025-10-08 00:09:45.614 INFO: Radial cutoff: 4.0 A (total receptive field for each atom: 8.0 A)\n",
      "2025-10-08 00:09:45.614 INFO: Distance transform for radial basis functions: None\n",
      "2025-10-08 00:09:45.615 INFO: Hidden irreps: 32x0e\n",
      "2025-10-08 00:09:46.277 INFO: Total number of parameters: 67472\n",
      "2025-10-08 00:09:46.277 INFO: \n",
      "2025-10-08 00:09:46.278 INFO: ===========OPTIMIZER INFORMATION===========\n",
      "2025-10-08 00:09:46.278 INFO: Using ADAM as parameter optimizer\n",
      "2025-10-08 00:09:46.279 INFO: Batch size: 20\n",
      "2025-10-08 00:09:46.279 INFO: Number of gradient updates: 56\n",
      "2025-10-08 00:09:46.279 INFO: Learning rate: 0.01, weight decay: 5e-07\n",
      "2025-10-08 00:09:46.279 INFO: WeightedEnergyForcesLoss(energy_weight=1.000, forces_weight=100.000)\n",
      "2025-10-08 00:09:46.280 INFO: Using gradient clipping with tolerance=10.000\n",
      "2025-10-08 00:09:46.280 INFO: \n",
      "2025-10-08 00:09:46.280 INFO: ===========TRAINING===========\n",
      "2025-10-08 00:09:46.281 INFO: Started training, reporting errors on validation set\n",
      "2025-10-08 00:09:46.281 INFO: Loss metrics on validation set\n",
      "2025-10-08 00:09:46.569 INFO: Initial: head: Default, loss=14.54523544, RMSE_E_per_atom= 1945.14 meV, RMSE_F= 1163.35 meV / A\n",
      "2025-10-08 00:09:50.672 INFO: Epoch 0: head: Default, loss=13.82454993, RMSE_E_per_atom= 1989.10 meV, RMSE_F= 1127.82 meV / A\n",
      "2025-10-08 00:09:54.681 INFO: Epoch 1: head: Default, loss=14.00969098, RMSE_E_per_atom= 2053.84 meV, RMSE_F= 1093.10 meV / A\n",
      "2025-10-08 00:09:58.677 INFO: Epoch 2: head: Default, loss=12.24587529, RMSE_E_per_atom= 2015.36 meV, RMSE_F= 1037.67 meV / A\n",
      "2025-10-08 00:10:02.637 INFO: Epoch 3: head: Default, loss=10.55734113, RMSE_E_per_atom= 2082.92 meV, RMSE_F=  950.69 meV / A\n",
      "2025-10-08 00:10:06.573 INFO: Epoch 4: head: Default, loss=10.56734716, RMSE_E_per_atom= 2058.96 meV, RMSE_F=  910.00 meV / A\n",
      "2025-10-08 00:10:06.574 INFO: Training complete\n",
      "2025-10-08 00:10:06.574 INFO: \n",
      "2025-10-08 00:10:06.574 INFO: ===========RESULTS===========\n",
      "2025-10-08 00:10:06.671 INFO: Loading checkpoint: ./checkpoints/mace_test_run-123_epoch-3.pt\n",
      "2025-10-08 00:10:06.680 INFO: Loaded Stage one model from epoch 3 for evaluation\n",
      "2025-10-08 00:10:06.680 INFO: Saving model to checkpoints/mace_test_run-123.model\n",
      "2025-10-08 00:10:06.776 INFO: Compiling model, saving metadata to mace_test_compiled.model\n",
      "2025-10-08 00:10:07.217 INFO: Computing metrics for training, validation, and test sets\n",
      "2025-10-08 00:10:07.218 INFO: Skipping evaluation for heads: ['pt_head']\n",
      "2025-10-08 00:10:07.218 INFO: Evaluating train_Default ...\n",
      "2025-10-08 00:10:08.771 INFO: Evaluating valid_Default ...\n",
      "2025-10-08 00:10:08.980 INFO: Error-table on TRAIN and VALID:\n",
      "+---------------+---------------------+------------------+-------------------+\n",
      "|  config_type  | RMSE E / meV / atom | RMSE F / meV / A | relative F RMSE % |\n",
      "+---------------+---------------------+------------------+-------------------+\n",
      "| train_Default |         2283.2      |    1888954.6     |     162136.54     |\n",
      "| valid_Default |         2082.9      |        950.7     |         81.66     |\n",
      "+---------------+---------------------+------------------+-------------------+\n",
      "2025-10-08 00:10:08.980 INFO: Evaluating B2Fe30_Default ...\n",
      "2025-10-08 00:10:09.191 INFO: Evaluating Fe12Si4_Default ...\n",
      "2025-10-08 00:10:09.388 INFO: Evaluating Fe13Si1B1_Default ...\n",
      "2025-10-08 00:10:11.213 INFO: Evaluating Fe5B2Si3_Default ...\n",
      "2025-10-08 00:10:11.436 INFO: Evaluating Fe5B3Si2_Default ...\n",
      "2025-10-08 00:10:11.678 INFO: Evaluating Fe5B4Si1_Default ...\n",
      "2025-10-08 00:10:11.928 INFO: Evaluating Fe5B5_Default ...\n",
      "2025-10-08 00:10:11.984 INFO: Error-table on TEST:\n",
      "+-------------------+---------------------+------------------+-------------------+\n",
      "|    config_type    | RMSE E / meV / atom | RMSE F / meV / A | relative F RMSE % |\n",
      "+-------------------+---------------------+------------------+-------------------+\n",
      "|   B2Fe30_Default  |          809.8      |        331.7     |         79.34     |\n",
      "|  Fe12Si4_Default  |          451.0      |       3696.4     |  369640105835.76  |\n",
      "| Fe13Si1B1_Default |         9089.6      |       2191.5     |         91.53     |\n",
      "|  Fe5B2Si3_Default |       436568.3      |       4827.3     |         97.95     |\n",
      "|  Fe5B3Si2_Default |        35244.2      |       1737.9     |         81.59     |\n",
      "|  Fe5B4Si1_Default |         3954.1      |       1548.2     |         75.84     |\n",
      "|   Fe5B5_Default   |         3812.5      |       1302.1     |         70.90     |\n",
      "+-------------------+---------------------+------------------+-------------------+\n",
      "2025-10-08 00:10:12.156 INFO: Done\n"
     ]
    }
   ],
   "source": [
    "import warnings\n",
    "warnings.filterwarnings(\"ignore\")\n",
    "from mace.cli.run_train import main as mace_run_train_main\n",
    "import sys\n",
    "import logging\n",
    "\n",
    "def train_mace(config_file_path):\n",
    "    logging.getLogger().handlers.clear()\n",
    "    sys.argv = [\"program\", \"--config\", config_file_path]  # Simulates command line\n",
    "    mace_run_train_main()  # Calls the main function directly\n",
    "\n",
    "train_mace(\"config_mace_3bpa.yml\")"
   ]
  },
  {
   "cell_type": "code",
   "execution_count": null,
   "id": "a8e945f0",
   "metadata": {},
   "outputs": [
    {
     "name": "stdout",
     "output_type": "stream",
     "text": [
      "2025-10-07 19:03:33.694 INFO: Using CPU\n",
      "Using head Default out of ['Default']\n",
      "No dtype selected, switching to float64 to match model dtype.\n",
      "MD finished!\n"
     ]
    }
   ],
   "source": [
    "from ase import units #physical constants\n",
    "from ase.md.langevin import Langevin #langevin dinamics integrator\n",
    "from ase.io import read, write # read/write chemical structure files\n",
    "import numpy as np \n",
    "import time #timing performance\n",
    "\n",
    "from mace.calculators import MACECalculator # import the machine learning potential -> gives acces to mace as a \"calculator\" that can predict energies and forces\n",
    "\n",
    "calculator = MACECalculator(model_paths='mace_test.model', device='cpu') #loads the trained MACe model\n",
    "init_conf = read('test.xyz', '0') # loads the starting structure for MD, loads a singe molecular configuration to start the simulation\n",
    "init_conf.set_calculator(calculator) # connect the ML calculator to the atoms (en teoria se puede usar init_conf.cal = calculator pero no lo he probado)\n",
    "\n",
    "dyn = Langevin(init_conf, 0.5*units.fs, temperature_K=310, friction=5e-3) #uses langevin dynamics (constant temperature)\n",
    "#defines a function to save simulation snapshots\n",
    "def write_frame():\n",
    "        dyn.atoms.write('md_3bpa.xyz', append=True)\n",
    "dyn.attach(write_frame, interval=50) #indicates the simulator when to save frames\n",
    "dyn.run(100) #execute the molecular dynamics, each step calculates forces using mace, updates atom positions and velocities, applies thermostat and saves trajectory frame every 50 steps\n",
    "print(\"MD finished!\")"
   ]
  },
  {
   "cell_type": "code",
   "execution_count": null,
   "id": "25d3dcab",
   "metadata": {},
   "outputs": [
    {
     "name": "stdout",
     "output_type": "stream",
     "text": [
      "Trajectory contains 3 frames\n",
      "Each frame has 10 atoms\n",
      "\n",
      "Energies from MD simulation:\n",
      "Frame 0: Energy = -70.2193 eV\n",
      "Frame 1: Energy = -71.7766 eV\n",
      "Frame 2: Energy = -72.1329 eV\n"
     ]
    }
   ],
   "source": [
    "from ase.io import read\n",
    "\n",
    "trajectory = read('md_3bpa.xyz', index=':')\n",
    "print(f\"Trajectory contains {len(trajectory)} frames\")\n",
    "print(f\"Each frame has {len(trajectory[0])} atoms\")\n",
    "\n",
    "# Print energies from the trajectory\n",
    "print(\"\\nEnergies from MD simulation:\")\n",
    "for i, atoms in enumerate(trajectory):\n",
    "    if hasattr(atoms, 'get_potential_energy'):\n",
    "        energy = atoms.get_potential_energy()\n",
    "        print(f\"Frame {i}: Energy = {energy:.4f} eV\")"
   ]
  }
 ],
 "metadata": {
  "kernelspec": {
   "display_name": "Python 3",
   "language": "python",
   "name": "python3"
  },
  "language_info": {
   "codemirror_mode": {
    "name": "ipython",
    "version": 3
   },
   "file_extension": ".py",
   "mimetype": "text/x-python",
   "name": "python",
   "nbconvert_exporter": "python",
   "pygments_lexer": "ipython3",
   "version": "3.9.13"
  }
 },
 "nbformat": 4,
 "nbformat_minor": 5
}
