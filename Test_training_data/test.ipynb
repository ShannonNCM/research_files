{
 "cells": [
  {
   "cell_type": "code",
   "execution_count": 1,
   "id": "96cd2386",
   "metadata": {},
   "outputs": [],
   "source": [
    "#check if mace_run_train is available\n",
    "#!whre mace_run_train"
   ]
  },
  {
   "cell_type": "code",
   "execution_count": 11,
   "id": "c06bdede",
   "metadata": {},
   "outputs": [],
   "source": [
    "#import libraries\n",
    "import numpy as np\n",
    "from ase.io import read, write\n",
    "from ase import Atoms\n",
    "import os\n",
    "os.makedirs('config', exist_ok=True)\n",
    "import torch"
   ]
  },
  {
   "cell_type": "code",
   "execution_count": 3,
   "id": "a873aa9a",
   "metadata": {},
   "outputs": [],
   "source": [
    "db = read('251006_training_data.xyz',':')"
   ]
  },
  {
   "cell_type": "code",
   "execution_count": 1,
   "id": "c38624db",
   "metadata": {},
   "outputs": [],
   "source": [
    "#len(db)"
   ]
  },
  {
   "cell_type": "code",
   "execution_count": 5,
   "id": "b7754f6b",
   "metadata": {},
   "outputs": [],
   "source": [
    "#dividing the dataframe to get 2 sets, one for training and the other for testing\n",
    "write('train.xyz', db[:250])\n",
    "write('test.xyz', db[250:])"
   ]
  },
  {
   "cell_type": "code",
   "execution_count": 23,
   "id": "1423afff",
   "metadata": {},
   "outputs": [
    {
     "name": "stdout",
     "output_type": "stream",
     "text": [
      "Overwriting config_mace_3bpa.yml\n"
     ]
    }
   ],
   "source": [
    "%%writefile config_mace_3bpa.yml\n",
    "model: \"MACE\"\n",
    "num_channels: 32\n",
    "max_L: 0\n",
    "r_max: 4.0\n",
    "name: \"mace_test\"\n",
    "train_file: \"train.xyz\"\n",
    "valid_fraction: 0.1\n",
    "test_file: \"test.xyz\"\n",
    "energy_key: \"energy\"\n",
    "forces_key: \"forces\"\n",
    "E0: \"average\"\n",
    "batch_size: 20\n",
    "max_num_epochs: 10\n",
    "device: cpu\n",
    "seed: 123"
   ]
  },
  {
   "cell_type": "code",
   "execution_count": 24,
   "id": "5de877af",
   "metadata": {},
   "outputs": [
    {
     "name": "stdout",
     "output_type": "stream",
     "text": [
      "2025-10-14 01:11:10.370 INFO: ===========VERIFYING SETTINGS===========\n",
      "2025-10-14 01:11:10.371 INFO: MACE version: 0.3.14\n",
      "2025-10-14 01:11:10.372 INFO: Using CPU\n",
      "2025-10-14 01:11:10.414 INFO: ===========LOADING INPUT DATA===========\n",
      "2025-10-14 01:11:10.415 INFO: Using heads: ['Default']\n",
      "2025-10-14 01:11:10.416 INFO: Using the key specifications to parse data:\n",
      "2025-10-14 01:11:10.416 INFO: Default: KeySpecification(info_keys={'energy': 'energy', 'stress': 'REF_stress', 'virials': 'REF_virials', 'dipole': 'dipole', 'head': 'head', 'elec_temp': 'elec_temp', 'total_charge': 'total_charge', 'polarizability': 'polarizability', 'total_spin': 'total_spin'}, arrays_keys={'forces': 'forces', 'charges': 'REF_charges'})\n",
      "2025-10-14 01:11:10.416 INFO: =============    Processing head Default     ===========\n",
      "2025-10-14 01:11:10.467 WARNING: Since ASE version 3.23.0b1, using energy_key 'energy' is no longer safe when communicating between MACE and ASE. We recommend using a different key, rewriting 'energy' to 'REF_energy'. You need to use --energy_key='REF_energy' to specify the chosen key name.\n",
      "2025-10-14 01:11:10.486 WARNING: Since ASE version 3.23.0b1, using forces_key 'forces' is no longer safe when communicating between MACE and ASE. We recommend using a different key, rewriting 'forces' to 'REF_forces'. You need to use --forces_key='REF_forces' to specify the chosen key name.\n",
      "2025-10-14 01:11:10.510 INFO: Training set 1/1 [energy: 250, stress: 0, virials: 0, dipole components: 0, head: 250, elec_temp: 0, total_charge: 0, polarizability: 0, total_spin: 0, forces: 250, charges: 0]\n",
      "2025-10-14 01:11:10.511 INFO: Total Training set [energy: 250, stress: 0, virials: 0, dipole components: 0, head: 250, elec_temp: 0, total_charge: 0, polarizability: 0, total_spin: 0, forces: 250, charges: 0]\n",
      "2025-10-14 01:11:10.512 INFO: No validation set provided, splitting training data instead.\n",
      "2025-10-14 01:11:10.513 INFO: Using random 10% of training set for validation with indices saved in: ./valid_indices_123.txt\n",
      "2025-10-14 01:11:10.514 INFO: Random Split Training set [energy: 225, stress: 0, virials: 0, dipole components: 0, head: 225, elec_temp: 0, total_charge: 0, polarizability: 0, total_spin: 0, forces: 225, charges: 0]\n",
      "2025-10-14 01:11:10.515 INFO: Random Split Validation set [energy: 25, stress: 0, virials: 0, dipole components: 0, head: 25, elec_temp: 0, total_charge: 0, polarizability: 0, total_spin: 0, forces: 25, charges: 0]\n",
      "2025-10-14 01:11:10.579 WARNING: Since ASE version 3.23.0b1, using energy_key 'energy' is no longer safe when communicating between MACE and ASE. We recommend using a different key, rewriting 'energy' to 'REF_energy'. You need to use --energy_key='REF_energy' to specify the chosen key name.\n",
      "2025-10-14 01:11:10.609 WARNING: Since ASE version 3.23.0b1, using forces_key 'forces' is no longer safe when communicating between MACE and ASE. We recommend using a different key, rewriting 'forces' to 'REF_forces'. You need to use --forces_key='REF_forces' to specify the chosen key name.\n",
      "2025-10-14 01:11:10.648 INFO: Test set 1/1 [energy: 400, stress: 0, virials: 0, dipole components: 0, head: 400, elec_temp: 0, total_charge: 0, polarizability: 0, total_spin: 0, forces: 400, charges: 0]\n",
      "2025-10-14 01:11:10.650 INFO: Total Test set [energy: 400, stress: 0, virials: 0, dipole components: 0, head: 400, elec_temp: 0, total_charge: 0, polarizability: 0, total_spin: 0, forces: 400, charges: 0]\n",
      "2025-10-14 01:11:10.650 INFO: Total number of configurations: train=225, valid=25, tests=[Fe5B5_Default: 10, Fe5B4Si1_Default: 45, Fe5B3Si2_Default: 45, B2Fe30_Default: 15, Fe5B2Si3_Default: 45, Fe12Si4_Default: 11, Fe13Si1B1_Default: 229],\n",
      "2025-10-14 01:11:10.651 INFO: Atomic Numbers used: [5, 14, 26]\n",
      "2025-10-14 01:11:10.652 INFO: Isolated Atomic Energies (E0s) not in training file, using command line argument\n",
      "2025-10-14 01:11:10.652 INFO: Computing average Atomic Energies using least squares regression\n",
      "2025-10-14 01:11:10.653 INFO: Atomic Energies used (z: eV) for head Default: {5: -5.2454547575232064, 14: -2.7172499588574333, 26: -8.26812476151643}\n",
      "2025-10-14 01:11:10.653 INFO: Processing datasets for head 'Default'\n",
      "2025-10-14 01:11:10.784 INFO: Combining 1 list datasets for head 'Default'\n",
      "2025-10-14 01:11:10.800 INFO: Head 'Default' training dataset size: 225\n",
      "2025-10-14 01:11:10.806 INFO: Computing average number of neighbors\n",
      "2025-10-14 01:11:10.883 INFO: Average number of neighbors: 19.232065217391305\n",
      "2025-10-14 01:11:10.885 INFO: During training the following quantities will be reported: energy, forces\n",
      "2025-10-14 01:11:10.886 INFO: ===========MODEL DETAILS===========\n",
      "2025-10-14 01:11:10.935 INFO: Building model\n",
      "2025-10-14 01:11:10.936 INFO: Message passing with 32 channels and max_L=0 (32x0e)\n",
      "2025-10-14 01:11:10.936 INFO: 2 layers, each with correlation order: 3 (body order: 4) and spherical harmonics up to: l=3\n",
      "2025-10-14 01:11:10.937 INFO: 8 radial and 5 basis functions\n",
      "2025-10-14 01:11:10.937 INFO: Radial cutoff: 4.0 A (total receptive field for each atom: 8.0 A)\n",
      "2025-10-14 01:11:10.937 INFO: Distance transform for radial basis functions: None\n",
      "2025-10-14 01:11:10.938 INFO: Hidden irreps: 32x0e\n",
      "2025-10-14 01:11:11.630 INFO: Total number of parameters: 67472\n",
      "2025-10-14 01:11:11.630 INFO: \n",
      "2025-10-14 01:11:11.631 INFO: ===========OPTIMIZER INFORMATION===========\n",
      "2025-10-14 01:11:11.631 INFO: Using ADAM as parameter optimizer\n",
      "2025-10-14 01:11:11.631 INFO: Batch size: 20\n",
      "2025-10-14 01:11:11.632 INFO: Number of gradient updates: 112\n",
      "2025-10-14 01:11:11.632 INFO: Learning rate: 0.01, weight decay: 5e-07\n",
      "2025-10-14 01:11:11.632 INFO: WeightedEnergyForcesLoss(energy_weight=1.000, forces_weight=100.000)\n",
      "2025-10-14 01:11:11.633 INFO: Using gradient clipping with tolerance=10.000\n",
      "2025-10-14 01:11:11.633 INFO: \n",
      "2025-10-14 01:11:11.634 INFO: ===========TRAINING===========\n",
      "2025-10-14 01:11:11.634 INFO: Started training, reporting errors on validation set\n",
      "2025-10-14 01:11:11.634 INFO: Loss metrics on validation set\n",
      "2025-10-14 01:11:11.976 INFO: Initial: head: Default, loss=14.54523544, RMSE_E_per_atom= 1945.14 meV, RMSE_F= 1163.35 meV / A\n",
      "2025-10-14 01:11:16.371 INFO: Epoch 0: head: Default, loss=13.82454993, RMSE_E_per_atom= 1989.10 meV, RMSE_F= 1127.82 meV / A\n",
      "2025-10-14 01:11:20.487 INFO: Epoch 1: head: Default, loss=14.00969098, RMSE_E_per_atom= 2053.84 meV, RMSE_F= 1093.10 meV / A\n",
      "2025-10-14 01:11:24.632 INFO: Epoch 2: head: Default, loss=12.24587529, RMSE_E_per_atom= 2015.36 meV, RMSE_F= 1037.67 meV / A\n",
      "2025-10-14 01:11:28.680 INFO: Epoch 3: head: Default, loss=10.55734113, RMSE_E_per_atom= 2082.92 meV, RMSE_F=  950.69 meV / A\n",
      "2025-10-14 01:11:32.844 INFO: Epoch 4: head: Default, loss=10.56734716, RMSE_E_per_atom= 2058.96 meV, RMSE_F=  910.00 meV / A\n",
      "2025-10-14 01:11:37.081 INFO: Epoch 5: head: Default, loss=16.01479615, RMSE_E_per_atom= 2064.70 meV, RMSE_F=  984.64 meV / A\n",
      "2025-10-14 01:11:41.155 INFO: Epoch 6: head: Default, loss=13.25231196, RMSE_E_per_atom= 2068.28 meV, RMSE_F=  914.17 meV / A\n",
      "2025-10-14 01:11:45.344 INFO: Epoch 7: head: Default, loss=9.02066792, RMSE_E_per_atom= 2146.61 meV, RMSE_F=  860.63 meV / A\n",
      "2025-10-14 01:11:49.621 INFO: Epoch 8: head: Default, loss=8.73680941, RMSE_E_per_atom= 2152.42 meV, RMSE_F=  873.13 meV / A\n",
      "2025-10-14 01:11:53.790 INFO: Epoch 9: head: Default, loss=12.74951189, RMSE_E_per_atom= 2140.84 meV, RMSE_F=  891.52 meV / A\n",
      "2025-10-14 01:11:53.791 INFO: Training complete\n",
      "2025-10-14 01:11:53.791 INFO: \n",
      "2025-10-14 01:11:53.791 INFO: ===========RESULTS===========\n",
      "2025-10-14 01:11:53.889 INFO: Loading checkpoint: ./checkpoints/mace_test_run-123_epoch-9.pt\n",
      "2025-10-14 01:11:53.898 INFO: Loaded Stage one model from epoch 9 for evaluation\n",
      "2025-10-14 01:11:53.898 INFO: Saving model to checkpoints/mace_test_run-123.model\n",
      "2025-10-14 01:11:53.996 INFO: Compiling model, saving metadata to mace_test_compiled.model\n",
      "2025-10-14 01:11:54.580 INFO: Computing metrics for training, validation, and test sets\n",
      "2025-10-14 01:11:54.580 INFO: Skipping evaluation for heads: ['pt_head']\n",
      "2025-10-14 01:11:54.581 INFO: Evaluating train_Default ...\n",
      "2025-10-14 01:11:56.223 INFO: Evaluating valid_Default ...\n",
      "2025-10-14 01:11:56.460 INFO: Error-table on TRAIN and VALID:\n",
      "+---------------+---------------------+------------------+-------------------+\n",
      "|  config_type  | RMSE E / meV / atom | RMSE F / meV / A | relative F RMSE % |\n",
      "+---------------+---------------------+------------------+-------------------+\n",
      "| train_Default |         2402.1      |     325505.7     |      27939.46     |\n",
      "| valid_Default |         2203.9      |        842.1     |         72.34     |\n",
      "+---------------+---------------------+------------------+-------------------+\n",
      "2025-10-14 01:11:56.461 INFO: Evaluating B2Fe30_Default ...\n",
      "2025-10-14 01:11:56.692 INFO: Evaluating Fe12Si4_Default ...\n",
      "2025-10-14 01:11:56.891 INFO: Evaluating Fe13Si1B1_Default ...\n",
      "2025-10-14 01:11:59.138 INFO: Evaluating Fe5B2Si3_Default ...\n",
      "2025-10-14 01:11:59.398 INFO: Evaluating Fe5B3Si2_Default ...\n",
      "2025-10-14 01:11:59.691 INFO: Evaluating Fe5B4Si1_Default ...\n",
      "2025-10-14 01:11:59.970 INFO: Evaluating Fe5B5_Default ...\n",
      "2025-10-14 01:12:00.035 INFO: Error-table on TEST:\n",
      "+-------------------+---------------------+------------------+-------------------+\n",
      "|    config_type    | RMSE E / meV / atom | RMSE F / meV / A | relative F RMSE % |\n",
      "+-------------------+---------------------+------------------+-------------------+\n",
      "|   B2Fe30_Default  |          819.9      |        304.7     |         72.89     |\n",
      "|  Fe12Si4_Default  |          588.0      |       1688.5     |  168845170564.66  |\n",
      "| Fe13Si1B1_Default |         9098.2      |       2235.0     |         93.35     |\n",
      "|  Fe5B2Si3_Default |       436509.8      |       4981.3     |        101.07     |\n",
      "|  Fe5B3Si2_Default |        35188.5      |       1590.9     |         74.69     |\n",
      "|  Fe5B4Si1_Default |         4221.4      |       1445.6     |         70.82     |\n",
      "|   Fe5B5_Default   |         4234.7      |       1222.7     |         66.58     |\n",
      "+-------------------+---------------------+------------------+-------------------+\n",
      "2025-10-14 01:12:00.215 INFO: Done\n"
     ]
    }
   ],
   "source": [
    "import warnings\n",
    "warnings.filterwarnings(\"ignore\")\n",
    "from mace.cli.run_train import main as mace_run_train_main\n",
    "import sys\n",
    "import logging\n",
    "\n",
    "def train_mace(config_file_path):\n",
    "    logging.getLogger().handlers.clear()\n",
    "    sys.argv = [\"program\", \"--config\", config_file_path]  # Simulates command line\n",
    "    mace_run_train_main()  # Calls the main function directly\n",
    "\n",
    "train_mace(\"config_mace_3bpa.yml\")"
   ]
  },
  {
   "cell_type": "code",
   "execution_count": 8,
   "id": "a8e945f0",
   "metadata": {},
   "outputs": [
    {
     "name": "stdout",
     "output_type": "stream",
     "text": [
      "2025-10-14 00:52:04.599 INFO: Using CPU\n",
      "Using head Default out of ['Default']\n",
      "No dtype selected, switching to float64 to match model dtype.\n",
      "MD finished!\n"
     ]
    }
   ],
   "source": [
    "from ase import units #physical constants\n",
    "from ase.md.langevin import Langevin #langevin dinamics integrator\n",
    "from ase.io import read, write # read/write chemical structure files\n",
    "import numpy as np \n",
    "import time #timing performance\n",
    "\n",
    "from mace.calculators import MACECalculator # import the machine learning potential -> gives acces to mace as a \"calculator\" that can predict energies and forces\n",
    "\n",
    "calculator = MACECalculator(model_paths='mace_test.model', device='cpu') #loads the trained MACe model\n",
    "init_conf = read('test.xyz', '0') # loads the starting structure for MD, loads a singe molecular configuration to start the simulation\n",
    "init_conf.set_calculator(calculator) # connect the ML calculator to the atoms (en teoria se puede usar init_conf.cal = calculator pero no lo he probado)\n",
    "\n",
    "dyn = Langevin(init_conf, 0.5*units.fs, temperature_K=310, friction=5e-3) #uses langevin dynamics (constant temperature)\n",
    "#defines a function to save simulation snapshots\n",
    "def write_frame():\n",
    "        dyn.atoms.write('md_3bpa.xyz', append=True)\n",
    "dyn.attach(write_frame, interval=50) #indicates the simulator when to save frames\n",
    "dyn.run(100) #execute the molecular dynamics, each step calculates forces using mace, updates atom positions and velocities, applies thermostat and saves trajectory frame every 50 steps\n",
    "print(\"MD finished!\")"
   ]
  },
  {
   "cell_type": "code",
   "execution_count": null,
   "id": "25d3dcab",
   "metadata": {},
   "outputs": [
    {
     "name": "stdout",
     "output_type": "stream",
     "text": [
      "Trajectory contains 9 frames\n",
      "Each frame has 10 atoms\n",
      "\n",
      "Energies from MD simulation:\n",
      "Frame 0: Energy = -70.2193 eV\n",
      "Frame 1: Energy = -71.7766 eV\n",
      "Frame 2: Energy = -72.1329 eV\n",
      "Frame 3: Energy = -70.2193 eV\n",
      "Frame 4: Energy = -71.7766 eV\n",
      "Frame 5: Energy = -72.1329 eV\n",
      "Frame 6: Energy = -73.0844 eV\n",
      "Frame 7: Energy = -74.6088 eV\n",
      "Frame 8: Energy = -75.0692 eV\n"
     ]
    }
   ],
   "source": [
    "from ase.io import read\n",
    "\n",
    "trajectory = read('md_3bpa.xyz', index=':')\n",
    "print(f\"trajectory contains {len(trajectory)} frames\")\n",
    "print(f\"each frame has {len(trajectory[0])} atoms\")\n",
    "\n",
    "# Print energies from the trajectory\n",
    "print(\"\\nEnergies from MD simulation:\")\n",
    "for i, atoms in enumerate(trajectory):\n",
    "    if hasattr(atoms, 'get_potential_energy'):\n",
    "        energy = atoms.get_potential_energy()\n",
    "        print(f\"Frame {i}: Energy = {energy:.4f} eV\")"
   ]
  },
  {
   "cell_type": "code",
   "execution_count": 12,
   "id": "af725157",
   "metadata": {},
   "outputs": [
    {
     "name": "stdout",
     "output_type": "stream",
     "text": [
      "available\n"
     ]
    }
   ],
   "source": [
    "# Check that MPS is available\n",
    "if torch.backends.mps.is_available():\n",
    "    print('available')\n",
    "else:\n",
    "    print(\"not available\")"
   ]
  },
  {
   "cell_type": "code",
   "execution_count": 13,
   "id": "41d5cd3f",
   "metadata": {},
   "outputs": [
    {
     "data": {
      "text/plain": [
       "tensor([2., 2., 2., 2., 2.], device='mps:0', dtype=torch.float32)"
      ]
     },
     "execution_count": 13,
     "metadata": {},
     "output_type": "execute_result"
    }
   ],
   "source": [
    "mps_device = torch.device(\"mps\")\n",
    "\n",
    "# Create a Tensor directly on the mps device\n",
    "x = torch.ones(5, device=mps_device, dtype=torch.float32)\n",
    "    # Or\n",
    "#x = torch.ones(5, device=\"mps\")\n",
    "\n",
    "    # Any operation happens on the GPU\n",
    "y = x * 2\n",
    "y"
   ]
  },
  {
   "cell_type": "code",
   "execution_count": 25,
   "id": "2b119883",
   "metadata": {},
   "outputs": [
    {
     "name": "stdout",
     "output_type": "stream",
     "text": [
      "Overwriting config_mace_3bpa_mps.yml\n"
     ]
    }
   ],
   "source": [
    "%%writefile config_mace_3bpa_mps.yml\n",
    "model: \"MACE\"\n",
    "num_channels: 32\n",
    "max_L: 0\n",
    "r_max: 4.0\n",
    "name: \"mace_test\"\n",
    "train_file: \"train.xyz\"\n",
    "valid_fraction: 0.1\n",
    "test_file: \"test.xyz\"\n",
    "energy_key: \"energy\"\n",
    "forces_key: \"forces\"\n",
    "E0: \"average\"\n",
    "batch_size: 10\n",
    "max_num_epochs: 5\n",
    "device: mps\n",
    "seed: 123\n",
    "default_dtype: \"float32\""
   ]
  },
  {
   "cell_type": "code",
   "execution_count": 26,
   "id": "489f3f1c",
   "metadata": {},
   "outputs": [
    {
     "name": "stdout",
     "output_type": "stream",
     "text": [
      "2025-10-14 01:12:40.217 INFO: ===========VERIFYING SETTINGS===========\n",
      "2025-10-14 01:12:40.218 INFO: MACE version: 0.3.14\n",
      "2025-10-14 01:12:40.219 INFO: Using MPS GPU acceleration\n",
      "2025-10-14 01:12:40.261 INFO: ===========LOADING INPUT DATA===========\n",
      "2025-10-14 01:12:40.262 INFO: Using heads: ['Default']\n",
      "2025-10-14 01:12:40.263 INFO: Using the key specifications to parse data:\n",
      "2025-10-14 01:12:40.263 INFO: Default: KeySpecification(info_keys={'energy': 'energy', 'stress': 'REF_stress', 'virials': 'REF_virials', 'dipole': 'dipole', 'head': 'head', 'elec_temp': 'elec_temp', 'total_charge': 'total_charge', 'polarizability': 'polarizability', 'total_spin': 'total_spin'}, arrays_keys={'forces': 'forces', 'charges': 'REF_charges'})\n",
      "2025-10-14 01:12:40.264 INFO: =============    Processing head Default     ===========\n",
      "2025-10-14 01:12:40.315 WARNING: Since ASE version 3.23.0b1, using energy_key 'energy' is no longer safe when communicating between MACE and ASE. We recommend using a different key, rewriting 'energy' to 'REF_energy'. You need to use --energy_key='REF_energy' to specify the chosen key name.\n",
      "2025-10-14 01:12:40.335 WARNING: Since ASE version 3.23.0b1, using forces_key 'forces' is no longer safe when communicating between MACE and ASE. We recommend using a different key, rewriting 'forces' to 'REF_forces'. You need to use --forces_key='REF_forces' to specify the chosen key name.\n",
      "2025-10-14 01:12:40.359 INFO: Training set 1/1 [energy: 250, stress: 0, virials: 0, dipole components: 0, head: 250, elec_temp: 0, total_charge: 0, polarizability: 0, total_spin: 0, forces: 250, charges: 0]\n",
      "2025-10-14 01:12:40.360 INFO: Total Training set [energy: 250, stress: 0, virials: 0, dipole components: 0, head: 250, elec_temp: 0, total_charge: 0, polarizability: 0, total_spin: 0, forces: 250, charges: 0]\n",
      "2025-10-14 01:12:40.361 INFO: No validation set provided, splitting training data instead.\n",
      "2025-10-14 01:12:40.362 INFO: Using random 10% of training set for validation with indices saved in: ./valid_indices_123.txt\n",
      "2025-10-14 01:12:40.363 INFO: Random Split Training set [energy: 225, stress: 0, virials: 0, dipole components: 0, head: 225, elec_temp: 0, total_charge: 0, polarizability: 0, total_spin: 0, forces: 225, charges: 0]\n",
      "2025-10-14 01:12:40.364 INFO: Random Split Validation set [energy: 25, stress: 0, virials: 0, dipole components: 0, head: 25, elec_temp: 0, total_charge: 0, polarizability: 0, total_spin: 0, forces: 25, charges: 0]\n",
      "2025-10-14 01:12:40.431 WARNING: Since ASE version 3.23.0b1, using energy_key 'energy' is no longer safe when communicating between MACE and ASE. We recommend using a different key, rewriting 'energy' to 'REF_energy'. You need to use --energy_key='REF_energy' to specify the chosen key name.\n",
      "2025-10-14 01:12:40.459 WARNING: Since ASE version 3.23.0b1, using forces_key 'forces' is no longer safe when communicating between MACE and ASE. We recommend using a different key, rewriting 'forces' to 'REF_forces'. You need to use --forces_key='REF_forces' to specify the chosen key name.\n",
      "2025-10-14 01:12:40.496 INFO: Test set 1/1 [energy: 400, stress: 0, virials: 0, dipole components: 0, head: 400, elec_temp: 0, total_charge: 0, polarizability: 0, total_spin: 0, forces: 400, charges: 0]\n",
      "2025-10-14 01:12:40.498 INFO: Total Test set [energy: 400, stress: 0, virials: 0, dipole components: 0, head: 400, elec_temp: 0, total_charge: 0, polarizability: 0, total_spin: 0, forces: 400, charges: 0]\n",
      "2025-10-14 01:12:40.498 INFO: Total number of configurations: train=225, valid=25, tests=[Fe5B5_Default: 10, Fe5B4Si1_Default: 45, Fe5B3Si2_Default: 45, B2Fe30_Default: 15, Fe5B2Si3_Default: 45, Fe12Si4_Default: 11, Fe13Si1B1_Default: 229],\n",
      "2025-10-14 01:12:40.499 INFO: Atomic Numbers used: [5, 14, 26]\n",
      "2025-10-14 01:12:40.500 INFO: Isolated Atomic Energies (E0s) not in training file, using command line argument\n",
      "2025-10-14 01:12:40.500 INFO: Computing average Atomic Energies using least squares regression\n",
      "2025-10-14 01:12:40.501 INFO: Atomic Energies used (z: eV) for head Default: {5: -5.2454547575232064, 14: -2.7172499588574333, 26: -8.26812476151643}\n",
      "2025-10-14 01:12:40.502 INFO: Processing datasets for head 'Default'\n",
      "2025-10-14 01:12:40.645 INFO: Combining 1 list datasets for head 'Default'\n",
      "2025-10-14 01:12:40.664 INFO: Head 'Default' training dataset size: 225\n",
      "2025-10-14 01:12:40.666 INFO: Computing average number of neighbors\n",
      "2025-10-14 01:12:40.762 INFO: Average number of neighbors: 19.232065200805664\n",
      "2025-10-14 01:12:40.763 INFO: During training the following quantities will be reported: energy, forces\n",
      "2025-10-14 01:12:40.765 INFO: ===========MODEL DETAILS===========\n",
      "2025-10-14 01:12:40.811 INFO: Building model\n",
      "2025-10-14 01:12:40.811 INFO: Message passing with 32 channels and max_L=0 (32x0e)\n",
      "2025-10-14 01:12:40.812 INFO: 2 layers, each with correlation order: 3 (body order: 4) and spherical harmonics up to: l=3\n",
      "2025-10-14 01:12:40.812 INFO: 8 radial and 5 basis functions\n",
      "2025-10-14 01:12:40.813 INFO: Radial cutoff: 4.0 A (total receptive field for each atom: 8.0 A)\n",
      "2025-10-14 01:12:40.813 INFO: Distance transform for radial basis functions: None\n",
      "2025-10-14 01:12:40.814 INFO: Hidden irreps: 32x0e\n",
      "2025-10-14 01:12:41.542 INFO: Total number of parameters: 67472\n",
      "2025-10-14 01:12:41.543 INFO: \n",
      "2025-10-14 01:12:41.543 INFO: ===========OPTIMIZER INFORMATION===========\n",
      "2025-10-14 01:12:41.543 INFO: Using ADAM as parameter optimizer\n",
      "2025-10-14 01:12:41.544 INFO: Batch size: 10\n",
      "2025-10-14 01:12:41.544 INFO: Number of gradient updates: 112\n",
      "2025-10-14 01:12:41.544 INFO: Learning rate: 0.01, weight decay: 5e-07\n",
      "2025-10-14 01:12:41.545 INFO: WeightedEnergyForcesLoss(energy_weight=1.000, forces_weight=100.000)\n",
      "2025-10-14 01:12:41.546 INFO: Using gradient clipping with tolerance=10.000\n",
      "2025-10-14 01:12:41.546 INFO: \n",
      "2025-10-14 01:12:41.547 INFO: ===========TRAINING===========\n",
      "2025-10-14 01:12:41.547 INFO: Started training, reporting errors on validation set\n",
      "2025-10-14 01:12:41.547 INFO: Loss metrics on validation set\n"
     ]
    },
    {
     "ename": "TypeError",
     "evalue": "Cannot convert a MPS Tensor to float64 dtype as the MPS framework doesn't support float64. Please use float32 instead.",
     "output_type": "error",
     "traceback": [
      "\u001b[0;31m---------------------------------------------------------------------------\u001b[0m",
      "\u001b[0;31mTypeError\u001b[0m                                 Traceback (most recent call last)",
      "Cell \u001b[0;32mIn[26], line 12\u001b[0m\n\u001b[1;32m      9\u001b[0m     sys\u001b[38;5;241m.\u001b[39margv \u001b[38;5;241m=\u001b[39m [\u001b[38;5;124m\"\u001b[39m\u001b[38;5;124mprogram\u001b[39m\u001b[38;5;124m\"\u001b[39m, \u001b[38;5;124m\"\u001b[39m\u001b[38;5;124m--config\u001b[39m\u001b[38;5;124m\"\u001b[39m, config_file_path]  \u001b[38;5;66;03m# Simulates command line\u001b[39;00m\n\u001b[1;32m     10\u001b[0m     mace_run_train_main()  \u001b[38;5;66;03m# Calls the main function directly\u001b[39;00m\n\u001b[0;32m---> 12\u001b[0m \u001b[43mtrain_mace\u001b[49m\u001b[43m(\u001b[49m\u001b[38;5;124;43m\"\u001b[39;49m\u001b[38;5;124;43mconfig_mace_3bpa_mps.yml\u001b[39;49m\u001b[38;5;124;43m\"\u001b[39;49m\u001b[43m)\u001b[49m\n",
      "Cell \u001b[0;32mIn[26], line 10\u001b[0m, in \u001b[0;36mtrain_mace\u001b[0;34m(config_file_path)\u001b[0m\n\u001b[1;32m      8\u001b[0m logging\u001b[38;5;241m.\u001b[39mgetLogger()\u001b[38;5;241m.\u001b[39mhandlers\u001b[38;5;241m.\u001b[39mclear()\n\u001b[1;32m      9\u001b[0m sys\u001b[38;5;241m.\u001b[39margv \u001b[38;5;241m=\u001b[39m [\u001b[38;5;124m\"\u001b[39m\u001b[38;5;124mprogram\u001b[39m\u001b[38;5;124m\"\u001b[39m, \u001b[38;5;124m\"\u001b[39m\u001b[38;5;124m--config\u001b[39m\u001b[38;5;124m\"\u001b[39m, config_file_path]  \u001b[38;5;66;03m# Simulates command line\u001b[39;00m\n\u001b[0;32m---> 10\u001b[0m \u001b[43mmace_run_train_main\u001b[49m\u001b[43m(\u001b[49m\u001b[43m)\u001b[49m\n",
      "File \u001b[0;32m/Library/Frameworks/Python.framework/Versions/3.9/lib/python3.9/site-packages/mace/cli/run_train.py:77\u001b[0m, in \u001b[0;36mmain\u001b[0;34m()\u001b[0m\n\u001b[1;32m     73\u001b[0m \u001b[38;5;250m\u001b[39m\u001b[38;5;124;03m\"\"\"\u001b[39;00m\n\u001b[1;32m     74\u001b[0m \u001b[38;5;124;03mThis script runs the training/fine tuning for mace\u001b[39;00m\n\u001b[1;32m     75\u001b[0m \u001b[38;5;124;03m\"\"\"\u001b[39;00m\n\u001b[1;32m     76\u001b[0m args \u001b[38;5;241m=\u001b[39m tools\u001b[38;5;241m.\u001b[39mbuild_default_arg_parser()\u001b[38;5;241m.\u001b[39mparse_args()\n\u001b[0;32m---> 77\u001b[0m \u001b[43mrun\u001b[49m\u001b[43m(\u001b[49m\u001b[43margs\u001b[49m\u001b[43m)\u001b[49m\n",
      "File \u001b[0;32m/Library/Frameworks/Python.framework/Versions/3.9/lib/python3.9/site-packages/mace/cli/run_train.py:837\u001b[0m, in \u001b[0;36mrun\u001b[0;34m(args)\u001b[0m\n\u001b[1;32m    831\u001b[0m     \u001b[38;5;28;01mexcept\u001b[39;00m \u001b[38;5;167;01mImportError\u001b[39;00m \u001b[38;5;28;01mas\u001b[39;00m e:\n\u001b[1;32m    832\u001b[0m         logging\u001b[38;5;241m.\u001b[39merror(\n\u001b[1;32m    833\u001b[0m             \u001b[38;5;124m\"\u001b[39m\u001b[38;5;124mIntel Extension for PyTorch not found, but XPU device was specified. \u001b[39m\u001b[38;5;124m\"\u001b[39m\n\u001b[1;32m    834\u001b[0m             \u001b[38;5;124m\"\u001b[39m\u001b[38;5;124mPlease install it to use XPU device.\u001b[39m\u001b[38;5;124m\"\u001b[39m\n\u001b[1;32m    835\u001b[0m         )\n\u001b[0;32m--> 837\u001b[0m \u001b[43mtools\u001b[49m\u001b[38;5;241;43m.\u001b[39;49m\u001b[43mtrain\u001b[49m\u001b[43m(\u001b[49m\n\u001b[1;32m    838\u001b[0m \u001b[43m    \u001b[49m\u001b[43mmodel\u001b[49m\u001b[38;5;241;43m=\u001b[39;49m\u001b[43mmodel\u001b[49m\u001b[43m,\u001b[49m\n\u001b[1;32m    839\u001b[0m \u001b[43m    \u001b[49m\u001b[43mloss_fn\u001b[49m\u001b[38;5;241;43m=\u001b[39;49m\u001b[43mloss_fn\u001b[49m\u001b[43m,\u001b[49m\n\u001b[1;32m    840\u001b[0m \u001b[43m    \u001b[49m\u001b[43mtrain_loader\u001b[49m\u001b[38;5;241;43m=\u001b[39;49m\u001b[43mtrain_loader\u001b[49m\u001b[43m,\u001b[49m\n\u001b[1;32m    841\u001b[0m \u001b[43m    \u001b[49m\u001b[43mvalid_loaders\u001b[49m\u001b[38;5;241;43m=\u001b[39;49m\u001b[43mvalid_loaders\u001b[49m\u001b[43m,\u001b[49m\n\u001b[1;32m    842\u001b[0m \u001b[43m    \u001b[49m\u001b[43moptimizer\u001b[49m\u001b[38;5;241;43m=\u001b[39;49m\u001b[43moptimizer\u001b[49m\u001b[43m,\u001b[49m\n\u001b[1;32m    843\u001b[0m \u001b[43m    \u001b[49m\u001b[43mlr_scheduler\u001b[49m\u001b[38;5;241;43m=\u001b[39;49m\u001b[43mlr_scheduler\u001b[49m\u001b[43m,\u001b[49m\n\u001b[1;32m    844\u001b[0m \u001b[43m    \u001b[49m\u001b[43mcheckpoint_handler\u001b[49m\u001b[38;5;241;43m=\u001b[39;49m\u001b[43mcheckpoint_handler\u001b[49m\u001b[43m,\u001b[49m\n\u001b[1;32m    845\u001b[0m \u001b[43m    \u001b[49m\u001b[43meval_interval\u001b[49m\u001b[38;5;241;43m=\u001b[39;49m\u001b[43margs\u001b[49m\u001b[38;5;241;43m.\u001b[39;49m\u001b[43meval_interval\u001b[49m\u001b[43m,\u001b[49m\n\u001b[1;32m    846\u001b[0m \u001b[43m    \u001b[49m\u001b[43mstart_epoch\u001b[49m\u001b[38;5;241;43m=\u001b[39;49m\u001b[43mstart_epoch\u001b[49m\u001b[43m,\u001b[49m\n\u001b[1;32m    847\u001b[0m \u001b[43m    \u001b[49m\u001b[43mmax_num_epochs\u001b[49m\u001b[38;5;241;43m=\u001b[39;49m\u001b[43margs\u001b[49m\u001b[38;5;241;43m.\u001b[39;49m\u001b[43mmax_num_epochs\u001b[49m\u001b[43m,\u001b[49m\n\u001b[1;32m    848\u001b[0m \u001b[43m    \u001b[49m\u001b[43mlogger\u001b[49m\u001b[38;5;241;43m=\u001b[39;49m\u001b[43mlogger\u001b[49m\u001b[43m,\u001b[49m\n\u001b[1;32m    849\u001b[0m \u001b[43m    \u001b[49m\u001b[43mpatience\u001b[49m\u001b[38;5;241;43m=\u001b[39;49m\u001b[43margs\u001b[49m\u001b[38;5;241;43m.\u001b[39;49m\u001b[43mpatience\u001b[49m\u001b[43m,\u001b[49m\n\u001b[1;32m    850\u001b[0m \u001b[43m    \u001b[49m\u001b[43msave_all_checkpoints\u001b[49m\u001b[38;5;241;43m=\u001b[39;49m\u001b[43margs\u001b[49m\u001b[38;5;241;43m.\u001b[39;49m\u001b[43msave_all_checkpoints\u001b[49m\u001b[43m,\u001b[49m\n\u001b[1;32m    851\u001b[0m \u001b[43m    \u001b[49m\u001b[43moutput_args\u001b[49m\u001b[38;5;241;43m=\u001b[39;49m\u001b[43moutput_args\u001b[49m\u001b[43m,\u001b[49m\n\u001b[1;32m    852\u001b[0m \u001b[43m    \u001b[49m\u001b[43mdevice\u001b[49m\u001b[38;5;241;43m=\u001b[39;49m\u001b[43mdevice\u001b[49m\u001b[43m,\u001b[49m\n\u001b[1;32m    853\u001b[0m \u001b[43m    \u001b[49m\u001b[43mswa\u001b[49m\u001b[38;5;241;43m=\u001b[39;49m\u001b[43mswa\u001b[49m\u001b[43m,\u001b[49m\n\u001b[1;32m    854\u001b[0m \u001b[43m    \u001b[49m\u001b[43mema\u001b[49m\u001b[38;5;241;43m=\u001b[39;49m\u001b[43mema\u001b[49m\u001b[43m,\u001b[49m\n\u001b[1;32m    855\u001b[0m \u001b[43m    \u001b[49m\u001b[43mmax_grad_norm\u001b[49m\u001b[38;5;241;43m=\u001b[39;49m\u001b[43margs\u001b[49m\u001b[38;5;241;43m.\u001b[39;49m\u001b[43mclip_grad\u001b[49m\u001b[43m,\u001b[49m\n\u001b[1;32m    856\u001b[0m \u001b[43m    \u001b[49m\u001b[43mlog_errors\u001b[49m\u001b[38;5;241;43m=\u001b[39;49m\u001b[43margs\u001b[49m\u001b[38;5;241;43m.\u001b[39;49m\u001b[43merror_table\u001b[49m\u001b[43m,\u001b[49m\n\u001b[1;32m    857\u001b[0m \u001b[43m    \u001b[49m\u001b[43mlog_wandb\u001b[49m\u001b[38;5;241;43m=\u001b[39;49m\u001b[43margs\u001b[49m\u001b[38;5;241;43m.\u001b[39;49m\u001b[43mwandb\u001b[49m\u001b[43m,\u001b[49m\n\u001b[1;32m    858\u001b[0m \u001b[43m    \u001b[49m\u001b[43mdistributed\u001b[49m\u001b[38;5;241;43m=\u001b[39;49m\u001b[43margs\u001b[49m\u001b[38;5;241;43m.\u001b[39;49m\u001b[43mdistributed\u001b[49m\u001b[43m,\u001b[49m\n\u001b[1;32m    859\u001b[0m \u001b[43m    \u001b[49m\u001b[43mdistributed_model\u001b[49m\u001b[38;5;241;43m=\u001b[39;49m\u001b[43mdistributed_model\u001b[49m\u001b[43m,\u001b[49m\n\u001b[1;32m    860\u001b[0m \u001b[43m    \u001b[49m\u001b[43mplotter\u001b[49m\u001b[38;5;241;43m=\u001b[39;49m\u001b[43mplotter\u001b[49m\u001b[43m,\u001b[49m\n\u001b[1;32m    861\u001b[0m \u001b[43m    \u001b[49m\u001b[43mtrain_sampler\u001b[49m\u001b[38;5;241;43m=\u001b[39;49m\u001b[43mtrain_sampler\u001b[49m\u001b[43m,\u001b[49m\n\u001b[1;32m    862\u001b[0m \u001b[43m    \u001b[49m\u001b[43mrank\u001b[49m\u001b[38;5;241;43m=\u001b[39;49m\u001b[43mrank\u001b[49m\u001b[43m,\u001b[49m\n\u001b[1;32m    863\u001b[0m \u001b[43m\u001b[49m\u001b[43m)\u001b[49m\n\u001b[1;32m    865\u001b[0m logging\u001b[38;5;241m.\u001b[39minfo(\u001b[38;5;124m\"\u001b[39m\u001b[38;5;124m\"\u001b[39m)\n\u001b[1;32m    866\u001b[0m logging\u001b[38;5;241m.\u001b[39minfo(\u001b[38;5;124m\"\u001b[39m\u001b[38;5;124m===========RESULTS===========\u001b[39m\u001b[38;5;124m\"\u001b[39m)\n",
      "File \u001b[0;32m/Library/Frameworks/Python.framework/Versions/3.9/lib/python3.9/site-packages/mace/tools/train.py:195\u001b[0m, in \u001b[0;36mtrain\u001b[0;34m(model, loss_fn, train_loader, valid_loaders, optimizer, lr_scheduler, start_epoch, max_num_epochs, patience, checkpoint_handler, logger, eval_interval, output_args, device, log_errors, swa, ema, max_grad_norm, log_wandb, distributed, save_all_checkpoints, plotter, distributed_model, train_sampler, rank)\u001b[0m\n\u001b[1;32m    193\u001b[0m \u001b[38;5;66;03m# log validation loss before _any_ training\u001b[39;00m\n\u001b[1;32m    194\u001b[0m \u001b[38;5;28;01mfor\u001b[39;00m valid_loader_name, valid_loader \u001b[38;5;129;01min\u001b[39;00m valid_loaders\u001b[38;5;241m.\u001b[39mitems():\n\u001b[0;32m--> 195\u001b[0m     valid_loss_head, eval_metrics \u001b[38;5;241m=\u001b[39m \u001b[43mevaluate\u001b[49m\u001b[43m(\u001b[49m\n\u001b[1;32m    196\u001b[0m \u001b[43m        \u001b[49m\u001b[43mmodel\u001b[49m\u001b[38;5;241;43m=\u001b[39;49m\u001b[43mmodel\u001b[49m\u001b[43m,\u001b[49m\n\u001b[1;32m    197\u001b[0m \u001b[43m        \u001b[49m\u001b[43mloss_fn\u001b[49m\u001b[38;5;241;43m=\u001b[39;49m\u001b[43mloss_fn\u001b[49m\u001b[43m,\u001b[49m\n\u001b[1;32m    198\u001b[0m \u001b[43m        \u001b[49m\u001b[43mdata_loader\u001b[49m\u001b[38;5;241;43m=\u001b[39;49m\u001b[43mvalid_loader\u001b[49m\u001b[43m,\u001b[49m\n\u001b[1;32m    199\u001b[0m \u001b[43m        \u001b[49m\u001b[43moutput_args\u001b[49m\u001b[38;5;241;43m=\u001b[39;49m\u001b[43moutput_args\u001b[49m\u001b[43m,\u001b[49m\n\u001b[1;32m    200\u001b[0m \u001b[43m        \u001b[49m\u001b[43mdevice\u001b[49m\u001b[38;5;241;43m=\u001b[39;49m\u001b[43mdevice\u001b[49m\u001b[43m,\u001b[49m\n\u001b[1;32m    201\u001b[0m \u001b[43m    \u001b[49m\u001b[43m)\u001b[49m\n\u001b[1;32m    202\u001b[0m     valid_err_log(\n\u001b[1;32m    203\u001b[0m         valid_loss_head, eval_metrics, logger, log_errors, \u001b[38;5;28;01mNone\u001b[39;00m, valid_loader_name\n\u001b[1;32m    204\u001b[0m     )\n\u001b[1;32m    205\u001b[0m valid_loss \u001b[38;5;241m=\u001b[39m valid_loss_head  \u001b[38;5;66;03m# consider only the last head for the checkpoint\u001b[39;00m\n",
      "File \u001b[0;32m/Library/Frameworks/Python.framework/Versions/3.9/lib/python3.9/site-packages/mace/tools/train.py:550\u001b[0m, in \u001b[0;36mevaluate\u001b[0;34m(model, loss_fn, data_loader, output_args, device)\u001b[0m\n\u001b[1;32m    548\u001b[0m     batch \u001b[38;5;241m=\u001b[39m batch\u001b[38;5;241m.\u001b[39mto(device)\n\u001b[1;32m    549\u001b[0m     batch_dict \u001b[38;5;241m=\u001b[39m batch\u001b[38;5;241m.\u001b[39mto_dict()\n\u001b[0;32m--> 550\u001b[0m     output \u001b[38;5;241m=\u001b[39m \u001b[43mmodel\u001b[49m\u001b[43m(\u001b[49m\n\u001b[1;32m    551\u001b[0m \u001b[43m        \u001b[49m\u001b[43mbatch_dict\u001b[49m\u001b[43m,\u001b[49m\n\u001b[1;32m    552\u001b[0m \u001b[43m        \u001b[49m\u001b[43mtraining\u001b[49m\u001b[38;5;241;43m=\u001b[39;49m\u001b[38;5;28;43;01mFalse\u001b[39;49;00m\u001b[43m,\u001b[49m\n\u001b[1;32m    553\u001b[0m \u001b[43m        \u001b[49m\u001b[43mcompute_force\u001b[49m\u001b[38;5;241;43m=\u001b[39;49m\u001b[43moutput_args\u001b[49m\u001b[43m[\u001b[49m\u001b[38;5;124;43m\"\u001b[39;49m\u001b[38;5;124;43mforces\u001b[39;49m\u001b[38;5;124;43m\"\u001b[39;49m\u001b[43m]\u001b[49m\u001b[43m,\u001b[49m\n\u001b[1;32m    554\u001b[0m \u001b[43m        \u001b[49m\u001b[43mcompute_virials\u001b[49m\u001b[38;5;241;43m=\u001b[39;49m\u001b[43moutput_args\u001b[49m\u001b[43m[\u001b[49m\u001b[38;5;124;43m\"\u001b[39;49m\u001b[38;5;124;43mvirials\u001b[39;49m\u001b[38;5;124;43m\"\u001b[39;49m\u001b[43m]\u001b[49m\u001b[43m,\u001b[49m\n\u001b[1;32m    555\u001b[0m \u001b[43m        \u001b[49m\u001b[43mcompute_stress\u001b[49m\u001b[38;5;241;43m=\u001b[39;49m\u001b[43moutput_args\u001b[49m\u001b[43m[\u001b[49m\u001b[38;5;124;43m\"\u001b[39;49m\u001b[38;5;124;43mstress\u001b[39;49m\u001b[38;5;124;43m\"\u001b[39;49m\u001b[43m]\u001b[49m\u001b[43m,\u001b[49m\n\u001b[1;32m    556\u001b[0m \u001b[43m    \u001b[49m\u001b[43m)\u001b[49m\n\u001b[1;32m    557\u001b[0m     avg_loss, aux \u001b[38;5;241m=\u001b[39m metrics(batch, output)\n\u001b[1;32m    559\u001b[0m avg_loss, aux \u001b[38;5;241m=\u001b[39m metrics\u001b[38;5;241m.\u001b[39mcompute()\n",
      "File \u001b[0;32m/Library/Frameworks/Python.framework/Versions/3.9/lib/python3.9/site-packages/torch/nn/modules/module.py:1773\u001b[0m, in \u001b[0;36mModule._wrapped_call_impl\u001b[0;34m(self, *args, **kwargs)\u001b[0m\n\u001b[1;32m   1771\u001b[0m     \u001b[38;5;28;01mreturn\u001b[39;00m \u001b[38;5;28mself\u001b[39m\u001b[38;5;241m.\u001b[39m_compiled_call_impl(\u001b[38;5;241m*\u001b[39margs, \u001b[38;5;241m*\u001b[39m\u001b[38;5;241m*\u001b[39mkwargs)  \u001b[38;5;66;03m# type: ignore[misc]\u001b[39;00m\n\u001b[1;32m   1772\u001b[0m \u001b[38;5;28;01melse\u001b[39;00m:\n\u001b[0;32m-> 1773\u001b[0m     \u001b[38;5;28;01mreturn\u001b[39;00m \u001b[38;5;28;43mself\u001b[39;49m\u001b[38;5;241;43m.\u001b[39;49m\u001b[43m_call_impl\u001b[49m\u001b[43m(\u001b[49m\u001b[38;5;241;43m*\u001b[39;49m\u001b[43margs\u001b[49m\u001b[43m,\u001b[49m\u001b[43m \u001b[49m\u001b[38;5;241;43m*\u001b[39;49m\u001b[38;5;241;43m*\u001b[39;49m\u001b[43mkwargs\u001b[49m\u001b[43m)\u001b[49m\n",
      "File \u001b[0;32m/Library/Frameworks/Python.framework/Versions/3.9/lib/python3.9/site-packages/torch/nn/modules/module.py:1784\u001b[0m, in \u001b[0;36mModule._call_impl\u001b[0;34m(self, *args, **kwargs)\u001b[0m\n\u001b[1;32m   1779\u001b[0m \u001b[38;5;66;03m# If we don't have any hooks, we want to skip the rest of the logic in\u001b[39;00m\n\u001b[1;32m   1780\u001b[0m \u001b[38;5;66;03m# this function, and just call forward.\u001b[39;00m\n\u001b[1;32m   1781\u001b[0m \u001b[38;5;28;01mif\u001b[39;00m \u001b[38;5;129;01mnot\u001b[39;00m (\u001b[38;5;28mself\u001b[39m\u001b[38;5;241m.\u001b[39m_backward_hooks \u001b[38;5;129;01mor\u001b[39;00m \u001b[38;5;28mself\u001b[39m\u001b[38;5;241m.\u001b[39m_backward_pre_hooks \u001b[38;5;129;01mor\u001b[39;00m \u001b[38;5;28mself\u001b[39m\u001b[38;5;241m.\u001b[39m_forward_hooks \u001b[38;5;129;01mor\u001b[39;00m \u001b[38;5;28mself\u001b[39m\u001b[38;5;241m.\u001b[39m_forward_pre_hooks\n\u001b[1;32m   1782\u001b[0m         \u001b[38;5;129;01mor\u001b[39;00m _global_backward_pre_hooks \u001b[38;5;129;01mor\u001b[39;00m _global_backward_hooks\n\u001b[1;32m   1783\u001b[0m         \u001b[38;5;129;01mor\u001b[39;00m _global_forward_hooks \u001b[38;5;129;01mor\u001b[39;00m _global_forward_pre_hooks):\n\u001b[0;32m-> 1784\u001b[0m     \u001b[38;5;28;01mreturn\u001b[39;00m \u001b[43mforward_call\u001b[49m\u001b[43m(\u001b[49m\u001b[38;5;241;43m*\u001b[39;49m\u001b[43margs\u001b[49m\u001b[43m,\u001b[49m\u001b[43m \u001b[49m\u001b[38;5;241;43m*\u001b[39;49m\u001b[38;5;241;43m*\u001b[39;49m\u001b[43mkwargs\u001b[49m\u001b[43m)\u001b[49m\n\u001b[1;32m   1786\u001b[0m result \u001b[38;5;241m=\u001b[39m \u001b[38;5;28;01mNone\u001b[39;00m\n\u001b[1;32m   1787\u001b[0m called_always_called_hooks \u001b[38;5;241m=\u001b[39m \u001b[38;5;28mset\u001b[39m()\n",
      "File \u001b[0;32m/Library/Frameworks/Python.framework/Versions/3.9/lib/python3.9/site-packages/mace/modules/models.py:569\u001b[0m, in \u001b[0;36mScaleShiftMACE.forward\u001b[0;34m(self, data, training, compute_force, compute_virials, compute_stress, compute_displacement, compute_hessian, compute_edge_forces, compute_atomic_stresses, lammps_mliap)\u001b[0m\n\u001b[1;32m    566\u001b[0m inter_e \u001b[38;5;241m=\u001b[39m scatter_sum(node_inter_es, data[\u001b[38;5;124m\"\u001b[39m\u001b[38;5;124mbatch\u001b[39m\u001b[38;5;124m\"\u001b[39m], dim\u001b[38;5;241m=\u001b[39m\u001b[38;5;241m-\u001b[39m\u001b[38;5;241m1\u001b[39m, dim_size\u001b[38;5;241m=\u001b[39mnum_graphs)\n\u001b[1;32m    568\u001b[0m total_energy \u001b[38;5;241m=\u001b[39m e0 \u001b[38;5;241m+\u001b[39m inter_e\n\u001b[0;32m--> 569\u001b[0m node_energy \u001b[38;5;241m=\u001b[39m \u001b[43mnode_e0\u001b[49m\u001b[38;5;241;43m.\u001b[39;49m\u001b[43mclone\u001b[49m\u001b[43m(\u001b[49m\u001b[43m)\u001b[49m\u001b[38;5;241;43m.\u001b[39;49m\u001b[43mdouble\u001b[49m\u001b[43m(\u001b[49m\u001b[43m)\u001b[49m \u001b[38;5;241m+\u001b[39m node_inter_es\u001b[38;5;241m.\u001b[39mclone()\u001b[38;5;241m.\u001b[39mdouble()\n\u001b[1;32m    571\u001b[0m forces, virials, stress, hessian, edge_forces \u001b[38;5;241m=\u001b[39m get_outputs(\n\u001b[1;32m    572\u001b[0m     energy\u001b[38;5;241m=\u001b[39minter_e,\n\u001b[1;32m    573\u001b[0m     positions\u001b[38;5;241m=\u001b[39mpositions,\n\u001b[0;32m   (...)\u001b[0m\n\u001b[1;32m    582\u001b[0m     compute_edge_forces\u001b[38;5;241m=\u001b[39mcompute_edge_forces \u001b[38;5;129;01mor\u001b[39;00m compute_atomic_stresses,\n\u001b[1;32m    583\u001b[0m )\n\u001b[1;32m    585\u001b[0m atomic_virials: Optional[torch\u001b[38;5;241m.\u001b[39mTensor] \u001b[38;5;241m=\u001b[39m \u001b[38;5;28;01mNone\u001b[39;00m\n",
      "\u001b[0;31mTypeError\u001b[0m: Cannot convert a MPS Tensor to float64 dtype as the MPS framework doesn't support float64. Please use float32 instead."
     ]
    }
   ],
   "source": [
    "import warnings\n",
    "warnings.filterwarnings(\"ignore\")\n",
    "from mace.cli.run_train import main as mace_run_train_main\n",
    "import sys\n",
    "import logging\n",
    "\n",
    "def train_mace(config_file_path):\n",
    "    logging.getLogger().handlers.clear()\n",
    "    sys.argv = [\"program\", \"--config\", config_file_path]  # Simulates command line\n",
    "    mace_run_train_main()  # Calls the main function directly\n",
    "\n",
    "train_mace(\"config_mace_3bpa_mps.yml\")"
   ]
  }
 ],
 "metadata": {
  "kernelspec": {
   "display_name": "Python 3",
   "language": "python",
   "name": "python3"
  },
  "language_info": {
   "codemirror_mode": {
    "name": "ipython",
    "version": 3
   },
   "file_extension": ".py",
   "mimetype": "text/x-python",
   "name": "python",
   "nbconvert_exporter": "python",
   "pygments_lexer": "ipython3",
   "version": "3.9.13"
  }
 },
 "nbformat": 4,
 "nbformat_minor": 5
}
